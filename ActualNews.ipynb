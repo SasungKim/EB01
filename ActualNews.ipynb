{
 "cells": [
  {
   "cell_type": "code",
   "execution_count": 32,
   "metadata": {},
   "outputs": [
    {
     "name": "stdout",
     "output_type": "stream",
     "text": [
      "[None, None, None, 'Analysis by Chris Cillizza, CNN Editor-at-large', 'Analysis by Brandon Tensley, CNN', 'Artemis Moshtaghian and Catherine E. Shoichet, CNN', 'Opinion by Jen Psaki', None, 'Oliver Darcy, CNN Business', None, 'Shannon Liao, CNN Business', 'Clare Duffy and Alexis Benveniste, CNN Business', 'Analysis by Paul LeBlanc and Zachary B. Wolf, CNN', 'Alicia Lee, CNN', 'Lauren Lee, CNN', 'Jeremy Herb and Manu Raju, CNN', None, 'Paul LeBlanc and Jessica Dean, CNN', None, None, 'Alicia Lee, CNN', 'Lauren Lee, CNN', 'Jill Martin, CNN', 'Analysis by Paul LeBlanc and Zachary B. Wolf, CNN', None, 'Hadas Gold, CNN Business', None, None, 'By David Williams, CNN', 'Brynn Gingras and Eric Levenson, CNN', None, 'Jason Hanna, CNN', 'By <a href=\"/profiles/meg-wagner\">Meg Wagner</a>, Mike Hayes and <a href=\"/profiles/veronica-rocha\">Veronica Rocha</a>, CNN', None, None, None, 'Christina Zdanowicz, CNN', None, None, None, None, None, None, None, 'Sandra Gonzalez, CNN', 'Alaa Elassar, CNN', None, 'Jessie Yeung, CNN', None, None, None, 'Chloe Melas, CNN', 'Francisco Guzman and Brian Ries, CNN', 'Amanda Watts, and Jason Hanna, CNN', None, None, None, None, None, None, 'Nina dos Santos and James Frater, CNN', 'Brian Stelter, CNN Business', 'Analysis by Chris Cillizza, CNN Editor-at-large', 'Christina Maxouris, CNN', 'Jean Casarez, CNN', 'Jen Rose Smith, CNN', None, None, None, None, 'Matt Villano, CNN', 'Duarte Mendonca, for CNN', None, None, None, 'Michael Warren, CNN', 'Jessie Yeung and Sara Mazloumsaki, CNN', None, None, 'Jessie Yeung, CNN', None, 'Jessie Yeung, CNN', 'Analysis by John Harwood, CNN', 'By Emiko Jozuka and Yoko Wakatsuki, CNN', None, None, 'Barbara Starr and Zachary Cohen, CNN', 'Hanna Ziady, CNN Business', None, 'George Ramsay, CNN', None, None, 'Toyin Owoseje, CNN', 'By Lisa France, Marianne Garvey and Delaney Strunk, CNN', 'Analysis by James Griffiths, CNN', None, None, None, None, None]\n"
     ]
    },
    {
     "data": {
      "text/plain": [
       "\"\\n# News from BuzzFeed\\n\\nBF_url = ('https://newsapi.org/v2/everything?'\\n       'domains=buzzfeed.com&'\\n       'sortBy=popularity&'\\n       'apiKey=ddb22f3ef2b54abe8af228db83421424')\\n\\nBuzzFeed = requests.get(BF_url)\\n\\n#print (BuzzFeed.json())\\n\\n\""
      ]
     },
     "execution_count": 32,
     "metadata": {},
     "output_type": "execute_result"
    }
   ],
   "source": [
    "# Get a news about specific topic\n",
    "# To change topic (or select topic), change q = '' part\n",
    "# To get specific news domain, use domains = '<news domain url>&'\n",
    "# Use page=#& to get more results\n",
    "\n",
    "\n",
    "# Author(maybe), title, description, url, content, publishing date, source ID \n",
    "\n",
    "# make dataset with CNN news article and try machine learning\n",
    "# Visualized feature values\n",
    "\n",
    "\n",
    "import requests\n",
    "\n",
    "# List creation\n",
    "\n",
    "source_id = []\n",
    "author = []\n",
    "title = []\n",
    "description = []\n",
    "url = []\n",
    "content = []\n",
    "pub_date = []\n",
    "\n",
    "\n",
    "# Read 100 news articles (20 articles per each page, 5 pages) and parse each data into corresponding lists\n",
    "for i in range(1, 6):\n",
    "\n",
    "    # News from CNN\n",
    "    CNN_url = ('https://newsapi.org/v2/everything?'\n",
    "           'domains=cnn.com&'\n",
    "           f'page={i}&'\n",
    "           'from=2020-01-27&'\n",
    "           'sortBy=popularity&'\n",
    "           'apiKey=ddb22f3ef2b54abe8af228db83421424')\n",
    "\n",
    "    CNN = requests.get(CNN_url)\n",
    "\n",
    "    #print(CNN.json())\n",
    "    \n",
    "    for elements in CNN.json()['articles']:\n",
    "        for sources in elements['source']:\n",
    "            source_id.append(sources[0])\n",
    "        author.append(elements['author'])\n",
    "        title.append(elements['title'])\n",
    "        description.append(elements['description'])\n",
    "        url.append(elements['url'])\n",
    "        content.append(elements['content'])\n",
    "        pub_date.append(elements['publishedAt'])\n",
    "        \n",
    "        \n",
    "        # *For CNN Only: check if the content is video and data does not related to the article\n",
    "        #if (elements['content'] == 'None' or elements['content'] == \"Chat with us in Facebook Messenger. Find out what's happening in the world as it unfolds.\"):\n",
    "        #    pass\n",
    "            #print(elements['description'])\n",
    "        #else:\n",
    "            #print (elements['content'])\n",
    "        #    pass\n",
    "\n",
    "# Test for parsed data        \n",
    "print(author)\n",
    "\n"
   ]
  },
  {
   "cell_type": "code",
   "execution_count": null,
   "metadata": {},
   "outputs": [],
   "source": []
  }
 ],
 "metadata": {
  "kernelspec": {
   "display_name": "Python 3",
   "language": "python",
   "name": "python3"
  },
  "language_info": {
   "codemirror_mode": {
    "name": "ipython",
    "version": 3
   },
   "file_extension": ".py",
   "mimetype": "text/x-python",
   "name": "python",
   "nbconvert_exporter": "python",
   "pygments_lexer": "ipython3",
   "version": "3.7.3"
  }
 },
 "nbformat": 4,
 "nbformat_minor": 4
}
