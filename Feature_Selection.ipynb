{
 "cells": [
  {
   "cell_type": "code",
   "execution_count": 2,
   "metadata": {},
   "outputs": [],
   "source": [
    "import requests\n",
    "import numpy as np\n",
    "import pandas as pd\n",
    "import csv\n",
    "\n",
    "# For Individual Feature Extraction \n",
    "from sklearn.feature_extraction.text import CountVectorizer\n",
    "import nltk\n",
    "import re\n",
    "from collections import Counter\n",
    "\n",
    "# For Relational Feature Extraction\n",
    "from statistics import mean\n",
    "import math\n",
    "\n",
    "# For feature analyzation\n",
    "#enable multiple outputs per cell\n",
    "from IPython.core.interactiveshell import InteractiveShell\n",
    "\n",
    "# increase size of output window\n",
    "from IPython.core.display import display, HTML\n",
    "\n",
    "# import libraries\n",
    "import matplotlib.pyplot as plt\n",
    "import seaborn as sns\n",
    "from scipy.stats import norm\n",
    "from sklearn.preprocessing import StandardScaler\n",
    "from scipy import stats\n",
    "import warnings\n",
    "\n",
    "# For machine learning\n",
    "from sklearn import svm\n",
    "from sklearn.svm import SVC\n",
    "\n",
    "# Modeling\n",
    "from sklearn import preprocessing\n",
    "from sklearn.model_selection import train_test_split\n",
    "from sklearn.naive_bayes import GaussianNB\n",
    "from sklearn.svm import LinearSVC\n",
    "from sklearn.neighbors import KNeighborsClassifier\n",
    "\n",
    "# Evaluation\n",
    "from sklearn.metrics import accuracy_score\n",
    "from yellowbrick.classifier import ClassificationReport\n",
    "from sklearn.metrics import confusion_matrix\n",
    "from sklearn.metrics import f1_score\n",
    "\n",
    "# Cross-validation\n",
    "from sklearn.pipeline import make_pipeline\n",
    "from sklearn.model_selection import cross_val_score\n",
    "from sklearn.model_selection import KFold\n",
    "from sklearn.model_selection import StratifiedKFold\n",
    "from sklearn.model_selection import GridSearchCV\n",
    "\n",
    "\n",
    "# Saving\n",
    "import joblib\n",
    "from joblib import dump, load\n",
    "\n",
    "from sklearn.utils import shuffle\n",
    "from sklearn.feature_selection import SelectKBest\n",
    "from sklearn.feature_selection import chi2\n",
    "\n",
    "header = ['Unnamed: 0', 'Statement', 'Label','function','pronoun','ppron','i','we','you','shehe','they','ipron','article','prep',\n",
    "          'auxverb','adverb','conj','negate','verb','adj','compare','interrog','number','quant','affect',\n",
    "          'posemo','negemo','anx','anger','sad','social','family','friend','female','male','cogproc',\n",
    "          'insight','cause','discrep','tentat','certain','differ','percept','see','hear','feel','bio',\n",
    "          'body','health','sexual','ingest','drives','affiliation','achieve','power','reward','risk',\n",
    "          'focuspast','focuspresent','focusfuture','relativ','motion','space','time','work','leisure',\n",
    "          'home','money','relig','death','informal','swear','netspeak','assent','nonflu','filler']\n",
    "\n",
    "train = pd.read_csv('test_feature.csv', delimiter = ',', names = header,  encoding = 'utf-8-sig')\n",
    "train = train.drop(0)\n",
    "test = pd.read_csv('test_feature.csv', delimiter = ',', names = header,  encoding = 'utf-8-sig')\n",
    "test = test.drop(0)\n",
    "valid = pd.read_csv('valid_feature.csv', delimiter = ',', names = header,  encoding = 'utf-8-sig')\n",
    "valid = valid.drop(0)\n",
    "\n",
    "k=15\n",
    "cols = [col for col in train.columns if col not in ['Unnamed: 0', 'Label', 'Statement']]\n"
   ]
  },
  {
   "cell_type": "code",
   "execution_count": null,
   "metadata": {},
   "outputs": [],
   "source": [
    "Univariate Selection"
   ]
  },
  {
   "cell_type": "code",
   "execution_count": 3,
   "metadata": {},
   "outputs": [
    {
     "name": "stdout",
     "output_type": "stream",
     "text": [
      "       Features      Score\n",
      "57      relativ  31.934933\n",
      "0      function  26.743302\n",
      "59        space  26.014542\n",
      "17      compare  19.147504\n",
      "16          adj  16.465593\n",
      "10         prep  15.824252\n",
      "60         time  12.215824\n",
      "23       negemo   7.916506\n",
      "56  focusfuture   6.640509\n",
      "38       differ   6.615643\n",
      "43          bio   5.798314\n",
      "9       article   5.716533\n",
      "53         risk   5.705253\n",
      "12       adverb   5.604963\n",
      "20        quant   5.463315\n"
     ]
    }
   ],
   "source": [
    "X = train[cols]\n",
    "Y = test.Label\n",
    "\n",
    "bestfeatures = SelectKBest(score_func=chi2, k=10)\n",
    "fit = bestfeatures.fit(X,Y)\n",
    "dfscores = pd.DataFrame(fit.scores_)\n",
    "dfcolumns = pd.DataFrame(X.columns)\n",
    "featureScores = pd.concat([dfcolumns,dfscores],axis=1)\n",
    "featureScores.columns = ['Features','Score']  #naming the dataframe columns\n",
    "print(featureScores.nlargest(15,'Score'))\n",
    "features = pd.DataFrame(featureScores.nlargest(15,'Score'))\n",
    "features_list = features.Features.tolist()\n",
    "\n",
    "\n",
    "new_cols = [col for col in train.columns if col in [features_list[0],features_list[1],features_list[2],features_list[3],\n",
    "                                                    features_list[4],features_list[5],features_list[6],features_list[7],\n",
    "                                                    features_list[8],features_list[9],features_list[10],features_list[11],\n",
    "                                                    features_list[12],features_list[13],features_list[14]]]"
   ]
  },
  {
   "cell_type": "code",
   "execution_count": 4,
   "metadata": {},
   "outputs": [
    {
     "data": {
      "image/png": "[encoded data removed]",
      "text/plain": [
       "<Figure size 432x288 with 2 Axes>"
      ]
     },
     "metadata": {
      "needs_background": "light"
     },
     "output_type": "display_data"
    },
    {
     "name": "stdout",
     "output_type": "stream",
     "text": [
      "KNeighbors Accuracy:  0.755327545382794\n"
     ]
    }
   ],
   "source": [
    "\n",
    "X_train = train[new_cols]\n",
    "Y_train = train['Label']\n",
    "\n",
    "X_test = test[new_cols]\n",
    "Y_test = test['Label']\n",
    "\n",
    "X_valid = valid[new_cols]\n",
    "Y_valid = valid['Label']\n",
    "\n",
    "#Predict on test.csv\n",
    "kn = KNeighborsClassifier(n_neighbors = 3)\n",
    "pred_kn = kn.fit(X_train, Y_train).predict(X_test)\n",
    "\n",
    "KN_test = ClassificationReport(kn, classes=['Fake', 'Not Fake'])\n",
    "KN_test.fit(X_train, Y_train)\n",
    "KN_test.score(X_test, Y_test)\n",
    "KN_test.show()\n",
    "\n",
    "print(\"KNeighbors Accuracy: \", accuracy_score(Y_test, pred_kn))\n",
    "#print(\"KNeighbors F1-Score: \", f1_score(Y_test, pred_kn))"
   ]
  },
  {
   "cell_type": "code",
   "execution_count": 5,
   "metadata": {},
   "outputs": [
    {
     "data": {
      "image/png": "[encoded data removed]",
      "text/plain": [
       "<Figure size 432x288 with 2 Axes>"
      ]
     },
     "metadata": {
      "needs_background": "light"
     },
     "output_type": "display_data"
    },
    {
     "name": "stdout",
     "output_type": "stream",
     "text": [
      "KNeighbors Accuracy:  0.5038940809968847\n"
     ]
    }
   ],
   "source": [
    "#Predict on valid.csv\n",
    "pred_kn = kn.fit(X_train, Y_train).predict(X_valid)\n",
    "KN_valid = ClassificationReport(kn, classes = ['Fake', 'Not Fake'])\n",
    "KN_valid.fit(X_train, Y_train)\n",
    "KN_valid.score(X_valid, Y_valid)\n",
    "KN_valid.show()\n",
    "\n",
    "print(\"KNeighbors Accuracy: \", accuracy_score(Y_valid, pred_kn))\n",
    "#print(\"KNeighbors F1-Score: \", f1_score(Y_valid, pred_kn))"
   ]
  },
  {
   "cell_type": "code",
   "execution_count": null,
   "metadata": {},
   "outputs": [],
   "source": [
    "Feature Importance"
   ]
  },
  {
   "cell_type": "code",
   "execution_count": 4,
   "metadata": {},
   "outputs": [
    {
     "name": "stderr",
     "output_type": "stream",
     "text": [
      "C:\\Users\\chenj\\Anaconda3\\lib\\site-packages\\sklearn\\ensemble\\forest.py:245: FutureWarning: The default value of n_estimators will change from 10 in version 0.20 to 100 in 0.22.\n",
      "  \"10 in version 0.20 to 100 in 0.22.\", FutureWarning)\n"
     ]
    },
    {
     "name": "stdout",
     "output_type": "stream",
     "text": [
      "[0.04389759 0.02449347 0.0135897  0.00416358 0.00766124 0.00582508\n",
      " 0.00835821 0.00592264 0.01849879 0.03968824 0.03798971 0.02841096\n",
      " 0.02100935 0.02975775 0.01956267 0.03132959 0.02263953 0.01986756\n",
      " 0.01489631 0.01237864 0.02320725 0.01541965 0.01257756 0.00650917\n",
      " 0.00107205 0.00181779 0.00651439 0.02469607 0.0021491  0.00041098\n",
      " 0.00477931 0.00842978 0.02726865 0.00877891 0.01445247 0.01187123\n",
      " 0.01151784 0.01427014 0.0216467  0.00809832 0.00569908 0.00700365\n",
      " 0.00221348 0.00929471 0.00347426 0.00651654 0.00121275 0.00240426\n",
      " 0.02454776 0.00869781 0.01367276 0.02067663 0.01337397 0.00452508\n",
      " 0.02787924 0.03613245 0.01361264 0.03788788 0.01968225 0.03066952\n",
      " 0.02123647 0.01633055 0.00359875 0.00614455 0.02034786 0.\n",
      " 0.00386654 0.002567   0.         0.00093556 0.         0.00036802\n",
      " 0.        ]\n"
     ]
    },
    {
     "data": {
      "image/png": "[encoded data removed]",
      "text/plain": [
       "<Figure size 432x288 with 1 Axes>"
      ]
     },
     "metadata": {
      "needs_background": "light"
     },
     "output_type": "display_data"
    }
   ],
   "source": [
    "X = train[cols]\n",
    "y = test.Label\n",
    "from sklearn.ensemble import ExtraTreesClassifier\n",
    "model = ExtraTreesClassifier()\n",
    "model.fit(X,y)\n",
    "print(model.feature_importances_) \n",
    "feat_importances = pd.Series(model.feature_importances_, index=X.columns)\n",
    "feat_importances.nlargest(15).plot(kind='barh')\n",
    "features.to_csv('selected_features.csv')\n",
    "features = pd.read_csv('selected_features.csv',delimiter = ',', names = ['Features','Importances'],encoding = 'utf-8-sig')\n",
    "features_list = features.Features.tolist()\n",
    "\n",
    "new_cols = [col for col in train.columns if col in [features_list[0],features_list[1],features_list[2],features_list[3],\n",
    "                                                    features_list[4],features_list[5],features_list[6],features_list[7],\n",
    "                                                    features_list[8],features_list[9],features_list[10],features_list[11],\n",
    "                                                    features_list[12],features_list[13],features_list[14]]]\n"
   ]
  },
  {
   "cell_type": "code",
   "execution_count": 5,
   "metadata": {},
   "outputs": [
    {
     "data": {
      "image/png": "[encoded data removed]",
      "text/plain": [
       "<Figure size 432x288 with 2 Axes>"
      ]
     },
     "metadata": {
      "needs_background": "light"
     },
     "output_type": "display_data"
    },
    {
     "name": "stdout",
     "output_type": "stream",
     "text": [
      "KNeighbors Accuracy:  0.7324388318863457\n"
     ]
    }
   ],
   "source": [
    "X_train = train[new_cols]\n",
    "Y_train = train['Label']\n",
    "\n",
    "X_test = test[new_cols]\n",
    "Y_test = test['Label']\n",
    "\n",
    "X_valid = valid[new_cols]\n",
    "Y_valid = valid['Label']\n",
    "\n",
    "#Predict on test.csv\n",
    "kn = KNeighborsClassifier(n_neighbors = 3)\n",
    "pred_kn = kn.fit(X_train, Y_train).predict(X_test)\n",
    "\n",
    "KN_test = ClassificationReport(kn, classes=['Fake', 'Not Fake'])\n",
    "KN_test.fit(X_train, Y_train)\n",
    "KN_test.score(X_test, Y_test)\n",
    "KN_test.show()\n",
    "\n",
    "print(\"KNeighbors Accuracy: \", accuracy_score(Y_test, pred_kn))\n",
    "#print(\"KNeighbors F1-Score: \", f1_score(Y_test, pred_kn))"
   ]
  },
  {
   "cell_type": "code",
   "execution_count": 10,
   "metadata": {},
   "outputs": [
    {
     "data": {
      "image/png": "[encoded data removed]",
      "text/plain": [
       "<Figure size 432x288 with 2 Axes>"
      ]
     },
     "metadata": {
      "needs_background": "light"
     },
     "output_type": "display_data"
    },
    {
     "name": "stdout",
     "output_type": "stream",
     "text": [
      "KNeighbors Accuracy:  0.5218068535825545\n"
     ]
    }
   ],
   "source": [
    "#Predict on valid.csv\n",
    "pred_kn = kn.fit(X_train, Y_train).predict(X_valid)\n",
    "KN_valid = ClassificationReport(kn, classes = ['Fake', 'Not Fake'])\n",
    "KN_valid.fit(X_train, Y_train)\n",
    "KN_valid.score(X_valid, Y_valid)\n",
    "KN_valid.show()\n",
    "\n",
    "print(\"KNeighbors Accuracy: \", accuracy_score(Y_valid, pred_kn))\n",
    "#print(\"KNeighbors F1-Score: \", f1_score(Y_test, pred_kn))"
   ]
  },
  {
   "cell_type": "code",
   "execution_count": null,
   "metadata": {},
   "outputs": [],
   "source": []
  }
 ],
 "metadata": {
  "kernelspec": {
   "display_name": "Python 3",
   "language": "python",
   "name": "python3"
  },
  "language_info": {
   "codemirror_mode": {
    "name": "ipython",
    "version": 3
   },
   "file_extension": ".py",
   "mimetype": "text/x-python",
   "name": "python",
   "nbconvert_exporter": "python",
   "pygments_lexer": "ipython3",
   "version": "3.7.4"
  }
 },
 "nbformat": 4,
 "nbformat_minor": 4
}
