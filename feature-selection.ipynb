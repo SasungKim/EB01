{
 "cells": [
  {
   "cell_type": "markdown",
   "metadata": {},
   "source": [
    "Resources: \n",
    "- https://www.kaggle.com/ferneutron/feature-extraction-with-different-methods\n",
    "- https://towardsdatascience.com/why-how-and-when-to-apply-feature-selection-e9c69adfabf2"
   ]
  },
  {
   "cell_type": "markdown",
   "metadata": {},
   "source": [
    "## Setting up"
   ]
  },
  {
   "cell_type": "code",
   "execution_count": 13,
   "metadata": {},
   "outputs": [],
   "source": [
    "import pandas as pd # To handle the data set.\n",
    "import seaborn as sb # To display visualizations.\n",
    "import matplotlib.pyplot as plt # To plot\n",
    "import numpy as np\n",
    "\n",
    "from sklearn.model_selection import train_test_split\n",
    "from sklearn.ensemble import RandomForestClassifier # Random Forest\n",
    "from sklearn.neighbors import KNeighborsClassifier # K-Neighbors\n",
    "from sklearn.naive_bayes import GaussianNB # GaussianNB\n",
    "from sklearn.svm import LinearSVC # LinearSVC\n",
    "from sklearn import svm # LinearSVC\n",
    "from sklearn.svm import SVC # LinearSVC\n",
    "from sklearn.metrics import confusion_matrix # To calculate the confusion matrix\n",
    "from sklearn.metrics import accuracy_score # To calculate the score\n",
    "from sklearn.feature_selection import SelectKBest # Univariate Feature Selection\n",
    "from sklearn.feature_selection import chi2 # To apply Univariate Feature Selection\n",
    "from sklearn.feature_selection import f_classif\n",
    "from sklearn.feature_selection import mutual_info_classif\n",
    "from sklearn.feature_selection import RFE # Recursive Feature Selection\n",
    "from sklearn.feature_selection import RFECV # Recursive Feature Selection with Cross Validation\n",
    "from sklearn.feature_selection import VarianceThreshold\n",
    "from sklearn.linear_model import LogisticRegression\n",
    "from sklearn.decomposition import PCA # To apply PCA\n",
    "from sklearn import preprocessing # To get MinMax Scaler function\n",
    "\n",
    "\n",
    "# To plot inline\n",
    "%matplotlib inline\n",
    "\n",
    "# Evaluation\n",
    "from sklearn.metrics import accuracy_score\n",
    "from yellowbrick.classifier import ClassificationReport\n",
    "from sklearn.metrics import confusion_matrix\n",
    "from sklearn.metrics import f1_score\n",
    "from sklearn.model_selection import cross_val_score\n",
    "\n",
    "# enable multiple outputs per cell\n",
    "from IPython.core.interactiveshell import InteractiveShell\n",
    "InteractiveShell.ast_node_interactivity = \"all\"\n",
    "\n",
    "# hide warnings\n",
    "import warnings\n",
    "warnings.filterwarnings('ignore')"
   ]
  },
  {
   "cell_type": "code",
   "execution_count": 185,
   "metadata": {},
   "outputs": [],
   "source": [
    "df = pd.read_csv('./datasets/feature_extracted.csv'\n",
    "                 , sep=',', encoding='utf-8')\n",
    "df = df.dropna();\n",
    "\n",
    "# change label into binary classification\n",
    "#df_raw = df.copy() # copy of df before manipulation just in case\n",
    "df = df.drop('statement', axis=1)\n",
    "df.label.loc[(df['label'] >= 0.5)] = 1;\n",
    "df.label.loc[(df['label'] < 0.5)] = 0;\n",
    "df_target = df['label']\n",
    "df_feature = df.drop('label', axis=1)\n"
   ]
  },
  {
   "cell_type": "code",
   "execution_count": 186,
   "metadata": {},
   "outputs": [
    {
     "name": "stdout",
     "output_type": "stream",
     "text": [
      "Index(['num_-', 'num_\"', 'num_$', 'num_,', 'num_.', 'count_char', 'count_word',\n",
      "       'count_char_per_word', 'count_unique', 'count_uppercase',\n",
      "       'count_pronoun', 'count_they', 'count_article', 'count_auxverb',\n",
      "       'count_adverb', 'count_negate', 'count_adj', 'count_compare',\n",
      "       'count_interrog', 'count_quant', 'count_affect', 'count_anx',\n",
      "       'count_anger', 'count_sad', 'count_social', 'count_family',\n",
      "       'count_female', 'count_male', 'count_insight', 'count_cause',\n",
      "       'count_discrep', 'count_tentat', 'count_certain', 'count_hear',\n",
      "       'count_health', 'count_sexual', 'count_ingest', 'count_affiliation',\n",
      "       'count_achieve', 'count_reward', 'count_risk', 'count_focuspast',\n",
      "       'count_relativ', 'count_space', 'count_leisure', 'count_money',\n",
      "       'count_death', 'count_informal', 'count_swear', 'count_netspeak',\n",
      "       'count_assent', 'count_nonflu'],\n",
      "      dtype='object')\n"
     ]
    }
   ],
   "source": [
    "# remove low variance data\n",
    "def variance_threshold(df, threshold=0.0):\n",
    "    selector = VarianceThreshold(threshold)\n",
    "    VT = selector.fit_transform(df)\n",
    "    return df[df.columns[selector.get_support(indices=True)]]\n",
    "\n",
    "# any column with a probability of having 0 variance above 0.8 will be eliminated\n",
    "# any column with variance lower than 0.16 will be eliminated\n",
    "df_feature = variance_threshold(df_feature, (.8 * (1 - .8)))\n",
    "print(df_feature.columns)"
   ]
  },
  {
   "cell_type": "code",
   "execution_count": 273,
   "metadata": {},
   "outputs": [
    {
     "name": "stdout",
     "output_type": "stream",
     "text": [
      "      num_-  num_\"  num_$  num_,     num_.  count_char  count_word  \\\n",
      "0  0.018182   0.00    0.0    0.0  0.027778    0.021723    0.019481   \n",
      "1  0.000000   0.00    0.0    0.0  0.055556    0.037292    0.047619   \n",
      "2  0.000000   0.25    0.0    0.0  0.027778    0.026792    0.036797   \n",
      "3  0.000000   0.00    0.0    0.0  0.027778    0.020275    0.021645   \n",
      "4  0.000000   0.00    0.0    0.0  0.027778    0.012310    0.017316   \n",
      "\n",
      "   count_char_per_word  count_unique  count_uppercase  ...  count_relativ  \\\n",
      "0             0.465498      0.047872         0.030303  ...       0.000000   \n",
      "1             0.266064      0.106383         0.060606  ...       0.000000   \n",
      "2             0.231452      0.079787         0.080808  ...       0.000000   \n",
      "3             0.361446      0.053191         0.010101  ...       0.000000   \n",
      "4             0.228916      0.042553         0.010101  ...       0.052632   \n",
      "\n",
      "   count_space  count_leisure  count_money  count_death  count_informal  \\\n",
      "0          0.0            0.0         0.25     0.000000        0.000000   \n",
      "1          0.0            0.0         0.00     0.000000        0.035714   \n",
      "2          0.0            0.0         0.25     0.000000        0.000000   \n",
      "3          0.0            0.2         0.00     0.000000        0.000000   \n",
      "4          0.0            0.0         0.00     0.052632        0.000000   \n",
      "\n",
      "   count_swear  count_netspeak  count_assent  count_nonflu  \n",
      "0          0.0             0.0           0.0           0.2  \n",
      "1          0.0             0.0           0.0           0.0  \n",
      "2          0.0             0.0           0.0           0.2  \n",
      "3          0.0             0.0           0.0           0.0  \n",
      "4          0.0             0.0           0.0           0.0  \n",
      "\n",
      "[5 rows x 52 columns]\n"
     ]
    }
   ],
   "source": [
    "# Initializing the MinMaxScaler function\n",
    "min_max_scaler = preprocessing.MinMaxScaler()\n",
    "#standard_scaler = preprocessing.StandardScaler()\n",
    "\n",
    "# Scaling dataset keeping the columns name\n",
    "df_feature_scaled = pd.DataFrame(min_max_scaler.fit_transform(df_feature), columns = df_feature.columns)\n",
    "#X_scaled = pd.DataFrame(standard_scaler.fit_transform(X), columns = X.columns)\n"
   ]
  },
  {
   "cell_type": "code",
   "execution_count": 188,
   "metadata": {},
   "outputs": [],
   "source": [
    "# Splitting  up data, seting 80% for train and 20% for test.\n",
    "x_train, x_test, y_train, y_test = train_test_split(\n",
    "    df_feature_scaled, df_target, test_size=0.2, random_state=42)"
   ]
  },
  {
   "cell_type": "markdown",
   "metadata": {},
   "source": [
    "## Univariate selection"
   ]
  },
  {
   "cell_type": "markdown",
   "metadata": {},
   "source": [
    "### Chi2"
   ]
  },
  {
   "cell_type": "code",
   "execution_count": 275,
   "metadata": {},
   "outputs": [],
   "source": [
    "# Initialize SelectKBest function\n",
    "k = 10\n",
    "selector_chi2 = SelectKBest(chi2,k=10).fit(x_train, y_train)"
   ]
  },
  {
   "cell_type": "code",
   "execution_count": 219,
   "metadata": {
    "scrolled": true
   },
   "outputs": [
    {
     "data": {
      "text/plain": [
       "[(0.7181753334973855, 'count_char_per_word'),\n",
       " (0.8761666808654638, 'count_uppercase'),\n",
       " (1.2197126468441235, 'num_,'),\n",
       " (1.558529575479903, 'count_informal'),\n",
       " (1.6122092695429848, 'count_certain'),\n",
       " (2.12100789833749, 'num_$'),\n",
       " (3.6670420509919124, 'count_they'),\n",
       " (7.762623548602839, 'count_insight'),\n",
       " (7.785147779769392, 'count_ingest'),\n",
       " (7.794872294190457, 'count_interrog')]"
      ]
     },
     "execution_count": 219,
     "metadata": {},
     "output_type": "execute_result"
    }
   ],
   "source": [
    "# Creating a dict to visualize which features were selected with the highest score\n",
    "feature_dict_chi2 = {key:value for (key, value) in zip(\n",
    "    selector_chi2.scores_, x_train.columns)}\n",
    "sorted(feature_dict_chi2.items())[-k:]"
   ]
  },
  {
   "cell_type": "code",
   "execution_count": 293,
   "metadata": {},
   "outputs": [],
   "source": [
    "x_train_chi2 = selector_chi2.transform(x_train)\n",
    "x_test_chi2 = selector_chi2.transform(x_test)"
   ]
  },
  {
   "cell_type": "markdown",
   "metadata": {},
   "source": [
    "## Anova"
   ]
  },
  {
   "cell_type": "code",
   "execution_count": 194,
   "metadata": {},
   "outputs": [],
   "source": [
    "# Initialize SelectKBest function\n",
    "selector_anova = SelectKBest(f_classif, k=10).fit(x_train, y_train)"
   ]
  },
  {
   "cell_type": "code",
   "execution_count": 195,
   "metadata": {
    "scrolled": true
   },
   "outputs": [
    {
     "data": {
      "text/plain": [
       "[(26.536645906574616, 'num_,'),\n",
       " (31.138254481851682, 'count_char_per_word'),\n",
       " (33.596749563401794, 'count_word'),\n",
       " (34.16482291685456, 'count_certain'),\n",
       " (36.00125663696711, 'count_informal'),\n",
       " (40.723387608855056, 'count_they'),\n",
       " (41.28459554180016, 'count_uppercase'),\n",
       " (66.54086624121476, 'count_insight'),\n",
       " (66.74845399583086, 'count_ingest'),\n",
       " (66.83310853853152, 'count_interrog')]"
      ]
     },
     "execution_count": 195,
     "metadata": {},
     "output_type": "execute_result"
    }
   ],
   "source": [
    "feature_dict_anova = {key:value for (key, value) in zip(\n",
    "    selector_anova.scores_, x_train.columns)}\n",
    "sorted(feature_dict_anova.items())[-k:]"
   ]
  },
  {
   "cell_type": "code",
   "execution_count": 225,
   "metadata": {},
   "outputs": [
    {
     "name": "stdout",
     "output_type": "stream",
     "text": [
      "(10192, 10)\n"
     ]
    }
   ],
   "source": [
    "x_train_anova = selector_anova.transform(x_train)\n",
    "x_test_anova = selector_anova.transform(x_test)\n",
    "print(x_train_anova.shape)"
   ]
  },
  {
   "cell_type": "markdown",
   "metadata": {},
   "source": [
    "## Mutual information"
   ]
  },
  {
   "cell_type": "code",
   "execution_count": 197,
   "metadata": {},
   "outputs": [],
   "source": [
    "selector_mutual = SelectKBest(mutual_info_classif, k=10)\n",
    "x_train_mutual = selector_mutual.fit_transform(x_train, y_train)"
   ]
  },
  {
   "cell_type": "code",
   "execution_count": 198,
   "metadata": {},
   "outputs": [
    {
     "data": {
      "text/plain": [
       "[(26.536645906574616, 'num_,'),\n",
       " (31.138254481851682, 'count_char_per_word'),\n",
       " (33.596749563401794, 'count_word'),\n",
       " (34.16482291685456, 'count_certain'),\n",
       " (36.00125663696711, 'count_informal'),\n",
       " (40.723387608855056, 'count_they'),\n",
       " (41.28459554180016, 'count_uppercase'),\n",
       " (66.54086624121476, 'count_insight'),\n",
       " (66.74845399583086, 'count_ingest'),\n",
       " (66.83310853853152, 'count_interrog')]"
      ]
     },
     "execution_count": 198,
     "metadata": {},
     "output_type": "execute_result"
    }
   ],
   "source": [
    "feature_dict_anova = {key:value for (key, value) in zip(\n",
    "    selector_anova.scores_, x_train.columns)}\n",
    "sorted(feature_dict_anova.items())[-k:]"
   ]
  },
  {
   "cell_type": "code",
   "execution_count": 231,
   "metadata": {},
   "outputs": [
    {
     "name": "stdout",
     "output_type": "stream",
     "text": [
      "(10192, 10)\n"
     ]
    }
   ],
   "source": [
    "x_train_mutual = selector_mutual.transform(x_train)\n",
    "x_test_mutual = selector_mutual.transform(x_test)\n",
    "print(x_train_mutual.shape)"
   ]
  },
  {
   "cell_type": "markdown",
   "metadata": {},
   "source": [
    "## Recursive Feature Elimination"
   ]
  },
  {
   "cell_type": "code",
   "execution_count": 232,
   "metadata": {},
   "outputs": [],
   "source": [
    "# Initializing Random Forest Classifier\n",
    "RandForest_RFE = RandomForestClassifier() \n",
    "# Initializing the RFE object, one of the most important arguments is the estimator, in this case is RandomForest\n",
    "rfe = RFE(estimator=RandForest_RFE, n_features_to_select=10, step=1)\n",
    "# Fit the origial dataset\n",
    "rfe = rfe.fit(x_train, y_train)"
   ]
  },
  {
   "cell_type": "code",
   "execution_count": 233,
   "metadata": {},
   "outputs": [
    {
     "name": "stdout",
     "output_type": "stream",
     "text": [
      "Best features chosen by RFE: \n",
      "\n",
      "num_.\n",
      "count_char\n",
      "count_word\n",
      "count_char_per_word\n",
      "count_unique\n",
      "count_uppercase\n",
      "count_they\n",
      "count_certain\n",
      "count_affiliation\n",
      "count_informal\n"
     ]
    }
   ],
   "source": [
    "print(\"Best features chosen by RFE: \\n\")\n",
    "for i in x_train.columns[rfe.support_]:\n",
    "    print(i)"
   ]
  },
  {
   "cell_type": "code",
   "execution_count": 234,
   "metadata": {},
   "outputs": [
    {
     "name": "stdout",
     "output_type": "stream",
     "text": [
      "Accuracy:  0.52138093369949\n"
     ]
    }
   ],
   "source": [
    "x_train_RFE = rfe.transform(x_train)\n",
    "x_test_RFE = rfe.transform(x_test)\n",
    "RandForest_RFE = RandForest_RFE.fit(x_train_RFE, y_train)\n",
    "y_pred = RandForest_RFE.predict(x_test_RFE)\n",
    "accuracy = accuracy_score(y_test, y_pred)\n",
    "print('Accuracy: ',accuracy)"
   ]
  },
  {
   "cell_type": "code",
   "execution_count": 203,
   "metadata": {},
   "outputs": [
    {
     "data": {
      "text/plain": [
       "<matplotlib.axes._subplots.AxesSubplot at 0x18d2678b898>"
      ]
     },
     "execution_count": 203,
     "metadata": {},
     "output_type": "execute_result"
    },
    {
     "data": {
      "image/png": "[encoded data removed]",
      "text/plain": [
       "<Figure size 432x288 with 2 Axes>"
      ]
     },
     "metadata": {
      "needs_background": "light"
     },
     "output_type": "display_data"
    }
   ],
   "source": [
    "confMatrix = confusion_matrix(y_test, y_pred)\n",
    "sb.heatmap(confMatrix, annot=True, fmt=\"d\")"
   ]
  },
  {
   "cell_type": "markdown",
   "metadata": {},
   "source": [
    "## Recursive Feature Elimination with Cross-Validation"
   ]
  },
  {
   "cell_type": "code",
   "execution_count": 294,
   "metadata": {},
   "outputs": [
    {
     "name": "stdout",
     "output_type": "stream",
     "text": [
      "Best number of features : 29\n",
      "Features :\n",
      "\n",
      "num_-\n",
      "num_\"\n",
      "num_$\n",
      "num_,\n",
      "num_.\n",
      "count_char\n",
      "count_word\n",
      "count_char_per_word\n",
      "count_unique\n",
      "count_uppercase\n",
      "count_pronoun\n",
      "count_they\n",
      "count_compare\n",
      "count_anx\n",
      "count_discrep\n",
      "count_certain\n",
      "count_hear\n",
      "count_health\n",
      "count_ingest\n",
      "count_affiliation\n",
      "count_risk\n",
      "count_focuspast\n",
      "count_leisure\n",
      "count_money\n",
      "count_death\n",
      "count_informal\n",
      "count_swear\n",
      "count_assent\n",
      "count_nonflu\n"
     ]
    }
   ],
   "source": [
    "# Initialize the Random Forest Classifier\n",
    "RandForest_RFECV = RandomForestClassifier() \n",
    "# Initialize the RFECV function setting 3-fold cross validation\n",
    "rfecv = RFECV(estimator=RandForest_RFECV, step=1, cv=3, scoring='accuracy')\n",
    "# Fit data\n",
    "rfecv = rfecv.fit(x_train, y_train)\n",
    "\n",
    "print('Best number of features :', rfecv.n_features_)\n",
    "print('Features :\\n')\n",
    "for i in x_train.columns[rfecv.support_]:\n",
    "    print(i)"
   ]
  },
  {
   "cell_type": "code",
   "execution_count": 205,
   "metadata": {},
   "outputs": [
    {
     "data": {
      "text/plain": [
       "<Figure size 432x288 with 0 Axes>"
      ]
     },
     "execution_count": 205,
     "metadata": {},
     "output_type": "execute_result"
    },
    {
     "data": {
      "text/plain": [
       "Text(0.5, 0, 'Number of Features')"
      ]
     },
     "execution_count": 205,
     "metadata": {},
     "output_type": "execute_result"
    },
    {
     "data": {
      "text/plain": [
       "Text(0, 0.5, 'Score of Selected Features')"
      ]
     },
     "execution_count": 205,
     "metadata": {},
     "output_type": "execute_result"
    },
    {
     "data": {
      "text/plain": [
       "[<matplotlib.lines.Line2D at 0x18d274659e8>]"
      ]
     },
     "execution_count": 205,
     "metadata": {},
     "output_type": "execute_result"
    },
    {
     "data": {
      "image/png": "[encoded data removed]",
      "text/plain": [
       "<Figure size 432x288 with 1 Axes>"
      ]
     },
     "metadata": {
      "needs_background": "light"
     },
     "output_type": "display_data"
    }
   ],
   "source": [
    "plt.figure()\n",
    "plt.xlabel(\"Number of Features\")\n",
    "plt.ylabel(\"Score of Selected Features\")\n",
    "plt.plot(range(1, len(rfecv.grid_scores_) + 1), rfecv.grid_scores_)\n",
    "plt.show()"
   ]
  },
  {
   "cell_type": "markdown",
   "metadata": {},
   "source": [
    "## Tree based Feature Selection"
   ]
  },
  {
   "cell_type": "code",
   "execution_count": 238,
   "metadata": {},
   "outputs": [],
   "source": [
    "# Initialize the Random Forest Classifier\n",
    "RandForest_Tree = RandomForestClassifier()  \n",
    "# Fit the random forest with the original data\n",
    "RandForest_Tree = RandForest_Tree.fit(x_train, y_train)\n",
    "# Getting the relevance between features\n",
    "relevants = RandForest_Tree.feature_importances_"
   ]
  },
  {
   "cell_type": "code",
   "execution_count": 241,
   "metadata": {},
   "outputs": [],
   "source": [
    "# Apply the tree based on importance for the random forest classifier and indexing it\n",
    "std = np.std([tree.feature_importances_ for tree in RandForest_Tree.estimators_], axis=0)\n",
    "indices = np.argsort(relevants)[::-1]"
   ]
  },
  {
   "cell_type": "code",
   "execution_count": 243,
   "metadata": {},
   "outputs": [
    {
     "name": "stdout",
     "output_type": "stream",
     "text": [
      "Feature Rank:\n",
      "1. Feature 7 (0.152554)\n",
      "2. Feature 5 (0.141183)\n",
      "3. Feature 6 (0.086390)\n",
      "4. Feature 8 (0.086318)\n",
      "5. Feature 9 (0.083541)\n",
      "6. Feature 11 (0.047486)\n",
      "7. Feature 4 (0.039183)\n",
      "8. Feature 3 (0.037392)\n",
      "9. Feature 47 (0.030640)\n",
      "10. Feature 0 (0.026282)\n",
      "11. Feature 17 (0.018385)\n",
      "12. Feature 2 (0.017539)\n",
      "13. Feature 45 (0.016927)\n",
      "14. Feature 34 (0.014289)\n",
      "15. Feature 37 (0.011017)\n",
      "16. Feature 41 (0.010979)\n",
      "17. Feature 48 (0.010408)\n",
      "18. Feature 51 (0.010108)\n",
      "19. Feature 40 (0.009987)\n",
      "20. Feature 1 (0.009910)\n",
      "21. Feature 44 (0.009781)\n",
      "22. Feature 50 (0.009755)\n",
      "23. Feature 30 (0.009285)\n",
      "24. Feature 10 (0.009282)\n",
      "25. Feature 33 (0.007720)\n",
      "26. Feature 36 (0.007066)\n",
      "27. Feature 28 (0.006988)\n",
      "28. Feature 21 (0.006862)\n",
      "29. Feature 32 (0.006203)\n",
      "30. Feature 29 (0.005876)\n",
      "31. Feature 19 (0.005639)\n",
      "32. Feature 22 (0.005423)\n",
      "33. Feature 46 (0.005253)\n",
      "34. Feature 18 (0.004944)\n",
      "35. Feature 15 (0.004236)\n",
      "36. Feature 31 (0.004017)\n",
      "37. Feature 25 (0.003913)\n",
      "38. Feature 24 (0.003675)\n",
      "39. Feature 35 (0.003284)\n",
      "40. Feature 42 (0.003266)\n",
      "41. Feature 39 (0.003011)\n",
      "42. Feature 49 (0.001776)\n",
      "43. Feature 20 (0.001625)\n",
      "44. Feature 23 (0.001553)\n",
      "45. Feature 27 (0.001492)\n",
      "46. Feature 16 (0.001232)\n",
      "47. Feature 43 (0.001221)\n",
      "48. Feature 13 (0.001154)\n",
      "49. Feature 26 (0.001061)\n",
      "50. Feature 38 (0.000991)\n",
      "51. Feature 14 (0.000985)\n",
      "52. Feature 12 (0.000913)\n"
     ]
    }
   ],
   "source": [
    "# Printting the ranking of importance\n",
    "print(\"Feature Rank:\")\n",
    "\n",
    "for i in range(x_train.shape[1]):\n",
    "    print(\"%d. Feature %d (%f)\" \n",
    "          % (i + 1, indices[i], relevants[indices[i]]))"
   ]
  },
  {
   "cell_type": "code",
   "execution_count": 245,
   "metadata": {},
   "outputs": [
    {
     "data": {
      "image/png": "[encoded data removed]",
      "text/plain": [
       "<Figure size 720x360 with 1 Axes>"
      ]
     },
     "metadata": {
      "needs_background": "light"
     },
     "output_type": "display_data"
    }
   ],
   "source": [
    "# Plotting the feature importances\n",
    "plt.figure(1, figsize=(10, 5))\n",
    "plt.title(\"Feature Importances\")\n",
    "plt.bar(range(x_train.shape[1]), relevants[indices], color=\"r\", yerr=std[indices], align=\"center\")\n",
    "plt.xticks(range(x_train.shape[1]), x_train.columns[indices],rotation=90)\n",
    "plt.xlim([-1, x_train.shape[1]])\n",
    "plt.show();"
   ]
  },
  {
   "cell_type": "markdown",
   "metadata": {},
   "source": [
    "## Feature Extraction through PCA"
   ]
  },
  {
   "cell_type": "code",
   "execution_count": 246,
   "metadata": {},
   "outputs": [
    {
     "data": {
      "text/plain": [
       "PCA(copy=True, iterated_power='auto', n_components=None, random_state=None,\n",
       "    svd_solver='auto', tol=0.0, whiten=False)"
      ]
     },
     "execution_count": 246,
     "metadata": {},
     "output_type": "execute_result"
    }
   ],
   "source": [
    "# Initializing PCA and fitting\n",
    "pca = PCA()\n",
    "pca.fit(x_train)"
   ]
  },
  {
   "cell_type": "code",
   "execution_count": 247,
   "metadata": {},
   "outputs": [
    {
     "data": {
      "image/png": "[encoded data removed]",
      "text/plain": [
       "<Figure size 648x576 with 1 Axes>"
      ]
     },
     "metadata": {
      "needs_background": "light"
     },
     "output_type": "display_data"
    }
   ],
   "source": [
    "# Plotting to visualize the best number of elements\n",
    "plt.figure(1, figsize=(9, 8))\n",
    "plt.clf()\n",
    "plt.axes([.2, .2, .7, .7])\n",
    "plt.plot(pca.explained_variance_ratio_, linewidth=2)\n",
    "plt.axis('tight')\n",
    "plt.xlabel('Number of Feautres')\n",
    "plt.ylabel('Variance Ratio')\n",
    "plt.show();"
   ]
  },
  {
   "cell_type": "markdown",
   "metadata": {},
   "source": [
    "## Before and after feature selection, accuracy comparison"
   ]
  },
  {
   "cell_type": "markdown",
   "metadata": {},
   "source": [
    "### Random Forest"
   ]
  },
  {
   "cell_type": "code",
   "execution_count": 319,
   "metadata": {},
   "outputs": [],
   "source": [
    "#All features\n",
    "RandForest = RandomForestClassifier()      \n",
    "RandForest = RandForest.fit(x_train, y_train)\n",
    "y_pred_RF = RandForest.predict(x_test)\n",
    "rf_all = accuracy_score(y_test, y_pred_RF)"
   ]
  },
  {
   "cell_type": "code",
   "execution_count": 320,
   "metadata": {
    "scrolled": true
   },
   "outputs": [],
   "source": [
    "#Chi2\n",
    "RandForest_chi2 = RandomForestClassifier()      \n",
    "RandForest_chi2 = RandForest_chi2.fit(x_train_chi2, y_train)\n",
    "y_pred_chi2 = RandForest_chi2.predict(x_test_chi2)\n",
    "rf_chi2 = accuracy_score(y_test, y_pred_chi2)"
   ]
  },
  {
   "cell_type": "code",
   "execution_count": 321,
   "metadata": {},
   "outputs": [],
   "source": [
    "# Anova\n",
    "RandForest_anova = RandomForestClassifier()      \n",
    "RandForest_anova = RandForest_anova.fit(x_train_anova, y_train)\n",
    "y_pred_anova = RandForest_anova.predict(x_test_anova)\n",
    "rf_anova = accuracy_score(y_test, y_pred_anova)\n"
   ]
  },
  {
   "cell_type": "code",
   "execution_count": 322,
   "metadata": {},
   "outputs": [],
   "source": [
    "# Mutual information\n",
    "RandForest_mutual = RandomForestClassifier()      \n",
    "RandForest_mutual = RandForest_mutual.fit(x_train_mutual, y_train)\n",
    "y_pred_mutual = RandForest_mutual.predict(x_test_mutual)\n",
    "rf_mutual = accuracy_score(y_test, y_pred_mutual)"
   ]
  },
  {
   "cell_type": "markdown",
   "metadata": {},
   "source": [
    "# K-Neighbors"
   ]
  },
  {
   "cell_type": "code",
   "execution_count": 323,
   "metadata": {},
   "outputs": [],
   "source": [
    "# All features\n",
    "knn = KNeighborsClassifier(n_neighbors=3)\n",
    "knn = knn.fit(x_train, y_train)\n",
    "y_pred_kn = knn.predict(x_test)\n",
    "kn_all = accuracy_score(y_test, y_pred_kn)"
   ]
  },
  {
   "cell_type": "code",
   "execution_count": 324,
   "metadata": {},
   "outputs": [],
   "source": [
    "# Chi2\n",
    "KN_chi2 = KNeighborsClassifier(n_neighbors=3)\n",
    "KN_chi2 = KN_chi2.fit(x_train_chi2, y_train)\n",
    "y_pred_chi2_kn = KN_chi2.predict(x_test_chi2)\n",
    "kn_chi2 = accuracy_score(y_test, y_pred_chi2_kn)"
   ]
  },
  {
   "cell_type": "code",
   "execution_count": 325,
   "metadata": {},
   "outputs": [],
   "source": [
    "# Anova\n",
    "KN_anova = KNeighborsClassifier(n_neighbors=3)     \n",
    "KN_anova = KN_anova.fit(x_train_anova, y_train)\n",
    "y_pred_anova_kn = KN_anova.predict(x_test_anova)\n",
    "kn_anova = accuracy_score(y_test, y_pred_anova_kn)\n"
   ]
  },
  {
   "cell_type": "code",
   "execution_count": 326,
   "metadata": {},
   "outputs": [],
   "source": [
    "# Mutual information\n",
    "KN_mutual = KNeighborsClassifier(n_neighbors=3)\n",
    "KN_mutual = KN_mutual.fit(x_train_mutual, y_train)\n",
    "y_pred_mutual_kn = KN_mutual.predict(x_test_mutual)\n",
    "kn_mutual = accuracy_score(y_test, y_pred_mutual_kn)"
   ]
  },
  {
   "cell_type": "markdown",
   "metadata": {},
   "source": [
    "# Gaussian Naive Bayes"
   ]
  },
  {
   "cell_type": "code",
   "execution_count": 327,
   "metadata": {},
   "outputs": [],
   "source": [
    "# All features\n",
    "GNB = GaussianNB()\n",
    "GNB = GNB.fit(x_train, y_train)\n",
    "y_pred_gnb = GNB.predict(x_test)\n",
    "gnb_all = accuracy_score(y_test, y_pred_gnb)"
   ]
  },
  {
   "cell_type": "code",
   "execution_count": 376,
   "metadata": {},
   "outputs": [],
   "source": [
    "# Chi2\n",
    "GNB_chi2 = GaussianNB()\n",
    "GNB_chi2 = GNB_chi2.fit(x_train_chi2, y_train)\n",
    "y_pred_chi2_GNB = GNB_chi2.predict(x_test_chi2)\n",
    "GNB_chi2 = accuracy_score(y_test, y_pred_chi2_GNB)"
   ]
  },
  {
   "cell_type": "code",
   "execution_count": 329,
   "metadata": {},
   "outputs": [],
   "source": [
    "# Anova\n",
    "GNB_anova = GaussianNB()     \n",
    "GNB_anova = GNB_anova.fit(x_train_anova, y_train)\n",
    "y_pred_anova_GNB = GNB_anova.predict(x_test_anova)\n",
    "GNB_anova = accuracy_score(y_test, y_pred_anova_GNB)"
   ]
  },
  {
   "cell_type": "code",
   "execution_count": 330,
   "metadata": {},
   "outputs": [],
   "source": [
    "# Mutual information\n",
    "GNB_mutual = GaussianNB()\n",
    "GNB_mutual = GNB_mutual.fit(x_train_mutual, y_train)\n",
    "y_pred_mutual_GNB = GNB_mutual.predict(x_test_mutual)\n",
    "GNB_mutual = accuracy_score(y_test, y_pred_mutual_GNB)"
   ]
  },
  {
   "cell_type": "markdown",
   "metadata": {},
   "source": [
    "# Linear SVC"
   ]
  },
  {
   "cell_type": "code",
   "execution_count": 359,
   "metadata": {},
   "outputs": [],
   "source": [
    "# All features\n",
    "SVM = svm.LinearSVC()\n",
    "SVM = SVM.fit(x_train, y_train)\n",
    "y_pred_SVM = SVM.predict(x_test)\n",
    "SVM_all = accuracy_score(y_test, y_pred_SVM)"
   ]
  },
  {
   "cell_type": "code",
   "execution_count": 360,
   "metadata": {},
   "outputs": [],
   "source": [
    "# Chi2\n",
    "SVM_chi2 = svm.LinearSVC()\n",
    "SVM_chi2 = SVM_chi2.fit(x_train_chi2, y_train)\n",
    "y_pred_chi2_SVM = SVM_chi2.predict(x_test_chi2)\n",
    "SVM_chi2 = accuracy_score(y_test, y_pred_chi2_SVM)"
   ]
  },
  {
   "cell_type": "code",
   "execution_count": 361,
   "metadata": {},
   "outputs": [],
   "source": [
    "# Anova\n",
    "SVM_anova = svm.LinearSVC()     \n",
    "SVM_anova = SVM_anova.fit(x_train_anova, y_train)\n",
    "y_pred_anova_SVM = SVM_anova.predict(x_test_anova)\n",
    "SVM_anova = accuracy_score(y_test, y_pred_anova_SVM)"
   ]
  },
  {
   "cell_type": "code",
   "execution_count": 367,
   "metadata": {},
   "outputs": [],
   "source": [
    "# Mutual information\n",
    "SVM_mutual = svm.LinearSVC()\n",
    "SVM_mutual = SVM_mutual.fit(x_train_mutual, y_train)\n",
    "y_pred_mutual_SVM = SVM_mutual.predict(x_test_mutual)\n",
    "SVM_mutual = accuracy_score(y_test, y_pred_mutual_SVM)"
   ]
  },
  {
   "cell_type": "markdown",
   "metadata": {},
   "source": [
    "# Logistic Regression"
   ]
  },
  {
   "cell_type": "code",
   "execution_count": 370,
   "metadata": {},
   "outputs": [],
   "source": [
    "# All features\n",
    "logistic = LogisticRegression(solver='saga', multi_class='multinomial', max_iter=10000)\n",
    "logistic = model_logistic.fit(x_train, y_train)\n",
    "y_pred_logistic = logistic.predict(x_test)\n",
    "logistic_all = accuracy_score(y_test, y_pred_logistic)"
   ]
  },
  {
   "cell_type": "code",
   "execution_count": 371,
   "metadata": {},
   "outputs": [],
   "source": [
    "# Chi2\n",
    "logistic_chi2 = LogisticRegression(solver='saga', multi_class='multinomial', max_iter=10000)\n",
    "logistic_chi2 = logistic_chi2.fit(x_train_chi2, y_train)\n",
    "y_pred_chi2_logistic = logistic_chi2.predict(x_test_chi2)\n",
    "logistic_chi2 = accuracy_score(y_test, y_pred_chi2_logistic)"
   ]
  },
  {
   "cell_type": "code",
   "execution_count": 372,
   "metadata": {},
   "outputs": [],
   "source": [
    "# Anova\n",
    "logistic_anova = LogisticRegression(solver='saga', multi_class='multinomial', max_iter=10000)\n",
    "logistic_anova = logistic_anova.fit(x_train_anova, y_train)\n",
    "y_pred_anova_logistic = logistic_anova.predict(x_test_anova)\n",
    "logistic_anova = accuracy_score(y_test, y_pred_anova_logistic)"
   ]
  },
  {
   "cell_type": "code",
   "execution_count": 378,
   "metadata": {},
   "outputs": [],
   "source": [
    "# Mutual information\n",
    "logistic_mutual = LogisticRegression(solver='saga', multi_class='multinomial', max_iter=10000)\n",
    "logistic_mutual = logistic_mutual.fit(x_train_mutual, y_train)\n",
    "y_pred_mutual_logistic = logistic_mutual.predict(x_test_mutual)\n",
    "logistic_mutual = accuracy_score(y_test, y_pred_mutual_logistic)"
   ]
  },
  {
   "cell_type": "markdown",
   "metadata": {},
   "source": [
    "# Result (Accuracy)"
   ]
  },
  {
   "cell_type": "code",
   "execution_count": 379,
   "metadata": {},
   "outputs": [
    {
     "data": {
      "text/html": [
       "<div>\n",
       "<style scoped>\n",
       "    .dataframe tbody tr th:only-of-type {\n",
       "        vertical-align: middle;\n",
       "    }\n",
       "\n",
       "    .dataframe tbody tr th {\n",
       "        vertical-align: top;\n",
       "    }\n",
       "\n",
       "    .dataframe thead th {\n",
       "        text-align: right;\n",
       "    }\n",
       "</style>\n",
       "<table border=\"1\" class=\"dataframe\">\n",
       "  <thead>\n",
       "    <tr style=\"text-align: right;\">\n",
       "      <th></th>\n",
       "      <th>all features</th>\n",
       "      <th>Chi2</th>\n",
       "      <th>Anova</th>\n",
       "      <th>Mutual Info</th>\n",
       "    </tr>\n",
       "  </thead>\n",
       "  <tbody>\n",
       "    <tr>\n",
       "      <th>RF</th>\n",
       "      <td>[0.5080423695566889]</td>\n",
       "      <td>[0.5284425264809729]</td>\n",
       "      <td>[0.5225578658297372]</td>\n",
       "      <td>[0.5209886229894076]</td>\n",
       "    </tr>\n",
       "    <tr>\n",
       "      <th>KNN</th>\n",
       "      <td>[0.5374656728128678]</td>\n",
       "      <td>[0.539819537073362]</td>\n",
       "      <td>[0.5304040800313848]</td>\n",
       "      <td>[0.511180855237348]</td>\n",
       "    </tr>\n",
       "    <tr>\n",
       "      <th>GNB</th>\n",
       "      <td>[0.4994115339348764]</td>\n",
       "      <td>[0.5084346802667713]</td>\n",
       "      <td>[0.5021577089054531]</td>\n",
       "      <td>[0.4994115339348764]</td>\n",
       "    </tr>\n",
       "    <tr>\n",
       "      <th>SVM</th>\n",
       "      <td>[0.5786582973715182]</td>\n",
       "      <td>[0.5806198509219301]</td>\n",
       "      <td>[0.5825814044723421]</td>\n",
       "      <td>[0.5621812475480581]</td>\n",
       "    </tr>\n",
       "    <tr>\n",
       "      <th>LR</th>\n",
       "      <td>[0.5802275402118477]</td>\n",
       "      <td>[0.5735582581404473]</td>\n",
       "      <td>[0.5782659866614358]</td>\n",
       "      <td>[0.559042761867399]</td>\n",
       "    </tr>\n",
       "  </tbody>\n",
       "</table>\n",
       "</div>"
      ],
      "text/plain": [
       "             all features                  Chi2                 Anova  \\\n",
       "RF   [0.5080423695566889]  [0.5284425264809729]  [0.5225578658297372]   \n",
       "KNN  [0.5374656728128678]   [0.539819537073362]  [0.5304040800313848]   \n",
       "GNB  [0.4994115339348764]  [0.5084346802667713]  [0.5021577089054531]   \n",
       "SVM  [0.5786582973715182]  [0.5806198509219301]  [0.5825814044723421]   \n",
       "LR   [0.5802275402118477]  [0.5735582581404473]  [0.5782659866614358]   \n",
       "\n",
       "              Mutual Info  \n",
       "RF   [0.5209886229894076]  \n",
       "KNN   [0.511180855237348]  \n",
       "GNB  [0.4994115339348764]  \n",
       "SVM  [0.5621812475480581]  \n",
       "LR    [0.559042761867399]  "
      ]
     },
     "execution_count": 379,
     "metadata": {},
     "output_type": "execute_result"
    }
   ],
   "source": [
    "accuracy_result_RF = {'all features':[rf_all], 'Chi2':[rf_chi2], 'Anova':[rf_anova], 'Mutual Info':[rf_mutual]} \n",
    "accuracy_result_kn = {'all features':[kn_all], 'Chi2':[kn_chi2], 'Anova':[kn_anova], 'Mutual Info':[kn_mutual]} \n",
    "accuracy_result_GNB = {'all features':[gnb_all], 'Chi2':[GNB_chi2], 'Anova':[GNB_anova], 'Mutual Info':[GNB_mutual]} \n",
    "accuracy_result_SVM = {'all features':[SVM_all], 'Chi2':[SVM_chi2], 'Anova':[SVM_anova], 'Mutual Info':[SVM_mutual]} \n",
    "accuracy_result_logistic = {'all features':[logistic_all], 'Chi2':[logistic_chi2], 'Anova':[logistic_anova], 'Mutual Info':[logistic_mutual]} \n",
    "\n",
    "df_accuracy = pd.DataFrame([accuracy_result_RF, accuracy_result_kn, accuracy_result_GNB, accuracy_result_SVM , accuracy_result_logistic], index =['RF', 'KNN', 'GNB', 'SVM', 'LR'])\n",
    "df_accuracy"
   ]
  },
  {
   "cell_type": "code",
   "execution_count": 377,
   "metadata": {},
   "outputs": [
    {
     "data": {
      "text/plain": [
       "LogisticRegression(C=1.0, class_weight=None, dual=False, fit_intercept=True,\n",
       "                   intercept_scaling=1, l1_ratio=None, max_iter=10000,\n",
       "                   multi_class='multinomial', n_jobs=None, penalty='l2',\n",
       "                   random_state=None, solver='saga', tol=0.0001, verbose=0,\n",
       "                   warm_start=False)"
      ]
     },
     "execution_count": 377,
     "metadata": {},
     "output_type": "execute_result"
    },
    {
     "name": "stdout",
     "output_type": "stream",
     "text": [
      "confusion matrix [[ 224  903]\n",
      " [ 167 1255]]\n",
      "accuracy score: 0.5802275402118477\n",
      "f1 score: 0.7011173184357543\n",
      "[0.55566454 0.5551741  0.56329735 0.56526006 0.56035329]\n"
     ]
    }
   ],
   "source": [
    "model_logistic = LogisticRegression(solver='saga', multi_class='multinomial', max_iter=10000)\n",
    "model_logistic.fit(x_train, y_train)\n",
    "predict = model_logistic.predict(x_test)\n",
    "print(\"confusion matrix\", confusion_matrix(y_test, predict))\n",
    "print(\"accuracy score:\", accuracy_score(y_test, predict))\n",
    "print(\"f1 score:\", f1_score(y_test, predict))\n",
    "\n",
    "\n",
    "#train model with cv of 5 \n",
    "cv_scores = cross_val_score(SVM, x_train_mutual, y_train, cv=5)\n",
    "\n",
    "#print each cv score (accuracy) and average them\n",
    "print(cv_scores)\n"
   ]
  },
  {
   "cell_type": "code",
   "execution_count": null,
   "metadata": {},
   "outputs": [],
   "source": []
  }
 ],
 "metadata": {
  "kernelspec": {
   "display_name": "Python 3",
   "language": "python",
   "name": "python3"
  },
  "language_info": {
   "codemirror_mode": {
    "name": "ipython",
    "version": 3
   },
   "file_extension": ".py",
   "mimetype": "text/x-python",
   "name": "python",
   "nbconvert_exporter": "python",
   "pygments_lexer": "ipython3",
   "version": "3.7.3"
  }
 },
 "nbformat": 4,
 "nbformat_minor": 4
}
