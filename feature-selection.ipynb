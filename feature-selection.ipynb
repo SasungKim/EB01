{
 "cells": [
  {
   "cell_type": "markdown",
   "metadata": {},
   "source": [
    "Resources: \n",
    "- https://www.kaggle.com/ferneutron/feature-extraction-with-different-methods\n",
    "- https://towardsdatascience.com/why-how-and-when-to-apply-feature-selection-e9c69adfabf2"
   ]
  },
  {
   "cell_type": "markdown",
   "metadata": {},
   "source": [
    "## Setting up"
   ]
  },
  {
   "cell_type": "code",
   "execution_count": 122,
   "metadata": {},
   "outputs": [],
   "source": [
    "import pandas as pd # To handle the data set.\n",
    "import seaborn as sb # To display visualizations.\n",
    "import matplotlib.pyplot as plt # To plot\n",
    "import numpy as np\n",
    "\n",
    "from sklearn.model_selection import train_test_split\n",
    "from sklearn.ensemble import RandomForestClassifier # Random Forest\n",
    "from sklearn.metrics import confusion_matrix # To calculate the confusion matrix\n",
    "from sklearn.metrics import accuracy_score # To calculate the score\n",
    "from sklearn.feature_selection import SelectKBest # Univariate Feature Selection\n",
    "from sklearn.feature_selection import chi2 # To apply Univariate Feature Selection\n",
    "from sklearn.feature_selection import f_classif\n",
    "from sklearn.feature_selection import mutual_info_classif\n",
    "from sklearn.feature_selection import RFE # Recursive Feature Selection\n",
    "from sklearn.feature_selection import RFECV # Recursive Feature Selection with Cross Validation\n",
    "from sklearn.feature_selection import VarianceThreshold\n",
    "from sklearn.linear_model import LogisticRegression\n",
    "from sklearn.decomposition import PCA # To apply PCA\n",
    "from sklearn import preprocessing # To get MinMax Scaler function\n",
    "\n",
    "# To plot inline\n",
    "%matplotlib inline\n",
    "\n",
    "# Evaluation\n",
    "from sklearn.metrics import accuracy_score\n",
    "from yellowbrick.classifier import ClassificationReport\n",
    "from sklearn.metrics import confusion_matrix\n",
    "from sklearn.metrics import f1_score\n",
    "\n",
    "# enable multiple outputs per cell\n",
    "from IPython.core.interactiveshell import InteractiveShell\n",
    "InteractiveShell.ast_node_interactivity = \"all\"\n",
    "\n",
    "# hide warnings\n",
    "import warnings\n",
    "#warnings.filterwarnings('ignore')"
   ]
  },
  {
   "cell_type": "code",
   "execution_count": 123,
   "metadata": {},
   "outputs": [],
   "source": [
    "df = pd.read_csv('./datasets/feature_extracted.csv'\n",
    "                 , sep=',', encoding='utf-8')\n",
    "df.dropna();"
   ]
  },
  {
   "cell_type": "code",
   "execution_count": 124,
   "metadata": {},
   "outputs": [
    {
     "name": "stderr",
     "output_type": "stream",
     "text": [
      "C:\\Users\\mingj\\Anaconda3\\lib\\site-packages\\pandas\\core\\indexing.py:205: SettingWithCopyWarning: \n",
      "A value is trying to be set on a copy of a slice from a DataFrame\n",
      "\n",
      "See the caveats in the documentation: http://pandas.pydata.org/pandas-docs/stable/user_guide/indexing.html#returning-a-view-versus-a-copy\n",
      "  self._setitem_with_indexer(indexer, value)\n"
     ]
    }
   ],
   "source": [
    "# change label into binary classification\n",
    "#df_raw = df.copy() # copy of df before manipulation just in case\n",
    "df = df.drop('statement', axis=1)\n",
    "df.label.loc[(df['label'] >= 0.5)] = 1;\n",
    "df.label.loc[(df['label'] < 0.5)] = 0;\n",
    "df_target = df['label']\n",
    "df_feature = df.drop('label', axis=1)"
   ]
  },
  {
   "cell_type": "code",
   "execution_count": 125,
   "metadata": {},
   "outputs": [
    {
     "data": {
      "text/html": [
       "<div>\n",
       "<style scoped>\n",
       "    .dataframe tbody tr th:only-of-type {\n",
       "        vertical-align: middle;\n",
       "    }\n",
       "\n",
       "    .dataframe tbody tr th {\n",
       "        vertical-align: top;\n",
       "    }\n",
       "\n",
       "    .dataframe thead th {\n",
       "        text-align: right;\n",
       "    }\n",
       "</style>\n",
       "<table border=\"1\" class=\"dataframe\">\n",
       "  <thead>\n",
       "    <tr style=\"text-align: right;\">\n",
       "      <th></th>\n",
       "      <th>num_-</th>\n",
       "      <th>num_?</th>\n",
       "      <th>num_!</th>\n",
       "      <th>num_%</th>\n",
       "      <th>num_;</th>\n",
       "      <th>num_:</th>\n",
       "      <th>num_\"</th>\n",
       "      <th>num_(</th>\n",
       "      <th>num_$</th>\n",
       "      <th>num_,</th>\n",
       "      <th>...</th>\n",
       "      <th>count_home</th>\n",
       "      <th>count_money</th>\n",
       "      <th>count_relig</th>\n",
       "      <th>count_death</th>\n",
       "      <th>count_informal</th>\n",
       "      <th>count_swear</th>\n",
       "      <th>count_netspeak</th>\n",
       "      <th>count_assent</th>\n",
       "      <th>count_nonflu</th>\n",
       "      <th>count_filler</th>\n",
       "    </tr>\n",
       "  </thead>\n",
       "  <tbody>\n",
       "    <tr>\n",
       "      <td>0</td>\n",
       "      <td>1</td>\n",
       "      <td>0</td>\n",
       "      <td>0</td>\n",
       "      <td>0</td>\n",
       "      <td>0</td>\n",
       "      <td>0</td>\n",
       "      <td>0</td>\n",
       "      <td>0</td>\n",
       "      <td>0</td>\n",
       "      <td>0</td>\n",
       "      <td>...</td>\n",
       "      <td>0</td>\n",
       "      <td>1</td>\n",
       "      <td>0</td>\n",
       "      <td>0</td>\n",
       "      <td>0</td>\n",
       "      <td>0</td>\n",
       "      <td>0</td>\n",
       "      <td>0</td>\n",
       "      <td>1</td>\n",
       "      <td>0</td>\n",
       "    </tr>\n",
       "  </tbody>\n",
       "</table>\n",
       "<p>1 rows × 92 columns</p>\n",
       "</div>"
      ],
      "text/plain": [
       "   num_-  num_?  num_!  num_%  num_;  num_:  num_\"  num_(  num_$  num_,  ...  \\\n",
       "0      1      0      0      0      0      0      0      0      0      0  ...   \n",
       "\n",
       "   count_home  count_money  count_relig  count_death  count_informal  \\\n",
       "0           0            1            0            0               0   \n",
       "\n",
       "   count_swear  count_netspeak  count_assent  count_nonflu  count_filler  \n",
       "0            0               0             0             1             0  \n",
       "\n",
       "[1 rows x 92 columns]"
      ]
     },
     "execution_count": 125,
     "metadata": {},
     "output_type": "execute_result"
    }
   ],
   "source": [
    "df_feature.head(1)"
   ]
  },
  {
   "cell_type": "code",
   "execution_count": 126,
   "metadata": {},
   "outputs": [],
   "source": [
    "# remove low variance data\n",
    "def variance_threshold(df, threshold=0.0):\n",
    "    selector = VarianceThreshold(threshold)\n",
    "    selector.fit_transform(df)\n",
    "    return df[df.columns[selector.get_support(indices=True)]]\n",
    "\n",
    "# any column with a probability of having 0 variance above 0.8 will be eliminated\n",
    "df_feature = variance_threshold(df_feature, (.8 * (1 - .8)))"
   ]
  },
  {
   "cell_type": "code",
   "execution_count": 127,
   "metadata": {},
   "outputs": [],
   "source": [
    "# Initializing the MinMaxScaler function\n",
    "min_max_scaler = preprocessing.MinMaxScaler()\n",
    "#standard_scaler = preprocessing.StandardScaler()\n",
    "\n",
    "# Scaling dataset keeping the columns name\n",
    "df_feature_scaled = pd.DataFrame(min_max_scaler.fit_transform(df_feature), columns = df_feature.columns)\n",
    "#X_scaled = pd.DataFrame(standard_scaler.fit_transform(X), columns = X.columns)"
   ]
  },
  {
   "cell_type": "code",
   "execution_count": 128,
   "metadata": {},
   "outputs": [],
   "source": [
    "# Splitting  up data, seting 80% for train and 20% for test.\n",
    "x_train, x_test, y_train, y_test = train_test_split(\n",
    "    df_feature_scaled, df_target, test_size=0.2, random_state=42)"
   ]
  },
  {
   "cell_type": "markdown",
   "metadata": {},
   "source": [
    "## Univariate selection"
   ]
  },
  {
   "cell_type": "markdown",
   "metadata": {},
   "source": [
    "### Chi2"
   ]
  },
  {
   "cell_type": "code",
   "execution_count": 130,
   "metadata": {},
   "outputs": [],
   "source": [
    "# Initialize SelectKBest function\n",
    "selector_chi2 = SelectKBest(chi2,k=5).fit(x_train, y_train)"
   ]
  },
  {
   "cell_type": "code",
   "execution_count": 137,
   "metadata": {
    "scrolled": true
   },
   "outputs": [
    {
     "data": {
      "text/plain": [
       "[(1.2561427591519733e-06, 'count_sad'),\n",
       " (1.0586202379453372e-05, 'count_adj'),\n",
       " (3.094525689537155e-05, 'count_cause'),\n",
       " (0.00012039136330320091, 'count_affect'),\n",
       " (0.00019276562762737028, 'count_article'),\n",
       " (0.00023214441170993618, 'count_reward'),\n",
       " (0.00042209711873857905, 'count_adverb'),\n",
       " (0.0004275441351266885, 'count_social'),\n",
       " (0.0006069260109999961, 'count_space'),\n",
       " (0.0007593804549486459, 'count_male'),\n",
       " (0.000870663332631151, 'count_achieve'),\n",
       " (0.001067686579636149, 'count_female'),\n",
       " (0.0011658144806705743, 'count_auxverb'),\n",
       " (0.001877910075846298, 'count_sexual'),\n",
       " (0.0023784128469482076, 'count_health'),\n",
       " (0.002976607834950838, 'count_netspeak'),\n",
       " (0.004998076678569283, 'count_anger'),\n",
       " (0.005960674692300825, 'count_assent'),\n",
       " (0.006632621203852159, 'num_\"'),\n",
       " (0.011057737597873514, 'count_focuspast'),\n",
       " (0.011955816387660047, 'count_family'),\n",
       " (0.020469267388504343, 'count_death'),\n",
       " (0.023961462101278627, 'count_negate'),\n",
       " (0.02675259732160064, 'count_relativ'),\n",
       " (0.03643826815890107, 'count_swear'),\n",
       " (0.05128451760154408, 'count_affiliation'),\n",
       " (0.053588832631483625, 'count_discrep'),\n",
       " (0.054602879499163495, 'count_pronoun'),\n",
       " (0.06066314822982985, 'count_nonflu'),\n",
       " (0.07870580834359922, 'count_risk'),\n",
       " (0.08141630871980982, 'count_leisure'),\n",
       " (0.09771917470727909, 'count_hear'),\n",
       " (0.10458494534724999, 'num_.'),\n",
       " (0.16340842596102167, 'count_compare'),\n",
       " (0.18463404072028483, 'count_char'),\n",
       " (0.24610285549949537, 'count_money'),\n",
       " (0.24703640754921374, 'count_unique'),\n",
       " (0.3425591611646255, 'num_-'),\n",
       " (0.3811948385653136, 'count_word'),\n",
       " (0.7181753334973855, 'count_char_per_word'),\n",
       " (0.8761666808654638, 'count_uppercase'),\n",
       " (1.2197126468441235, 'num_,'),\n",
       " (1.558529575479903, 'count_informal'),\n",
       " (1.6122092695429848, 'count_certain'),\n",
       " (2.12100789833749, 'num_$'),\n",
       " (3.6670420509919124, 'count_they'),\n",
       " (7.762623548602839, 'count_insight'),\n",
       " (7.785147779769392, 'count_ingest'),\n",
       " (7.794872294190457, 'count_interrog')]"
      ]
     },
     "execution_count": 137,
     "metadata": {},
     "output_type": "execute_result"
    }
   ],
   "source": [
    "# Creating a dict to visualize which features were selected with the highest score\n",
    "feature_dict_chi2 = {key:value for (key, value) in zip(\n",
    "    selector_chi2.scores_, x_train.columns)}\n",
    "sorted(feature_dict_chi2.items())"
   ]
  },
  {
   "cell_type": "code",
   "execution_count": 132,
   "metadata": {},
   "outputs": [],
   "source": [
    "x_train_chi2 = selector_chi2.transform(x_train)\n",
    "x_test_chi2 = selector_chi2.transform(x_test)"
   ]
  },
  {
   "cell_type": "code",
   "execution_count": 133,
   "metadata": {},
   "outputs": [
    {
     "data": {
      "text/plain": [
       "(10192, 5)"
      ]
     },
     "execution_count": 133,
     "metadata": {},
     "output_type": "execute_result"
    },
    {
     "data": {
      "text/plain": [
       "(2549, 5)"
      ]
     },
     "execution_count": 133,
     "metadata": {},
     "output_type": "execute_result"
    }
   ],
   "source": [
    "x_train_chi2.shape\n",
    "x_test_chi2.shape"
   ]
  },
  {
   "cell_type": "markdown",
   "metadata": {},
   "source": [
    "## Anova"
   ]
  },
  {
   "cell_type": "code",
   "execution_count": 135,
   "metadata": {},
   "outputs": [],
   "source": [
    "# Initialize SelectKBest function\n",
    "selector_anova = SelectKBest(f_classif, k=5).fit(x_train, y_train)"
   ]
  },
  {
   "cell_type": "code",
   "execution_count": 138,
   "metadata": {
    "scrolled": true
   },
   "outputs": [
    {
     "data": {
      "text/plain": [
       "[(1.9273336249599213e-05, 'count_sad'),\n",
       " (0.0001624677108456478, 'count_adj'),\n",
       " (0.0004791378201838556, 'count_cause'),\n",
       " (0.0016859824547826785, 'count_affect'),\n",
       " (0.0026973667698854797, 'count_article'),\n",
       " (0.0032463351023782248, 'count_reward'),\n",
       " (0.00592403196874872, 'count_social'),\n",
       " (0.006481893010642654, 'count_adverb'),\n",
       " (0.0084901870301539, 'count_space'),\n",
       " (0.010629461448599921, 'count_male'),\n",
       " (0.012188371638993374, 'count_achieve'),\n",
       " (0.014935982670329594, 'count_female'),\n",
       " (0.016324477069274878, 'count_auxverb'),\n",
       " (0.023598578134297336, 'num_\"'),\n",
       " (0.026089187918419517, 'count_sexual'),\n",
       " (0.0349192809935412, 'count_health'),\n",
       " (0.04159502993888372, 'count_netspeak'),\n",
       " (0.0825721451646238, 'count_anger'),\n",
       " (0.0868048873512304, 'count_assent'),\n",
       " (0.16493204236397943, 'count_family'),\n",
       " (0.1714377637619494, 'count_focuspast'),\n",
       " (0.24832751486118695, 'count_pronoun'),\n",
       " (0.2612080973489306, 'count_discrep'),\n",
       " (0.27627567267906356, 'count_nonflu'),\n",
       " (0.3117855063686625, 'count_death'),\n",
       " (0.3652379181040697, 'count_negate'),\n",
       " (0.3826480057350404, 'count_risk'),\n",
       " (0.3966898211097899, 'count_leisure'),\n",
       " (0.40754681476316873, 'count_tentat'),\n",
       " (0.4078766292996138, 'count_relativ'),\n",
       " (0.5053127818580525, 'count_swear'),\n",
       " (0.7568585625584587, 'count_affiliation'),\n",
       " (0.9074528554655686, 'count_money'),\n",
       " (1.4107565421770936, 'count_hear'),\n",
       " (2.548192962551177, 'count_compare'),\n",
       " (4.827726793236153, 'num_.'),\n",
       " (5.8030158115405985, 'num_-'),\n",
       " (8.553272280438186, 'num_$'),\n",
       " (17.525783108446067, 'count_unique'),\n",
       " (17.799866108738648, 'count_char'),\n",
       " (26.536645906574616, 'num_,'),\n",
       " (31.138254481851682, 'count_char_per_word'),\n",
       " (33.596749563401794, 'count_word'),\n",
       " (34.16482291685456, 'count_certain'),\n",
       " (36.00125663696711, 'count_informal'),\n",
       " (40.723387608855056, 'count_they'),\n",
       " (41.28459554180016, 'count_uppercase'),\n",
       " (66.54086624121476, 'count_insight'),\n",
       " (66.74845399583086, 'count_ingest'),\n",
       " (66.83310853853152, 'count_interrog')]"
      ]
     },
     "execution_count": 138,
     "metadata": {},
     "output_type": "execute_result"
    }
   ],
   "source": [
    "feature_dict_f = {key:value for (key, value) in zip(\n",
    "    selector_anova.scores_, x_train.columns)}\n",
    "sorted(feature_dict_f.items())"
   ]
  },
  {
   "cell_type": "code",
   "execution_count": 139,
   "metadata": {},
   "outputs": [],
   "source": [
    "x_train_anova = selector_anova.transform(x_train)\n",
    "x_test_anova = selector_anova.transform(x_test)"
   ]
  },
  {
   "cell_type": "markdown",
   "metadata": {},
   "source": [
    "## Mutual information"
   ]
  },
  {
   "cell_type": "code",
   "execution_count": null,
   "metadata": {},
   "outputs": [],
   "source": [
    "sel_mutual = SelectKBest(mutual_info_classif, k=5)\n",
    "X_train_mutual = sel_mutual.fit_transform(x_train, y_train)"
   ]
  },
  {
   "cell_type": "code",
   "execution_count": null,
   "metadata": {},
   "outputs": [],
   "source": [
    "x_train_k_best_m = sel_f.transform(x_train)\n",
    "x_test_k_best_m = sel_f.transform(x_test)"
   ]
  },
  {
   "cell_type": "code",
   "execution_count": null,
   "metadata": {},
   "outputs": [],
   "source": [
    "RandForest_K_best_m = RandomForestClassifier()      \n",
    "RandForest_K_best_m = RandForest_K_best.fit(x_train_k_best_m, y_train)\n",
    "y_pred = RandForest_K_best.predict(x_test_k_best_m)\n",
    "accuracy = accuracy_score(y_test, y_pred)\n",
    "print('Accuracy: ',accuracy)"
   ]
  },
  {
   "cell_type": "markdown",
   "metadata": {},
   "source": [
    "## Recursive Feature Elimination"
   ]
  },
  {
   "cell_type": "code",
   "execution_count": null,
   "metadata": {},
   "outputs": [],
   "source": [
    "# Initializing Random Forest Classifier\n",
    "RandForest_RFE = RandomForestClassifier() \n",
    "# Initializing the RFE object, one of the most important arguments is the estimator, in this case is RandomForest\n",
    "rfe = RFE(estimator=RandForest_RFE, n_features_to_select=5, step=1)\n",
    "# Fit the origial dataset\n",
    "rfe = rfe.fit(x_train, y_train)"
   ]
  },
  {
   "cell_type": "code",
   "execution_count": null,
   "metadata": {},
   "outputs": [],
   "source": [
    "print(\"Best features chosen by RFE: \\n\")\n",
    "for i in x_train.columns[rfe.support_]:\n",
    "    print(i)"
   ]
  },
  {
   "cell_type": "code",
   "execution_count": null,
   "metadata": {},
   "outputs": [],
   "source": [
    "x_train_RFE = rfe.transform(x_train)\n",
    "x_test_RFE = rfe.transform(x_test)\n",
    "RandForest_RFE = RandForest_RFE.fit(x_train_RFE, y_train)\n",
    "y_pred = RandForest_RFE.predict(x_test_RFE)\n",
    "accuracy = accuracy_score(y_test, y_pred)\n",
    "print('Accuracy: ',accuracy)"
   ]
  },
  {
   "cell_type": "code",
   "execution_count": null,
   "metadata": {},
   "outputs": [],
   "source": [
    "confMatrix = confusion_matrix(y_test, y_pred)\n",
    "sb.heatmap(confMatrix, annot=True, fmt=\"d\")"
   ]
  },
  {
   "cell_type": "markdown",
   "metadata": {},
   "source": [
    "## Recursive Feature Elimination with Cross-Validation"
   ]
  },
  {
   "cell_type": "code",
   "execution_count": null,
   "metadata": {},
   "outputs": [],
   "source": [
    "# Initialize the Random Forest Classifier\n",
    "RandForest_RFECV = RandomForestClassifier() \n",
    "# Initialize the RFECV function setting 3-fold cross validation\n",
    "rfecv = RFECV(estimator=RandForest_RFECV, step=1, cv=3, scoring='accuracy')\n",
    "# Fit data\n",
    "rfecv = rfecv.fit(x_train, y_train)\n",
    "\n",
    "print('Best number of features :', rfecv.n_features_)\n",
    "print('Features :\\n')\n",
    "for i in x_train.columns[rfecv.support_]:\n",
    "    print(i)"
   ]
  },
  {
   "cell_type": "code",
   "execution_count": null,
   "metadata": {},
   "outputs": [],
   "source": [
    "plt.figure()\n",
    "plt.xlabel(\"Number of Features\")\n",
    "plt.ylabel(\"Score of Selected Features\")\n",
    "plt.plot(range(1, len(rfecv.grid_scores_) + 1), rfecv.grid_scores_)\n",
    "plt.show()"
   ]
  },
  {
   "cell_type": "markdown",
   "metadata": {},
   "source": [
    "## Tree based Feature Selection"
   ]
  },
  {
   "cell_type": "code",
   "execution_count": null,
   "metadata": {},
   "outputs": [],
   "source": [
    "# Initialize the Random Forest Classifier\n",
    "RandForest_Tree = RandomForestClassifier()  \n",
    "# Fit the random forest with the original data\n",
    "RandForest_Tree = RandForest_Tree.fit(x_train, y_train)\n",
    "# Getting the relevance between features\n",
    "relevants = RandForest_Tree.feature_importances_"
   ]
  },
  {
   "cell_type": "code",
   "execution_count": null,
   "metadata": {},
   "outputs": [],
   "source": [
    "# Apply the tree based on importance for the random forest classifier and indexing it\n",
    "std = np.std([tree.feature_importances_ for tree in RandForest_Tree.estimators_], axis=0)\n",
    "indices = np.argsort(relevants)[::-1]"
   ]
  },
  {
   "cell_type": "code",
   "execution_count": null,
   "metadata": {},
   "outputs": [],
   "source": [
    "# Printting the ranking of importance\n",
    "print(\"Feature Rank:\")\n",
    "\n",
    "for i in range(x_train.shape[1]):\n",
    "    print(\"%d. Feature %d (%f)\" \n",
    "          % (i + 1, indices[i], relevants[indices[i]]))"
   ]
  },
  {
   "cell_type": "code",
   "execution_count": null,
   "metadata": {},
   "outputs": [],
   "source": [
    "# Plotting the feature importances\n",
    "plt.figure(1, figsize=(15, 5))\n",
    "plt.title(\"Feature Importances\")\n",
    "plt.bar(range(x_train.shape[1]), relevants[indices], color=\"r\", yerr=std[indices], align=\"center\")\n",
    "plt.xticks(range(x_train.shape[1]), x_train.columns[indices],rotation=90)\n",
    "plt.xlim([-1, x_train.shape[1]])\n",
    "plt.show();"
   ]
  },
  {
   "cell_type": "markdown",
   "metadata": {},
   "source": [
    "## Feature Extraction through PCA"
   ]
  },
  {
   "cell_type": "code",
   "execution_count": null,
   "metadata": {},
   "outputs": [],
   "source": [
    "# Initializing PCA and fitting\n",
    "pca = PCA()\n",
    "pca.fit(x_train)"
   ]
  },
  {
   "cell_type": "code",
   "execution_count": null,
   "metadata": {},
   "outputs": [],
   "source": [
    "# Plotting to visualize the best number of elements\n",
    "plt.figure(1, figsize=(9, 8))\n",
    "plt.clf()\n",
    "plt.axes([.2, .2, .7, .7])\n",
    "plt.plot(pca.explained_variance_ratio_, linewidth=2)\n",
    "plt.axis('tight')\n",
    "plt.xlabel('Number of Feautres')\n",
    "plt.ylabel('Variance Ratio')\n",
    "plt.show();"
   ]
  },
  {
   "cell_type": "markdown",
   "metadata": {},
   "source": [
    "## Before and after feature selection, accuracy comparison"
   ]
  },
  {
   "cell_type": "markdown",
   "metadata": {},
   "source": [
    "### Random Forest"
   ]
  },
  {
   "cell_type": "code",
   "execution_count": 146,
   "metadata": {},
   "outputs": [
    {
     "name": "stdout",
     "output_type": "stream",
     "text": [
      "RF with all features Accuracy:  0.5202040015692428\n"
     ]
    },
    {
     "name": "stderr",
     "output_type": "stream",
     "text": [
      "C:\\Users\\mingj\\Anaconda3\\lib\\site-packages\\sklearn\\ensemble\\forest.py:245: FutureWarning: The default value of n_estimators will change from 10 in version 0.20 to 100 in 0.22.\n",
      "  \"10 in version 0.20 to 100 in 0.22.\", FutureWarning)\n"
     ]
    }
   ],
   "source": [
    "RandForest = RandomForestClassifier()      \n",
    "RandForest = RandForest.fit(x_train, y_train)\n",
    "y_pred_RF = RandForest.predict(x_test)\n",
    "accuracy = accuracy_score(y_test, y_pred_RF)\n",
    "print('RF with all features Accuracy: ',accuracy)"
   ]
  },
  {
   "cell_type": "code",
   "execution_count": 147,
   "metadata": {
    "scrolled": true
   },
   "outputs": [
    {
     "name": "stdout",
     "output_type": "stream",
     "text": [
      "RF with Chi2 Accuracy:  0.5221655551196548\n"
     ]
    },
    {
     "name": "stderr",
     "output_type": "stream",
     "text": [
      "C:\\Users\\mingj\\Anaconda3\\lib\\site-packages\\sklearn\\ensemble\\forest.py:245: FutureWarning: The default value of n_estimators will change from 10 in version 0.20 to 100 in 0.22.\n",
      "  \"10 in version 0.20 to 100 in 0.22.\", FutureWarning)\n"
     ]
    }
   ],
   "source": [
    "RandForest_chi2 = RandomForestClassifier()      \n",
    "RandForest_chi2 = RandForest_chi2.fit(x_train_chi2, y_train)\n",
    "y_pred_chi2 = RandForest_K_best.predict(x_test_chi2)\n",
    "accuracy = accuracy_score(y_test, y_pred_chi2)\n",
    "print('RF with Chi2 Accuracy: ',accuracy)"
   ]
  },
  {
   "cell_type": "code",
   "execution_count": 148,
   "metadata": {},
   "outputs": [
    {
     "name": "stdout",
     "output_type": "stream",
     "text": [
      "RF with Anova Accuracy:  0.5476657512750098\n"
     ]
    }
   ],
   "source": [
    "RandForest_anova = RandomForestClassifier()      \n",
    "RandForest_anova = RandForest_K_best.fit(x_train_anova, y_train)\n",
    "y_pred_anova = RandForest_K_best.predict(x_test_anova)\n",
    "accuracy = accuracy_score(y_test, y_pred_anova)\n",
    "print('RF with Anova Accuracy: ',accuracy)"
   ]
  },
  {
   "cell_type": "code",
   "execution_count": 149,
   "metadata": {},
   "outputs": [
    {
     "data": {
      "text/plain": [
       "LogisticRegression(C=1.0, class_weight=None, dual=False, fit_intercept=True,\n",
       "                   intercept_scaling=1, l1_ratio=None, max_iter=10000,\n",
       "                   multi_class='multinomial', n_jobs=None, penalty='l2',\n",
       "                   random_state=None, solver='saga', tol=0.0001, verbose=0,\n",
       "                   warm_start=False)"
      ]
     },
     "execution_count": 149,
     "metadata": {},
     "output_type": "execute_result"
    },
    {
     "name": "stdout",
     "output_type": "stream",
     "text": [
      "confusion matrix [[ 224  903]\n",
      " [ 167 1255]]\n",
      "accuracy score: 0.5802275402118477\n",
      "f1 score: 0.7011173184357543\n"
     ]
    }
   ],
   "source": [
    "model_logistic = LogisticRegression(solver='saga', multi_class='multinomial', max_iter=10000)\n",
    "model_logistic.fit(x_train, y_train)\n",
    "predict = model_logistic.predict(x_test)\n",
    "print(\"confusion matrix\", confusion_matrix(y_test, predict))\n",
    "print(\"accuracy score:\", accuracy_score(y_test, predict))\n",
    "print(\"f1 score:\", f1_score(y_test, predict))"
   ]
  },
  {
   "cell_type": "code",
   "execution_count": null,
   "metadata": {},
   "outputs": [],
   "source": []
  }
 ],
 "metadata": {
  "kernelspec": {
   "display_name": "Python 3",
   "language": "python",
   "name": "python3"
  },
  "language_info": {
   "codemirror_mode": {
    "name": "ipython",
    "version": 3
   },
   "file_extension": ".py",
   "mimetype": "text/x-python",
   "name": "python",
   "nbconvert_exporter": "python",
   "pygments_lexer": "ipython3",
   "version": "3.7.4"
  }
 },
 "nbformat": 4,
 "nbformat_minor": 2
}
