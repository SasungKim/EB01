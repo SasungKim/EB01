{
 "cells": [
  {
   "cell_type": "markdown",
   "metadata": {},
   "source": [
    "Resources: https://www.kaggle.com/ferneutron/feature-extraction-with-different-methods"
   ]
  },
  {
   "cell_type": "markdown",
   "metadata": {},
   "source": [
    "## Setting up"
   ]
  },
  {
   "cell_type": "code",
   "execution_count": 414,
   "metadata": {},
   "outputs": [],
   "source": [
    "import pandas as pd # To handle the data set.\n",
    "import seaborn as sb # To display visualizations.\n",
    "import matplotlib.pyplot as plt # To plot\n",
    "import numpy as np\n",
    "\n",
    "\n",
    "from sklearn.utils import shuffle\n",
    "from sklearn.model_selection import train_test_split\n",
    "from sklearn.ensemble import RandomForestClassifier # Random Forest\n",
    "from sklearn.metrics import confusion_matrix # To calculate the confusion matrix\n",
    "from sklearn.metrics import accuracy_score # To calculate the score\n",
    "from sklearn.feature_selection import SelectKBest # Univariate Feature Selection\n",
    "from sklearn.feature_selection import chi2 # To apply Univariate Feature Selection\n",
    "from sklearn.feature_selection import f_classif\n",
    "from sklearn.feature_selection import mutual_info_classif\n",
    "from sklearn.feature_selection import RFE # Recursive Feature Selection\n",
    "from sklearn.feature_selection import RFECV # Recursive Feature Selection with Cross Validation\n",
    "from sklearn.feature_selection import VarianceThreshold\n",
    "from sklearn.linear_model import LogisticRegression\n",
    "from sklearn.decomposition import PCA # To apply PCA\n",
    "from sklearn import preprocessing # To get MinMax Scaler function\n",
    "\n",
    "# To plot inline\n",
    "%matplotlib inline\n",
    "\n",
    "# Evaluation\n",
    "from sklearn.metrics import accuracy_score\n",
    "from yellowbrick.classifier import ClassificationReport\n",
    "from sklearn.metrics import confusion_matrix\n",
    "from sklearn.metrics import f1_score\n",
    "\n",
    "# enable multiple outputs per cell\n",
    "from IPython.core.interactiveshell import InteractiveShell\n",
    "InteractiveShell.ast_node_interactivity = \"all\"\n",
    "\n",
    "# hide warnings\n",
    "import warnings\n",
    "#warnings.filterwarnings('ignore')"
   ]
  },
  {
   "cell_type": "code",
   "execution_count": 415,
   "metadata": {},
   "outputs": [],
   "source": [
    "df = pd.read_csv('./datasets/feature_extracted.csv'\n",
    "                 , sep=',', encoding='utf-8')\n",
    "df.dropna();"
   ]
  },
  {
   "cell_type": "code",
   "execution_count": 416,
   "metadata": {},
   "outputs": [],
   "source": [
    "# change label into binary classification\n",
    "df.label.loc[(df['label'] >= 0.5)] = 1\n",
    "df.label.loc[(df['label'] < 0.5)] = 0"
   ]
  },
  {
   "cell_type": "code",
   "execution_count": 417,
   "metadata": {},
   "outputs": [],
   "source": [
    "# divide into training and test set\n",
    "df = shuffle(df, random_state=123)\n",
    "#df_train, df_test = train_test_split(df, test_size=0.2)\n",
    "\n",
    "X = df.copy().drop(['statement','label'], axis=1)\n",
    "X = X.fillna(0)\n",
    "Y = df.copy()['label']\n",
    "Y = Y.fillna(0)"
   ]
  },
  {
   "cell_type": "code",
   "execution_count": 418,
   "metadata": {},
   "outputs": [],
   "source": [
    "# remove low variance data\n",
    "sel_variance_threshold = VarianceThreshold()\n",
    "X = pd.DataFrame(sel_variance_threshold.fit_transform(X))"
   ]
  },
  {
   "cell_type": "code",
   "execution_count": 419,
   "metadata": {},
   "outputs": [],
   "source": [
    "# Initializing the MinMaxScaler function\n",
    "min_max_scaler = preprocessing.MinMaxScaler()\n",
    "standard_scaler = preprocessing.StandardScaler()\n",
    "# Scaling dataset keeping the columns name\n",
    "X_scaled = pd.DataFrame(min_max_scaler.fit_transform(X), columns = X.columns)\n",
    "#X_scaled = pd.DataFrame(standard_scaler.fit_transform(X), columns = X.columns)"
   ]
  },
  {
   "cell_type": "code",
   "execution_count": 420,
   "metadata": {},
   "outputs": [],
   "source": [
    "# Splitting  up data, seting 75% for train and 25% for test.\n",
    "x_train, x_test, y_train, y_test = train_test_split(\n",
    "    X_scaled, Y, test_size=0.25, random_state=43)"
   ]
  },
  {
   "cell_type": "markdown",
   "metadata": {},
   "source": [
    "## Univariate selection (chi2)"
   ]
  },
  {
   "cell_type": "code",
   "execution_count": 421,
   "metadata": {},
   "outputs": [],
   "source": [
    "# Initialize SelectKBest function\n",
    "UnivariateFeatureSelection = SelectKBest(chi2, k=5).fit(x_train, y_train)"
   ]
  },
  {
   "cell_type": "code",
   "execution_count": 422,
   "metadata": {
    "scrolled": true
   },
   "outputs": [
    {
     "data": {
      "text/plain": [
       "[(1.7076235409258083e-05, 33),\n",
       " (7.52591041938711e-05, 43),\n",
       " (0.0001925184679003999, 29),\n",
       " (0.00022637664325695392, 38),\n",
       " (0.0004750871846395436, 22),\n",
       " (0.00047827396213290273, 26),\n",
       " (0.0009967922512371748, 44),\n",
       " (0.0011659473483277638, 6),\n",
       " (0.0014543908775812497, 28),\n",
       " (0.01402962362786361, 42),\n",
       " (0.01402962362787873, 41),\n",
       " (0.023394651803687085, 19),\n",
       " (0.02430712226810696, 31),\n",
       " (0.0445700043976944, 7),\n",
       " (0.047707980997530236, 4),\n",
       " (0.08457529734285085, 10),\n",
       " (0.16578602974558038, 3),\n",
       " (0.19145121141499466, 1),\n",
       " (0.2366445576907206, 11),\n",
       " (0.25216064485709877, 14),\n",
       " (0.27706849681218926, 0),\n",
       " (0.29435717156691155, 34),\n",
       " (0.3315982902218048, 18),\n",
       " (0.40687358543627805, 12),\n",
       " (0.41266319146719754, 13),\n",
       " (0.4213530377466457, 25),\n",
       " (0.4377996975190168, 74),\n",
       " (0.4563129253652416, 17),\n",
       " (0.7270755759830074, 9),\n",
       " (0.761112339094131, 21),\n",
       " (0.7930193282041658, 27),\n",
       " (0.8326677629779059, 15),\n",
       " (1.1373435589138872, 23),\n",
       " (1.1546749321465055, 36),\n",
       " (1.580146071938508, 16),\n",
       " (1.66823404507951, 8),\n",
       " (1.9825483205104146, 32),\n",
       " (2.083484203437246, 5),\n",
       " (2.28879244097983, 2),\n",
       " (3.240492241780488, 24),\n",
       " (6.085990495772444, 35),\n",
       " (nan, 39),\n",
       " (nan, 40),\n",
       " (1.4431389488827015e-07, 72),\n",
       " (1.6168890050102083e-07, 51),\n",
       " (0.00033679395978802905, 62),\n",
       " (0.0003557121675061052, 48),\n",
       " (0.0008415633698464498, 45),\n",
       " (0.0008458330919813655, 47),\n",
       " (0.0013784907521587652, 66),\n",
       " (0.002335173844710159, 75),\n",
       " (0.002906314766829591, 61),\n",
       " (0.0036293793257284957, 68),\n",
       " (0.003876271539662323, 85),\n",
       " (0.015366450085141991, 82),\n",
       " (0.01545565665326521, 87),\n",
       " (0.02678489773684221, 84),\n",
       " (0.02723067277355315, 73),\n",
       " (0.028621954949541978, 86),\n",
       " (0.029799209309976746, 53),\n",
       " (0.039711690750945924, 70),\n",
       " (0.048862249802587354, 57),\n",
       " (0.07299761385913994, 58),\n",
       " (0.07814275313164275, 65),\n",
       " (0.10401391780964003, 64),\n",
       " (0.5805258683988723, 55),\n",
       " (0.6978451724299053, 46),\n",
       " (nan, 49),\n",
       " (0.21609056411813077, 88),\n",
       " (0.2390683112707655, 52),\n",
       " (0.25580953728377276, 69),\n",
       " (0.2847901371379627, 78),\n",
       " (0.37230180497666243, 79),\n",
       " (0.4750580355191042, 71),\n",
       " (0.7429870775320977, 77),\n",
       " (0.7579322751708266, 80),\n",
       " (0.9221102385868387, 56),\n",
       " (0.9374509638036777, 59),\n",
       " (0.99406210553821, 67),\n",
       " (1.0628971567047478, 83),\n",
       " (1.1698354902066237, 76),\n",
       " (1.261003312825367, 81),\n",
       " (1.262253543458102, 54),\n",
       " (2.6926336282280463, 60),\n",
       " (6.056751257943866, 63),\n",
       " (6.077447258883227, 50)]"
      ]
     },
     "execution_count": 422,
     "metadata": {},
     "output_type": "execute_result"
    }
   ],
   "source": [
    "# Creating a dict to visualize which features were selected with the highest score\n",
    "feature_dict = {key:value for (key, value) in zip(\n",
    "    UnivariateFeatureSelection.scores_, x_train.columns)}\n",
    "sorted(feature_dict.items())"
   ]
  },
  {
   "cell_type": "code",
   "execution_count": 423,
   "metadata": {},
   "outputs": [],
   "source": [
    "x_train_k_best_c2 = UnivariateFeatureSelection.transform(x_train)\n",
    "x_test_k_best_c2 = UnivariateFeatureSelection.transform(x_test)"
   ]
  },
  {
   "cell_type": "markdown",
   "metadata": {},
   "source": [
    "### Testing with RF"
   ]
  },
  {
   "cell_type": "code",
   "execution_count": 424,
   "metadata": {},
   "outputs": [
    {
     "name": "stdout",
     "output_type": "stream",
     "text": [
      "Accuracy:  0.5586942875078468\n"
     ]
    }
   ],
   "source": [
    "RandForest_K_best = RandomForestClassifier()      \n",
    "RandForest_K_best = RandForest_K_best.fit(x_train_k_best_c2, y_train)\n",
    "y_pred = RandForest_K_best.predict(x_test_k_best_c2)\n",
    "accuracy = accuracy_score(y_test, y_pred)\n",
    "print('Accuracy: ',accuracy)"
   ]
  },
  {
   "cell_type": "code",
   "execution_count": 425,
   "metadata": {},
   "outputs": [
    {
     "data": {
      "text/plain": [
       "<matplotlib.axes._subplots.AxesSubplot at 0x2d291fc9348>"
      ]
     },
     "execution_count": 425,
     "metadata": {},
     "output_type": "execute_result"
    },
    {
     "data": {
      "image/png": "[encoded data removed]",
      "text/plain": [
       "<Figure size 432x288 with 2 Axes>"
      ]
     },
     "metadata": {
      "needs_background": "light"
     },
     "output_type": "display_data"
    }
   ],
   "source": [
    "confMatrix = confusion_matrix(y_test, y_pred)\n",
    "sb.heatmap(confMatrix, annot=True, fmt=\"d\")"
   ]
  },
  {
   "cell_type": "markdown",
   "metadata": {},
   "source": [
    "## Anova"
   ]
  },
  {
   "cell_type": "code",
   "execution_count": 426,
   "metadata": {},
   "outputs": [],
   "source": [
    "# Initialize SelectKBest function\n",
    "self_f = SelectKBest(f_classif, k=5).fit(x_train, y_train)"
   ]
  },
  {
   "cell_type": "code",
   "execution_count": 427,
   "metadata": {
    "scrolled": true
   },
   "outputs": [
    {
     "data": {
      "text/plain": [
       "[(0.00024960045959786627, 33),\n",
       " (0.0010997792880481784, 43),\n",
       " (0.001781376080172353, 22),\n",
       " (0.002814592302807648, 29),\n",
       " (0.0030556347447830176, 38),\n",
       " (0.0042531038522355446, 6),\n",
       " (0.0064483099898437505, 26),\n",
       " (0.011275150562998344, 45),\n",
       " (0.01325575849509428, 44),\n",
       " (0.019617844338459225, 28),\n",
       " (0.09568736248588895, 4),\n",
       " (0.10543185800035806, 19),\n",
       " (0.1760781545403446, 7),\n",
       " (0.21954038746322044, 42),\n",
       " (0.3548595500787872, 31),\n",
       " (0.5035898946824009, 3),\n",
       " (0.6046539420279767, 1),\n",
       " (0.7930021465735753, 27),\n",
       " (1.2330874643754017, 18),\n",
       " (1.5637338449966545, 25),\n",
       " (1.6226982573344109, 30),\n",
       " (2.5661871793103352, 21),\n",
       " (2.8335180514941842, 32),\n",
       " (2.903924485855326, 16),\n",
       " (3.4550178500097135, 10),\n",
       " (3.5867180967062593, 0),\n",
       " (3.716093497751544, 23),\n",
       " (4.382839887907411, 34),\n",
       " (5.190446025353597, 36),\n",
       " (5.6080067022675255, 5),\n",
       " (6.5639642703302945, 8),\n",
       " (7.453787466076412, 2),\n",
       " (14.030533138785003, 9),\n",
       " (15.107826888085064, 11),\n",
       " (15.649655959866372, 14),\n",
       " (18.027479382236308, 13),\n",
       " (21.6619188161246, 17),\n",
       " (26.03965757304272, 12),\n",
       " (31.967477525362277, 15),\n",
       " (34.78020271918004, 24),\n",
       " (51.91522283539624, 35),\n",
       " (nan, 39),\n",
       " (nan, 40),\n",
       " (2.7069125728595166e-07, 72),\n",
       " (2.3972313209869143e-06, 51),\n",
       " (0.004524740826602035, 62),\n",
       " (0.0048025150566853745, 48),\n",
       " (0.01141696705482857, 47),\n",
       " (0.01858418175235076, 66),\n",
       " (0.03144437103442737, 75),\n",
       " (0.041120535141563976, 61),\n",
       " (0.04870410601906461, 68),\n",
       " (0.05222236939868013, 85),\n",
       " (0.06974213331986659, 87),\n",
       " (0.09376577512576208, 57),\n",
       " (0.17043469616351137, 64),\n",
       " (0.21641261387402558, 88),\n",
       " (0.22416751008883293, 82),\n",
       " (0.35933955232713005, 84),\n",
       " (0.3962939133138856, 86),\n",
       " (0.39748938631267194, 73),\n",
       " (0.4348030877807291, 53),\n",
       " (0.5835807571277126, 70),\n",
       " (0.9389190950652198, 59),\n",
       " (1.0165698377454608, 58),\n",
       " (1.1652203105875725, 52),\n",
       " (1.261037766403785, 81),\n",
       " (1.4050143113849511, 46),\n",
       " (nan, 49),\n",
       " (1.1048230330712017, 65),\n",
       " (1.2494068404844225, 69),\n",
       " (1.283772955383064, 79),\n",
       " (1.3287231863331377, 71),\n",
       " (1.3867261197531051, 78),\n",
       " (1.6251941229823497, 74),\n",
       " (1.6379303044200988, 55),\n",
       " (2.247761759332288, 76),\n",
       " (2.300933362665072, 56),\n",
       " (2.6956508591530493, 60),\n",
       " (2.7862836032103435, 80),\n",
       " (3.39023767853885, 67),\n",
       " (3.417697886069909, 77),\n",
       " (23.11157862819049, 83),\n",
       " (25.761226333871644, 54),\n",
       " (51.67538412733521, 63),\n",
       " (51.84147231545508, 50)]"
      ]
     },
     "execution_count": 427,
     "metadata": {},
     "output_type": "execute_result"
    }
   ],
   "source": [
    "feature_dict_f = {key:value for (key, value) in zip(\n",
    "    sel_f.scores_, x_train.columns)}\n",
    "sorted(feature_dict_f.items())"
   ]
  },
  {
   "cell_type": "code",
   "execution_count": 428,
   "metadata": {},
   "outputs": [],
   "source": [
    "x_train_k_best_f = sel_f.transform(x_train)\n",
    "x_test_k_best_f = sel_f.transform(x_test)"
   ]
  },
  {
   "cell_type": "code",
   "execution_count": 429,
   "metadata": {},
   "outputs": [
    {
     "name": "stdout",
     "output_type": "stream",
     "text": [
      "Accuracy:  0.5160075329566854\n"
     ]
    }
   ],
   "source": [
    "RandForest_K_best_f = RandomForestClassifier()      \n",
    "RandForest_K_best_f = RandForest_K_best.fit(x_train_k_best_f, y_train)\n",
    "y_pred = RandForest_K_best.predict(x_test_k_best_f)\n",
    "accuracy = accuracy_score(y_test, y_pred)\n",
    "print('Accuracy: ',accuracy)"
   ]
  },
  {
   "cell_type": "markdown",
   "metadata": {},
   "source": [
    "## Mutual information"
   ]
  },
  {
   "cell_type": "code",
   "execution_count": 430,
   "metadata": {},
   "outputs": [],
   "source": [
    "sel_mutual = SelectKBest(mutual_info_classif, k=5)\n",
    "X_train_mutual = sel_mutual.fit_transform(x_train, y_train)"
   ]
  },
  {
   "cell_type": "code",
   "execution_count": 431,
   "metadata": {},
   "outputs": [],
   "source": [
    "x_train_k_best_m = sel_f.transform(x_train)\n",
    "x_test_k_best_m = sel_f.transform(x_test)"
   ]
  },
  {
   "cell_type": "code",
   "execution_count": 432,
   "metadata": {},
   "outputs": [
    {
     "name": "stdout",
     "output_type": "stream",
     "text": [
      "Accuracy:  0.5263653483992468\n"
     ]
    }
   ],
   "source": [
    "RandForest_K_best_m = RandomForestClassifier()      \n",
    "RandForest_K_best_m = RandForest_K_best.fit(x_train_k_best_m, y_train)\n",
    "y_pred = RandForest_K_best.predict(x_test_k_best_m)\n",
    "accuracy = accuracy_score(y_test, y_pred)\n",
    "print('Accuracy: ',accuracy)"
   ]
  },
  {
   "cell_type": "markdown",
   "metadata": {},
   "source": [
    "## Recursive Feature Elimination"
   ]
  },
  {
   "cell_type": "code",
   "execution_count": 433,
   "metadata": {},
   "outputs": [],
   "source": [
    "# Initializing Random Forest Classifier\n",
    "RandForest_RFE = RandomForestClassifier() \n",
    "# Initializing the RFE object, one of the most important arguments is the estimator, in this case is RandomForest\n",
    "rfe = RFE(estimator=RandForest_RFE, n_features_to_select=5, step=1)\n",
    "# Fit the origial dataset\n",
    "rfe = rfe.fit(x_train, y_train)"
   ]
  },
  {
   "cell_type": "code",
   "execution_count": 434,
   "metadata": {},
   "outputs": [
    {
     "name": "stdout",
     "output_type": "stream",
     "text": [
      "Best features chosen by RFE: \n",
      "\n",
      "11\n",
      "13\n",
      "14\n",
      "15\n",
      "17\n"
     ]
    }
   ],
   "source": [
    "print(\"Best features chosen by RFE: \\n\")\n",
    "for i in x_train.columns[rfe.support_]:\n",
    "    print(i)"
   ]
  },
  {
   "cell_type": "code",
   "execution_count": 435,
   "metadata": {},
   "outputs": [
    {
     "name": "stdout",
     "output_type": "stream",
     "text": [
      "Accuracy:  0.4987445072190835\n"
     ]
    }
   ],
   "source": [
    "x_train_RFE = rfe.transform(x_train)\n",
    "x_test_RFE = rfe.transform(x_test)\n",
    "RandForest_RFE = RandForest_RFE.fit(x_train_RFE, y_train)\n",
    "y_pred = RandForest_RFE.predict(x_test_RFE)\n",
    "accuracy = accuracy_score(y_test, y_pred)\n",
    "print('Accuracy: ',accuracy)"
   ]
  },
  {
   "cell_type": "code",
   "execution_count": 436,
   "metadata": {},
   "outputs": [
    {
     "data": {
      "text/plain": [
       "<matplotlib.axes._subplots.AxesSubplot at 0x2d294136a88>"
      ]
     },
     "execution_count": 436,
     "metadata": {},
     "output_type": "execute_result"
    },
    {
     "data": {
      "image/png": "[encoded data removed]",
      "text/plain": [
       "<Figure size 432x288 with 2 Axes>"
      ]
     },
     "metadata": {
      "needs_background": "light"
     },
     "output_type": "display_data"
    }
   ],
   "source": [
    "confMatrix = confusion_matrix(y_test, y_pred)\n",
    "sb.heatmap(confMatrix, annot=True, fmt=\"d\")"
   ]
  },
  {
   "cell_type": "markdown",
   "metadata": {},
   "source": [
    "## Recursive Feature Elimination with Cross-Validation"
   ]
  },
  {
   "cell_type": "code",
   "execution_count": 437,
   "metadata": {},
   "outputs": [
    {
     "name": "stdout",
     "output_type": "stream",
     "text": [
      "Best number of features : 71\n",
      "Features :\n",
      "\n",
      "0\n",
      "1\n",
      "3\n",
      "5\n",
      "6\n",
      "7\n",
      "8\n",
      "9\n",
      "10\n",
      "11\n",
      "12\n",
      "13\n",
      "14\n",
      "15\n",
      "16\n",
      "17\n",
      "18\n",
      "19\n",
      "20\n",
      "21\n",
      "22\n",
      "23\n",
      "24\n",
      "25\n",
      "30\n",
      "31\n",
      "33\n",
      "34\n",
      "35\n",
      "36\n",
      "37\n",
      "38\n",
      "41\n",
      "42\n",
      "43\n",
      "44\n",
      "45\n",
      "46\n",
      "47\n",
      "48\n",
      "50\n",
      "51\n",
      "52\n",
      "53\n",
      "54\n",
      "55\n",
      "56\n",
      "58\n",
      "61\n",
      "62\n",
      "63\n",
      "65\n",
      "67\n",
      "68\n",
      "69\n",
      "70\n",
      "71\n",
      "72\n",
      "73\n",
      "74\n",
      "76\n",
      "77\n",
      "78\n",
      "79\n",
      "80\n",
      "82\n",
      "83\n",
      "84\n",
      "85\n",
      "86\n",
      "87\n"
     ]
    }
   ],
   "source": [
    "# Initialize the Random Forest Classifier\n",
    "RandForest_RFECV = RandomForestClassifier() \n",
    "# Initialize the RFECV function setting 3-fold cross validation\n",
    "rfecv = RFECV(estimator=RandForest_RFECV, step=1, cv=3, scoring='accuracy')\n",
    "# Fit data\n",
    "rfecv = rfecv.fit(x_train, y_train)\n",
    "\n",
    "print('Best number of features :', rfecv.n_features_)\n",
    "print('Features :\\n')\n",
    "for i in x_train.columns[rfecv.support_]:\n",
    "    print(i)"
   ]
  },
  {
   "cell_type": "code",
   "execution_count": 438,
   "metadata": {},
   "outputs": [
    {
     "data": {
      "text/plain": [
       "<Figure size 432x288 with 0 Axes>"
      ]
     },
     "execution_count": 438,
     "metadata": {},
     "output_type": "execute_result"
    },
    {
     "data": {
      "text/plain": [
       "Text(0.5, 0, 'Number of Features')"
      ]
     },
     "execution_count": 438,
     "metadata": {},
     "output_type": "execute_result"
    },
    {
     "data": {
      "text/plain": [
       "Text(0, 0.5, 'Score of Selected Features')"
      ]
     },
     "execution_count": 438,
     "metadata": {},
     "output_type": "execute_result"
    },
    {
     "data": {
      "text/plain": [
       "[<matplotlib.lines.Line2D at 0x2d298094508>]"
      ]
     },
     "execution_count": 438,
     "metadata": {},
     "output_type": "execute_result"
    },
    {
     "data": {
      "image/png": "[encoded data removed]",
      "text/plain": [
       "<Figure size 432x288 with 1 Axes>"
      ]
     },
     "metadata": {
      "needs_background": "light"
     },
     "output_type": "display_data"
    }
   ],
   "source": [
    "plt.figure()\n",
    "plt.xlabel(\"Number of Features\")\n",
    "plt.ylabel(\"Score of Selected Features\")\n",
    "plt.plot(range(1, len(rfecv.grid_scores_) + 1), rfecv.grid_scores_)\n",
    "plt.show()"
   ]
  },
  {
   "cell_type": "markdown",
   "metadata": {},
   "source": [
    "## Tree based Feature Selection"
   ]
  },
  {
   "cell_type": "code",
   "execution_count": 439,
   "metadata": {},
   "outputs": [],
   "source": [
    "# Initialize the Random Forest Classifier\n",
    "RandForest_Tree = RandomForestClassifier()  \n",
    "# Fit the random forest with the original data\n",
    "RandForest_Tree = RandForest_Tree.fit(x_train, y_train)\n",
    "# Getting the relevance between features\n",
    "relevants = RandForest_Tree.feature_importances_"
   ]
  },
  {
   "cell_type": "code",
   "execution_count": 440,
   "metadata": {},
   "outputs": [],
   "source": [
    "# Apply the tree based on importance for the random forest classifier and indexing it\n",
    "std = np.std([tree.feature_importances_ for tree in RandForest_Tree.estimators_], axis=0)\n",
    "indices = np.argsort(relevants)[::-1]"
   ]
  },
  {
   "cell_type": "code",
   "execution_count": 441,
   "metadata": {},
   "outputs": [
    {
     "name": "stdout",
     "output_type": "stream",
     "text": [
      "Feature Rank:\n",
      "1. Feature 13 (0.122218)\n",
      "2. Feature 11 (0.110100)\n",
      "3. Feature 17 (0.076473)\n",
      "4. Feature 12 (0.076259)\n",
      "5. Feature 14 (0.073533)\n",
      "6. Feature 15 (0.070926)\n",
      "7. Feature 24 (0.038352)\n",
      "8. Feature 10 (0.032575)\n",
      "9. Feature 9 (0.028634)\n",
      "10. Feature 83 (0.024742)\n",
      "11. Feature 0 (0.021909)\n",
      "12. Feature 34 (0.015047)\n",
      "13. Feature 8 (0.014851)\n",
      "14. Feature 61 (0.012909)\n",
      "15. Feature 7 (0.012516)\n",
      "16. Feature 80 (0.011842)\n",
      "17. Feature 78 (0.009803)\n",
      "18. Feature 70 (0.009734)\n",
      "19. Feature 69 (0.009510)\n",
      "20. Feature 36 (0.009090)\n",
      "21. Feature 52 (0.008936)\n",
      "22. Feature 86 (0.008112)\n",
      "23. Feature 6 (0.007902)\n",
      "24. Feature 54 (0.006861)\n",
      "25. Feature 35 (0.006808)\n",
      "26. Feature 19 (0.006600)\n",
      "27. Feature 77 (0.006460)\n",
      "28. Feature 87 (0.006237)\n",
      "29. Feature 58 (0.006162)\n",
      "30. Feature 23 (0.006053)\n",
      "31. Feature 50 (0.005902)\n",
      "32. Feature 67 (0.005467)\n",
      "33. Feature 63 (0.005430)\n",
      "34. Feature 65 (0.005406)\n",
      "35. Feature 41 (0.005286)\n",
      "36. Feature 51 (0.005061)\n",
      "37. Feature 84 (0.004839)\n",
      "38. Feature 37 (0.004814)\n",
      "39. Feature 42 (0.004706)\n",
      "40. Feature 21 (0.004642)\n",
      "41. Feature 82 (0.004626)\n",
      "42. Feature 53 (0.004461)\n",
      "43. Feature 31 (0.004418)\n",
      "44. Feature 76 (0.004412)\n",
      "45. Feature 22 (0.004362)\n",
      "46. Feature 55 (0.003984)\n",
      "47. Feature 73 (0.003771)\n",
      "48. Feature 18 (0.003483)\n",
      "49. Feature 79 (0.003461)\n",
      "50. Feature 20 (0.003418)\n",
      "51. Feature 74 (0.003347)\n",
      "52. Feature 44 (0.003271)\n",
      "53. Feature 45 (0.003091)\n",
      "54. Feature 25 (0.003048)\n",
      "55. Feature 56 (0.003022)\n",
      "56. Feature 30 (0.002774)\n",
      "57. Feature 62 (0.002740)\n",
      "58. Feature 68 (0.002542)\n",
      "59. Feature 3 (0.002163)\n",
      "60. Feature 5 (0.002081)\n",
      "61. Feature 16 (0.001995)\n",
      "62. Feature 71 (0.001957)\n",
      "63. Feature 2 (0.001830)\n",
      "64. Feature 72 (0.001821)\n",
      "65. Feature 75 (0.001815)\n",
      "66. Feature 85 (0.001795)\n",
      "67. Feature 46 (0.001783)\n",
      "68. Feature 1 (0.001721)\n",
      "69. Feature 43 (0.001486)\n",
      "70. Feature 57 (0.001425)\n",
      "71. Feature 38 (0.001404)\n",
      "72. Feature 33 (0.001358)\n",
      "73. Feature 47 (0.001198)\n",
      "74. Feature 29 (0.001144)\n",
      "75. Feature 28 (0.001055)\n",
      "76. Feature 26 (0.000977)\n",
      "77. Feature 48 (0.000895)\n",
      "78. Feature 66 (0.000816)\n",
      "79. Feature 4 (0.000549)\n",
      "80. Feature 59 (0.000526)\n",
      "81. Feature 88 (0.000480)\n",
      "82. Feature 64 (0.000410)\n",
      "83. Feature 60 (0.000363)\n",
      "84. Feature 81 (0.000016)\n",
      "85. Feature 39 (0.000000)\n",
      "86. Feature 49 (0.000000)\n",
      "87. Feature 32 (0.000000)\n",
      "88. Feature 40 (0.000000)\n",
      "89. Feature 27 (0.000000)\n"
     ]
    }
   ],
   "source": [
    "# Printting the ranking of importance\n",
    "print(\"Feature Rank:\")\n",
    "\n",
    "for i in range(x_train.shape[1]):\n",
    "    print(\"%d. Feature %d (%f)\" \n",
    "          % (i + 1, indices[i], relevants[indices[i]]))"
   ]
  },
  {
   "cell_type": "code",
   "execution_count": 442,
   "metadata": {},
   "outputs": [
    {
     "data": {
      "image/png": "[encoded data removed]",
      "text/plain": [
       "<Figure size 1080x360 with 1 Axes>"
      ]
     },
     "metadata": {
      "needs_background": "light"
     },
     "output_type": "display_data"
    }
   ],
   "source": [
    "# Plotting the feature importances\n",
    "plt.figure(1, figsize=(15, 5))\n",
    "plt.title(\"Feature Importances\")\n",
    "plt.bar(range(x_train.shape[1]), relevants[indices], color=\"r\", yerr=std[indices], align=\"center\")\n",
    "plt.xticks(range(x_train.shape[1]), x_train.columns[indices],rotation=90)\n",
    "plt.xlim([-1, x_train.shape[1]])\n",
    "plt.show();"
   ]
  },
  {
   "cell_type": "markdown",
   "metadata": {},
   "source": [
    "## Feature Extraction through PCA"
   ]
  },
  {
   "cell_type": "code",
   "execution_count": 443,
   "metadata": {},
   "outputs": [
    {
     "data": {
      "text/plain": [
       "PCA(copy=True, iterated_power='auto', n_components=None, random_state=None,\n",
       "    svd_solver='auto', tol=0.0, whiten=False)"
      ]
     },
     "execution_count": 443,
     "metadata": {},
     "output_type": "execute_result"
    }
   ],
   "source": [
    "# Initializing PCA and fitting\n",
    "pca = PCA()\n",
    "pca.fit(x_train)"
   ]
  },
  {
   "cell_type": "code",
   "execution_count": 444,
   "metadata": {},
   "outputs": [
    {
     "data": {
      "image/png": "[encoded data removed]",
      "text/plain": [
       "<Figure size 648x576 with 1 Axes>"
      ]
     },
     "metadata": {
      "needs_background": "light"
     },
     "output_type": "display_data"
    }
   ],
   "source": [
    "# Plotting to visualize the best number of elements\n",
    "plt.figure(1, figsize=(9, 8))\n",
    "plt.clf()\n",
    "plt.axes([.2, .2, .7, .7])\n",
    "plt.plot(pca.explained_variance_ratio_, linewidth=2)\n",
    "plt.axis('tight')\n",
    "plt.xlabel('Number of Feautres')\n",
    "plt.ylabel('Variance Ratio')\n",
    "plt.show();"
   ]
  },
  {
   "cell_type": "markdown",
   "metadata": {},
   "source": [
    "## Before feature selection"
   ]
  },
  {
   "cell_type": "code",
   "execution_count": 445,
   "metadata": {},
   "outputs": [
    {
     "data": {
      "text/plain": [
       "LogisticRegression(C=1.0, class_weight=None, dual=False, fit_intercept=True,\n",
       "                   intercept_scaling=1, l1_ratio=None, max_iter=10000,\n",
       "                   multi_class='multinomial', n_jobs=None, penalty='l2',\n",
       "                   random_state=None, solver='saga', tol=0.0001, verbose=0,\n",
       "                   warm_start=False)"
      ]
     },
     "execution_count": 445,
     "metadata": {},
     "output_type": "execute_result"
    },
    {
     "name": "stdout",
     "output_type": "stream",
     "text": [
      "confusion matrix [[ 324 1079]\n",
      " [ 269 1514]]\n",
      "accuracy score: 0.5768989328311362\n",
      "f1 score: 0.6919561243144424\n"
     ]
    }
   ],
   "source": [
    "model_logistic = LogisticRegression(solver='saga', multi_class='multinomial', max_iter=10000)\n",
    "model_logistic.fit(x_train, y_train)\n",
    "predict = model_logistic.predict(x_test)\n",
    "print(\"confusion matrix\", confusion_matrix(y_test, predict))\n",
    "print(\"accuracy score:\", accuracy_score(y_test, predict))\n",
    "print(\"f1 score:\", f1_score(y_test, predict))"
   ]
  },
  {
   "cell_type": "markdown",
   "metadata": {},
   "source": [
    "## After feature selection"
   ]
  },
  {
   "cell_type": "code",
   "execution_count": 447,
   "metadata": {},
   "outputs": [
    {
     "data": {
      "text/plain": [
       "LogisticRegression(C=1.0, class_weight=None, dual=False, fit_intercept=True,\n",
       "                   intercept_scaling=1, l1_ratio=None, max_iter=10000,\n",
       "                   multi_class='multinomial', n_jobs=None, penalty='l2',\n",
       "                   random_state=None, solver='saga', tol=0.0001, verbose=0,\n",
       "                   warm_start=False)"
      ]
     },
     "execution_count": 447,
     "metadata": {},
     "output_type": "execute_result"
    },
    {
     "name": "stdout",
     "output_type": "stream",
     "text": [
      "confusion matrix [[   5 1398]\n",
      " [   2 1781]]\n",
      "accuracy score: 0.5605775266792216\n",
      "f1 score: 0.7178557033454253\n"
     ]
    }
   ],
   "source": [
    "model_logistic = LogisticRegression(solver='saga', multi_class='multinomial', max_iter=10000)\n",
    "model_logistic.fit(x_train_k_best_c2, y_train)\n",
    "predict = model_logistic.predict(x_test_k_best_c2)\n",
    "print(\"confusion matrix\", confusion_matrix(y_test, predict))\n",
    "print(\"accuracy score:\", accuracy_score(y_test, predict))\n",
    "print(\"f1 score:\", f1_score(y_test, predict))"
   ]
  },
  {
   "cell_type": "code",
   "execution_count": null,
   "metadata": {},
   "outputs": [],
   "source": []
  }
 ],
 "metadata": {
  "kernelspec": {
   "display_name": "Python 3",
   "language": "python",
   "name": "python3"
  },
  "language_info": {
   "codemirror_mode": {
    "name": "ipython",
    "version": 3
   },
   "file_extension": ".py",
   "mimetype": "text/x-python",
   "name": "python",
   "nbconvert_exporter": "python",
   "pygments_lexer": "ipython3",
   "version": "3.7.4"
  }
 },
 "nbformat": 4,
 "nbformat_minor": 2
}
