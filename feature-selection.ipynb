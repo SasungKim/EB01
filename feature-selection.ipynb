{
 "cells": [
  {
   "cell_type": "markdown",
   "metadata": {},
   "source": [
    "Resources: https://www.kaggle.com/ferneutron/feature-extraction-with-different-methods"
   ]
  },
  {
   "cell_type": "markdown",
   "metadata": {},
   "source": [
    "## Setting up"
   ]
  },
  {
   "cell_type": "code",
   "execution_count": 197,
   "metadata": {},
   "outputs": [],
   "source": [
    "import pandas as pd # To handle the data set.\n",
    "import seaborn as sb # To display visualizations.\n",
    "import matplotlib.pyplot as plt # To plot\n",
    "import numpy as np\n",
    "\n",
    "\n",
    "from sklearn.utils import shuffle\n",
    "from sklearn.model_selection import train_test_split\n",
    "from sklearn.ensemble import RandomForestClassifier # Random Forest\n",
    "from sklearn.metrics import confusion_matrix # To calculate the confusion matrix\n",
    "from sklearn.metrics import accuracy_score # To calculate the score\n",
    "from sklearn.feature_selection import SelectKBest # Univariate Feature Selection\n",
    "from sklearn.feature_selection import chi2 # To apply Univariate Feature Selection\n",
    "from sklearn.feature_selection import RFE # Recursive Feature Selection\n",
    "from sklearn.feature_selection import RFECV # Recursive Feature Selection with Cross Validation\n",
    "from sklearn.feature_selection import VarianceThreshold\n",
    "from sklearn.decomposition import PCA # To apply PCA\n",
    "from sklearn import preprocessing # To get MinMax Scaler function\n",
    "\n",
    "# To plot inline\n",
    "%matplotlib inline\n",
    "\n",
    "# enable multiple outputs per cell\n",
    "from IPython.core.interactiveshell import InteractiveShell\n",
    "InteractiveShell.ast_node_interactivity = \"all\"\n",
    "\n",
    "# hide warnings\n",
    "import warnings\n",
    "#warnings.filterwarnings('ignore')"
   ]
  },
  {
   "cell_type": "code",
   "execution_count": 198,
   "metadata": {},
   "outputs": [],
   "source": [
    "df = pd.read_csv('./datasets/feature_extracted.csv'\n",
    "                 , sep=',', encoding='utf-8')"
   ]
  },
  {
   "cell_type": "code",
   "execution_count": 199,
   "metadata": {},
   "outputs": [],
   "source": [
    "# change label into binary classification\n",
    "df.label.loc[(df['label'] >= 0.5)] = 1\n",
    "df.label.loc[(df['label'] < 0.5)] = 0"
   ]
  },
  {
   "cell_type": "code",
   "execution_count": 200,
   "metadata": {},
   "outputs": [],
   "source": [
    "# divide into training and test set\n",
    "df = shuffle(df, random_state=123)\n",
    "#df_train, df_test = train_test_split(df, test_size=0.2)\n",
    "\n",
    "X = df.copy().drop(['statement','label'], axis=1)\n",
    "X = X.fillna(0)\n",
    "Y = df.copy()['label']\n",
    "Y = Y.fillna(0)"
   ]
  },
  {
   "cell_type": "code",
   "execution_count": 201,
   "metadata": {},
   "outputs": [],
   "source": [
    "# remove low variance data\n",
    "sel_variance_threshold = VarianceThreshold()\n",
    "#X = sel_variance_threshold.fit_transform(X)"
   ]
  },
  {
   "cell_type": "code",
   "execution_count": 202,
   "metadata": {},
   "outputs": [],
   "source": [
    "# Initializing the MinMaxScaler function\n",
    "min_max_scaler = preprocessing.MinMaxScaler()\n",
    "# Scaling dataset keeping the columns name\n",
    "X_scaled = pd.DataFrame(min_max_scaler.fit_transform(X), columns = X.columns)"
   ]
  },
  {
   "cell_type": "code",
   "execution_count": 203,
   "metadata": {},
   "outputs": [],
   "source": [
    "# Splitting  up data, seting 75% for train and 25% for test.\n",
    "x_train, x_test, y_train, y_test = train_test_split(\n",
    "    X_scaled, Y, test_size=0.25, random_state=43)"
   ]
  },
  {
   "cell_type": "markdown",
   "metadata": {},
   "source": [
    "## Univariate selection (chi2)"
   ]
  },
  {
   "cell_type": "code",
   "execution_count": 204,
   "metadata": {},
   "outputs": [],
   "source": [
    "# Initialize SelectKBest function\n",
    "UnivariateFeatureSelection = SelectKBest(chi2, k=10).fit(x_train, y_train)"
   ]
  },
  {
   "cell_type": "code",
   "execution_count": 205,
   "metadata": {
    "scrolled": true
   },
   "outputs": [
    {
     "data": {
      "text/plain": [
       "[(1.7076235409258083e-05, 'count_adj'),\n",
       " (7.525910419352411e-05, 'count_sad'),\n",
       " (0.00019251846790101554, 'count_adverb'),\n",
       " (0.00022637664325695392, 'count_affect'),\n",
       " (0.0004750871846395436, 'count_you'),\n",
       " (0.00047827396213290273, 'count_article'),\n",
       " (0.0009967922512344799, 'count_social'),\n",
       " (0.0011659473483277638, 'num_\"'),\n",
       " (0.001454390877584939, 'count_auxverb'),\n",
       " (0.01402962362787873, 'count_anger'),\n",
       " (0.023394651803687085, 'count_pronoun'),\n",
       " (0.02430712226810696, 'count_negate'),\n",
       " (0.0445700043976944, 'num_('),\n",
       " (0.047707980997530236, 'num_;'),\n",
       " (0.08457529734285085, 'num_.'),\n",
       " (0.16578602974558038, 'num_%'),\n",
       " (0.19145121141499466, 'num_?'),\n",
       " (0.2366445576907206, 'count_char'),\n",
       " (0.25216064485705997, 'count_unique'),\n",
       " (0.27706849681218926, 'num_-'),\n",
       " (0.29435717156691155, 'count_compare'),\n",
       " (0.3315982902218048, 'count_function'),\n",
       " (0.4068735854362755, 'count_word'),\n",
       " (0.4126631914671248, 'count_char_per_word'),\n",
       " (0.4213530377466457, 'count_ipron'),\n",
       " (0.4377996975190168, 'count_motion'),\n",
       " (0.4563129253652416, 'sentiment_score'),\n",
       " (0.7270755759830074, 'num_,'),\n",
       " (0.761112339094131, 'count_we'),\n",
       " (0.7930193282041658, 'count_prep'),\n",
       " (0.8326677629779035, 'count_uppercase'),\n",
       " (1.1373435589138872, 'count_shehe'),\n",
       " (1.1546749321465055, 'count_number'),\n",
       " (1.580146071938508, 'count_month'),\n",
       " (1.66823404507951, 'num_$'),\n",
       " (1.9825483205104146, 'count_verb'),\n",
       " (2.083484203437246, 'num_:'),\n",
       " (2.28879244097983, 'num_!'),\n",
       " (nan, 'count_sent'),\n",
       " (nan, 'count_i'),\n",
       " (3.24049224178049, 'count_they'),\n",
       " (6.085990495772444, 'count_interrog'),\n",
       " (nan, 'count_posemo'),\n",
       " (nan, 'count_negemo'),\n",
       " (1.4431389488827015e-07, 'count_focusfuture'),\n",
       " (1.6168890050102083e-07, 'count_cause'),\n",
       " (0.00033679395978802905, 'count_sexual'),\n",
       " (0.0003557121675061052, 'count_male'),\n",
       " (0.0008415633698464498, 'count_family'),\n",
       " (0.0008458330919813655, 'count_female'),\n",
       " (0.0013784907521587652, 'count_achieve'),\n",
       " (0.002335173844710159, 'count_space'),\n",
       " (0.002906314766829591, 'count_health'),\n",
       " (0.0036293793257284957, 'count_reward'),\n",
       " (0.003876271539662323, 'count_netspeak'),\n",
       " (0.015366450085141991, 'count_death'),\n",
       " (0.015455656653260834, 'count_nonflu'),\n",
       " (0.026784897736842492, 'count_swear'),\n",
       " (0.02723067277356098, 'count_relativ'),\n",
       " (0.028621954949541978, 'count_assent'),\n",
       " (0.029799209309976746, 'count_tentat'),\n",
       " (0.039711690750945924, 'count_focuspast'),\n",
       " (0.048862249802587354, 'count_see'),\n",
       " (0.07299761385914982, 'count_hear'),\n",
       " (0.07814275313164275, 'count_affiliation'),\n",
       " (0.10401391780964003, 'count_drives'),\n",
       " (0.21609056411813077, 'count_filler'),\n",
       " (0.37230180497666243, 'count_home'),\n",
       " (0.5805258683988723, 'count_differ'),\n",
       " (0.6978451724299053, 'count_friend'),\n",
       " (nan, 'count_cogproc'),\n",
       " (0.2390683112707655, 'count_discrep'),\n",
       " (0.25580953728377276, 'count_risk'),\n",
       " (0.2847901371379627, 'count_leisure'),\n",
       " (0.4750580355191042, 'count_focuspresent'),\n",
       " (0.7429870775320977, 'count_work'),\n",
       " (0.7579322751708266, 'count_money'),\n",
       " (0.9221102385868387, 'count_percept'),\n",
       " (0.9374509638036777, 'count_feel'),\n",
       " (0.99406210553821, 'count_power'),\n",
       " (1.0628971567047505, 'count_informal'),\n",
       " (1.1698354902066237, 'count_time'),\n",
       " (1.261003312825367, 'count_relig'),\n",
       " (1.262253543458102, 'count_certain'),\n",
       " (2.6926336282280463, 'count_body'),\n",
       " (6.056751257943866, 'count_ingest'),\n",
       " (6.077447258883227, 'count_insight'),\n",
       " (nan, 'count_bio')]"
      ]
     },
     "execution_count": 205,
     "metadata": {},
     "output_type": "execute_result"
    }
   ],
   "source": [
    "# Creating a dict to visualize which features were selected with the highest score\n",
    "feature_dict = {key:value for (key, value) in zip(\n",
    "    UnivariateFeatureSelection.scores_, x_train.columns)}\n",
    "sorted(feature_dict.items())"
   ]
  },
  {
   "cell_type": "code",
   "execution_count": 206,
   "metadata": {},
   "outputs": [],
   "source": [
    "x_train_k_best = UnivariateFeatureSelection.transform(x_train)\n",
    "x_test_k_best = UnivariateFeatureSelection.transform(x_test)"
   ]
  },
  {
   "cell_type": "markdown",
   "metadata": {},
   "source": [
    "### Testing with RF"
   ]
  },
  {
   "cell_type": "code",
   "execution_count": 207,
   "metadata": {},
   "outputs": [
    {
     "name": "stdout",
     "output_type": "stream",
     "text": [
      "Accuracy:  0.5646578782172003\n"
     ]
    }
   ],
   "source": [
    "RandForest_K_best = RandomForestClassifier()      \n",
    "RandForest_K_best = RandForest_K_best.fit(x_train_k_best, y_train)\n",
    "y_pred = RandForest_K_best.predict(x_test_k_best)\n",
    "accuracy = accuracy_score(y_test, y_pred)\n",
    "print('Accuracy: ',accuracy)"
   ]
  },
  {
   "cell_type": "code",
   "execution_count": 208,
   "metadata": {},
   "outputs": [
    {
     "data": {
      "text/plain": [
       "<matplotlib.axes._subplots.AxesSubplot at 0x2d2943df3c8>"
      ]
     },
     "execution_count": 208,
     "metadata": {},
     "output_type": "execute_result"
    },
    {
     "data": {
      "image/png": "[encoded data removed]",
      "text/plain": [
       "<Figure size 432x288 with 2 Axes>"
      ]
     },
     "metadata": {
      "needs_background": "light"
     },
     "output_type": "display_data"
    }
   ],
   "source": [
    "confMatrix = confusion_matrix(y_test, y_pred)\n",
    "sb.heatmap(confMatrix, annot=True, fmt=\"d\")"
   ]
  },
  {
   "cell_type": "markdown",
   "metadata": {},
   "source": [
    "## Anova"
   ]
  },
  {
   "cell_type": "code",
   "execution_count": 209,
   "metadata": {},
   "outputs": [],
   "source": [
    "# Initialize SelectKBest function\n"
   ]
  },
  {
   "cell_type": "markdown",
   "metadata": {},
   "source": [
    "## Recursive Feature Elimination"
   ]
  },
  {
   "cell_type": "code",
   "execution_count": 210,
   "metadata": {},
   "outputs": [],
   "source": [
    "# Initializing Random Forest Classifier\n",
    "RandForest_RFE = RandomForestClassifier() \n",
    "# Initializing the RFE object, one of the most important arguments is the estimator, in this case is RandomForest\n",
    "rfe = RFE(estimator=RandForest_RFE, n_features_to_select=5, step=1)\n",
    "# Fit the origial dataset\n",
    "rfe = rfe.fit(x_train, y_train)"
   ]
  },
  {
   "cell_type": "code",
   "execution_count": 211,
   "metadata": {},
   "outputs": [
    {
     "name": "stdout",
     "output_type": "stream",
     "text": [
      "Best features chosen by RFE: \n",
      "\n",
      "count_char\n",
      "count_char_per_word\n",
      "count_unique\n",
      "count_uppercase\n",
      "sentiment_score\n"
     ]
    }
   ],
   "source": [
    "print(\"Best features chosen by RFE: \\n\")\n",
    "for i in x_train.columns[rfe.support_]:\n",
    "    print(i)"
   ]
  },
  {
   "cell_type": "code",
   "execution_count": 212,
   "metadata": {},
   "outputs": [
    {
     "name": "stdout",
     "output_type": "stream",
     "text": [
      "Accuracy:  0.5213433772755807\n"
     ]
    }
   ],
   "source": [
    "x_train_RFE = rfe.transform(x_train)\n",
    "x_test_RFE = rfe.transform(x_test)\n",
    "RandForest_RFE = RandForest_RFE.fit(x_train_RFE, y_train)\n",
    "y_pred = RandForest_RFE.predict(x_test_RFE)\n",
    "accuracy = accuracy_score(y_test, y_pred)\n",
    "print('Accuracy: ',accuracy)"
   ]
  },
  {
   "cell_type": "code",
   "execution_count": 213,
   "metadata": {},
   "outputs": [
    {
     "data": {
      "text/plain": [
       "<matplotlib.axes._subplots.AxesSubplot at 0x2d294092a48>"
      ]
     },
     "execution_count": 213,
     "metadata": {},
     "output_type": "execute_result"
    },
    {
     "data": {
      "image/png": "[encoded data removed]",
      "text/plain": [
       "<Figure size 432x288 with 2 Axes>"
      ]
     },
     "metadata": {
      "needs_background": "light"
     },
     "output_type": "display_data"
    }
   ],
   "source": [
    "confMatrix = confusion_matrix(y_test, y_pred)\n",
    "sb.heatmap(confMatrix, annot=True, fmt=\"d\")"
   ]
  },
  {
   "cell_type": "markdown",
   "metadata": {},
   "source": [
    "## Recursive Feature Elimination with Cross-Validation"
   ]
  },
  {
   "cell_type": "code",
   "execution_count": 214,
   "metadata": {},
   "outputs": [
    {
     "name": "stdout",
     "output_type": "stream",
     "text": [
      "Best number of features : 39\n",
      "Features :\n",
      "\n",
      "num_-\n",
      "num_\"\n",
      "num_(\n",
      "num_$\n",
      "num_,\n",
      "num_.\n",
      "count_char\n",
      "count_word\n",
      "count_char_per_word\n",
      "count_unique\n",
      "count_uppercase\n",
      "sentiment_score\n",
      "count_pronoun\n",
      "count_shehe\n",
      "count_they\n",
      "count_ipron\n",
      "count_compare\n",
      "count_interrog\n",
      "count_number\n",
      "count_anx\n",
      "count_insight\n",
      "count_cause\n",
      "count_discrep\n",
      "count_tentat\n",
      "count_certain\n",
      "count_hear\n",
      "count_health\n",
      "count_ingest\n",
      "count_affiliation\n",
      "count_risk\n",
      "count_focuspast\n",
      "count_work\n",
      "count_leisure\n",
      "count_money\n",
      "count_death\n",
      "count_informal\n",
      "count_swear\n",
      "count_assent\n",
      "count_nonflu\n"
     ]
    }
   ],
   "source": [
    "# Initialize the Random Forest Classifier\n",
    "RandForest_RFECV = RandomForestClassifier() \n",
    "# Initialize the RFECV function setting 3-fold cross validation\n",
    "rfecv = RFECV(estimator=RandForest_RFECV, step=1, cv=3, scoring='accuracy')\n",
    "# Fit data\n",
    "rfecv = rfecv.fit(x_train, y_train)\n",
    "\n",
    "print('Best number of features :', rfecv.n_features_)\n",
    "print('Features :\\n')\n",
    "for i in x_train.columns[rfecv.support_]:\n",
    "    print(i)"
   ]
  },
  {
   "cell_type": "code",
   "execution_count": 215,
   "metadata": {},
   "outputs": [
    {
     "data": {
      "text/plain": [
       "<Figure size 432x288 with 0 Axes>"
      ]
     },
     "execution_count": 215,
     "metadata": {},
     "output_type": "execute_result"
    },
    {
     "data": {
      "text/plain": [
       "Text(0.5, 0, 'Number of Features')"
      ]
     },
     "execution_count": 215,
     "metadata": {},
     "output_type": "execute_result"
    },
    {
     "data": {
      "text/plain": [
       "Text(0, 0.5, 'Score of Selected Features')"
      ]
     },
     "execution_count": 215,
     "metadata": {},
     "output_type": "execute_result"
    },
    {
     "data": {
      "text/plain": [
       "[<matplotlib.lines.Line2D at 0x2d2920d2148>]"
      ]
     },
     "execution_count": 215,
     "metadata": {},
     "output_type": "execute_result"
    },
    {
     "data": {
      "image/png": "[encoded data removed]",
      "text/plain": [
       "<Figure size 432x288 with 1 Axes>"
      ]
     },
     "metadata": {
      "needs_background": "light"
     },
     "output_type": "display_data"
    }
   ],
   "source": [
    "plt.figure()\n",
    "plt.xlabel(\"Number of Features\")\n",
    "plt.ylabel(\"Score of Selected Features\")\n",
    "plt.plot(range(1, len(rfecv.grid_scores_) + 1), rfecv.grid_scores_)\n",
    "plt.show()"
   ]
  },
  {
   "cell_type": "markdown",
   "metadata": {},
   "source": [
    "## Tree based Feature Selection"
   ]
  },
  {
   "cell_type": "code",
   "execution_count": 216,
   "metadata": {},
   "outputs": [],
   "source": [
    "# Initialize the Random Forest Classifier\n",
    "RandForest_Tree = RandomForestClassifier()  \n",
    "# Fit the random forest with the original data\n",
    "RandForest_Tree = RandForest_Tree.fit(x_train, y_train)\n",
    "# Getting the relevance between features\n",
    "relevants = RandForest_Tree.feature_importances_"
   ]
  },
  {
   "cell_type": "code",
   "execution_count": 217,
   "metadata": {},
   "outputs": [],
   "source": [
    "# Apply the tree based on importance for the random forest classifier and indexing it\n",
    "std = np.std([tree.feature_importances_ for tree in RandForest_Tree.estimators_], axis=0)\n",
    "indices = np.argsort(relevants)[::-1]"
   ]
  },
  {
   "cell_type": "code",
   "execution_count": 218,
   "metadata": {},
   "outputs": [
    {
     "name": "stdout",
     "output_type": "stream",
     "text": [
      "Feature Rank:\n",
      "1. Feature 14 (0.118229)\n",
      "2. Feature 11 (0.112848)\n",
      "3. Feature 18 (0.079586)\n",
      "4. Feature 15 (0.074113)\n",
      "5. Feature 12 (0.072821)\n",
      "6. Feature 16 (0.069336)\n",
      "7. Feature 26 (0.036131)\n",
      "8. Feature 10 (0.030730)\n",
      "9. Feature 9 (0.027632)\n",
      "10. Feature 86 (0.023497)\n",
      "11. Feature 0 (0.020301)\n",
      "12. Feature 36 (0.015416)\n",
      "13. Feature 8 (0.014657)\n",
      "14. Feature 64 (0.013731)\n",
      "15. Feature 7 (0.011507)\n",
      "16. Feature 83 (0.011203)\n",
      "17. Feature 38 (0.010652)\n",
      "18. Feature 72 (0.009512)\n",
      "19. Feature 73 (0.009031)\n",
      "20. Feature 81 (0.008905)\n",
      "21. Feature 6 (0.008353)\n",
      "22. Feature 54 (0.008345)\n",
      "23. Feature 80 (0.008001)\n",
      "24. Feature 37 (0.007815)\n",
      "25. Feature 68 (0.007592)\n",
      "26. Feature 52 (0.007526)\n",
      "27. Feature 20 (0.007460)\n",
      "28. Feature 56 (0.007113)\n",
      "29. Feature 66 (0.007046)\n",
      "30. Feature 89 (0.006963)\n",
      "31. Feature 25 (0.006199)\n",
      "32. Feature 70 (0.005750)\n",
      "33. Feature 90 (0.005719)\n",
      "34. Feature 39 (0.005634)\n",
      "35. Feature 24 (0.005583)\n",
      "36. Feature 60 (0.005491)\n",
      "37. Feature 85 (0.005356)\n",
      "38. Feature 87 (0.005308)\n",
      "39. Feature 23 (0.005057)\n",
      "40. Feature 43 (0.005040)\n",
      "41. Feature 79 (0.004522)\n",
      "42. Feature 53 (0.004500)\n",
      "43. Feature 44 (0.004289)\n",
      "44. Feature 55 (0.004152)\n",
      "45. Feature 33 (0.003901)\n",
      "46. Feature 76 (0.003844)\n",
      "47. Feature 57 (0.003817)\n",
      "48. Feature 46 (0.003744)\n",
      "49. Feature 77 (0.003450)\n",
      "50. Feature 27 (0.003430)\n",
      "51. Feature 47 (0.003359)\n",
      "52. Feature 21 (0.003329)\n",
      "53. Feature 32 (0.003214)\n",
      "54. Feature 19 (0.003117)\n",
      "55. Feature 65 (0.002989)\n",
      "56. Feature 74 (0.002738)\n",
      "57. Feature 71 (0.002682)\n",
      "58. Feature 58 (0.002674)\n",
      "59. Feature 82 (0.002618)\n",
      "60. Feature 3 (0.002236)\n",
      "61. Feature 17 (0.002143)\n",
      "62. Feature 5 (0.002132)\n",
      "63. Feature 31 (0.001772)\n",
      "64. Feature 75 (0.001770)\n",
      "65. Feature 49 (0.001754)\n",
      "66. Feature 48 (0.001746)\n",
      "67. Feature 88 (0.001664)\n",
      "68. Feature 35 (0.001544)\n",
      "69. Feature 1 (0.001493)\n",
      "70. Feature 59 (0.001488)\n",
      "71. Feature 50 (0.001413)\n",
      "72. Feature 69 (0.001407)\n",
      "73. Feature 40 (0.001337)\n",
      "74. Feature 2 (0.001310)\n",
      "75. Feature 78 (0.001286)\n",
      "76. Feature 28 (0.001187)\n",
      "77. Feature 45 (0.001180)\n",
      "78. Feature 30 (0.000980)\n",
      "79. Feature 4 (0.000680)\n",
      "80. Feature 91 (0.000551)\n",
      "81. Feature 67 (0.000485)\n",
      "82. Feature 63 (0.000458)\n",
      "83. Feature 61 (0.000301)\n",
      "84. Feature 34 (0.000063)\n",
      "85. Feature 84 (0.000063)\n",
      "86. Feature 22 (0.000000)\n",
      "87. Feature 13 (0.000000)\n",
      "88. Feature 29 (0.000000)\n",
      "89. Feature 41 (0.000000)\n",
      "90. Feature 42 (0.000000)\n",
      "91. Feature 51 (0.000000)\n",
      "92. Feature 62 (0.000000)\n"
     ]
    }
   ],
   "source": [
    "# Printting the ranking of importance\n",
    "print(\"Feature Rank:\")\n",
    "\n",
    "for i in range(x_train.shape[1]):\n",
    "    print(\"%d. Feature %d (%f)\" \n",
    "          % (i + 1, indices[i], relevants[indices[i]]))"
   ]
  },
  {
   "cell_type": "code",
   "execution_count": 219,
   "metadata": {},
   "outputs": [
    {
     "data": {
      "image/png": "[encoded data removed]",
      "text/plain": [
       "<Figure size 1080x360 with 1 Axes>"
      ]
     },
     "metadata": {
      "needs_background": "light"
     },
     "output_type": "display_data"
    }
   ],
   "source": [
    "# Plotting the feature importances\n",
    "plt.figure(1, figsize=(15, 5))\n",
    "plt.title(\"Feature Importances\")\n",
    "plt.bar(range(x_train.shape[1]), relevants[indices], color=\"r\", yerr=std[indices], align=\"center\")\n",
    "plt.xticks(range(x_train.shape[1]), x_train.columns[indices],rotation=90)\n",
    "plt.xlim([-1, x_train.shape[1]])\n",
    "plt.show();"
   ]
  },
  {
   "cell_type": "markdown",
   "metadata": {},
   "source": [
    "## Feature Extraction through PCA"
   ]
  },
  {
   "cell_type": "code",
   "execution_count": 220,
   "metadata": {},
   "outputs": [
    {
     "data": {
      "text/plain": [
       "PCA(copy=True, iterated_power='auto', n_components=None, random_state=None,\n",
       "    svd_solver='auto', tol=0.0, whiten=False)"
      ]
     },
     "execution_count": 220,
     "metadata": {},
     "output_type": "execute_result"
    }
   ],
   "source": [
    "# Initializing PCA and fitting\n",
    "pca = PCA()\n",
    "pca.fit(x_train)"
   ]
  },
  {
   "cell_type": "code",
   "execution_count": 221,
   "metadata": {},
   "outputs": [
    {
     "data": {
      "image/png": "[encoded data removed]",
      "text/plain": [
       "<Figure size 648x576 with 1 Axes>"
      ]
     },
     "metadata": {
      "needs_background": "light"
     },
     "output_type": "display_data"
    }
   ],
   "source": [
    "# Plotting to visualize the best number of elements\n",
    "plt.figure(1, figsize=(9, 8))\n",
    "plt.clf()\n",
    "plt.axes([.2, .2, .7, .7])\n",
    "plt.plot(pca.explained_variance_ratio_, linewidth=2)\n",
    "plt.axis('tight')\n",
    "plt.xlabel('Number of Feautres')\n",
    "plt.ylabel('Variance Ratio')\n",
    "plt.show();"
   ]
  },
  {
   "cell_type": "code",
   "execution_count": null,
   "metadata": {},
   "outputs": [],
   "source": []
  }
 ],
 "metadata": {
  "kernelspec": {
   "display_name": "Python 3",
   "language": "python",
   "name": "python3"
  },
  "language_info": {
   "codemirror_mode": {
    "name": "ipython",
    "version": 3
   },
   "file_extension": ".py",
   "mimetype": "text/x-python",
   "name": "python",
   "nbconvert_exporter": "python",
   "pygments_lexer": "ipython3",
   "version": "3.7.4"
  }
 },
 "nbformat": 4,
 "nbformat_minor": 2
}
