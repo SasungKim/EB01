{
 "cells": [
  {
   "cell_type": "markdown",
   "metadata": {},
   "source": [
    "## Setting up"
   ]
  },
  {
   "cell_type": "code",
   "execution_count": 30,
   "metadata": {},
   "outputs": [],
   "source": [
    "import pandas as pd\n",
    "import numpy as np\n",
    "import re\n",
    "from collections import Counter\n",
    "\n",
    "from sklearn.feature_extraction.text import CountVectorizer\n",
    "from sklearn.feature_extraction.text import TfidfVectorizer\n",
    "from sklearn.feature_extraction.text import TfidfTransformer\n",
    "\n",
    "#text preprocessing\n",
    "import nltk\n",
    "from nltk.tokenize import word_tokenize\n",
    "\n",
    "from textblob import TextBlob\n",
    "from textblob import TextBlob, Word, Blobber\n",
    "from textblob.classifiers import NaiveBayesClassifier\n",
    "from textblob.taggers import NLTKTagger\n",
    "\n",
    "# enable multiple outputs per cell\n",
    "from IPython.core.interactiveshell import InteractiveShell\n",
    "InteractiveShell.ast_node_interactivity = \"all\""
   ]
  },
  {
   "cell_type": "code",
   "execution_count": 31,
   "metadata": {},
   "outputs": [],
   "source": [
    "df_train = pd.read_csv('./datasets/train_cleaned.csv'\n",
    "                 , sep=',', encoding='utf-8')\n",
    "df_test = pd.read_csv('./datasets/test_cleaned.csv'\n",
    "                 , sep=',', encoding='utf-8')\n",
    "df_valid = pd.read_csv('./datasets/valid_cleaned.csv'\n",
    "                 , sep=',', encoding='utf-8')"
   ]
  },
  {
   "cell_type": "markdown",
   "metadata": {},
   "source": [
    "## defining functions for feature extraction"
   ]
  },
  {
   "cell_type": "markdown",
   "metadata": {},
   "source": [
    "### punctuation and symbols"
   ]
  },
  {
   "cell_type": "code",
   "execution_count": 32,
   "metadata": {},
   "outputs": [],
   "source": [
    "def count_symbol(statement, symbol):\n",
    "    return len(statement) - len(statement.replace(symbol, ''))"
   ]
  },
  {
   "cell_type": "markdown",
   "metadata": {},
   "source": [
    "### text processing"
   ]
  },
  {
   "cell_type": "code",
   "execution_count": 33,
   "metadata": {},
   "outputs": [],
   "source": [
    "# Input: String('str')\n",
    "# Description: Count the number of characters in input\n",
    "# Return: Character count - int ('count')\n",
    "\n",
    "def count_char(str):\n",
    "    no_space = str.replace(\" \", \"\")\n",
    "    count = len(no_space)\n",
    "    return count"
   ]
  },
  {
   "cell_type": "code",
   "execution_count": 34,
   "metadata": {},
   "outputs": [],
   "source": [
    "# Input: String('str')\n",
    "# Description: Count the number of words in input\n",
    "# Return: Word count - int ('count')\n",
    "\n",
    "def count_word(str):\n",
    "    count = len(str.split())\n",
    "    return count"
   ]
  },
  {
   "cell_type": "code",
   "execution_count": 35,
   "metadata": {},
   "outputs": [],
   "source": [
    "# Input: String ('str')\n",
    "# Description: Count the number of sentences by counting number of period(.)\n",
    "# Return: Sentence count - int ('sentence')\n",
    "\n",
    "def count_sent(str):\n",
    "    sentence = len(str.split('.'))\n",
    "    return sentence"
   ]
  },
  {
   "cell_type": "code",
   "execution_count": 36,
   "metadata": {},
   "outputs": [],
   "source": [
    "# Input: String ('str')\n",
    "# Description: Count the number of characters in each word in input and average the number of characters per word\n",
    "# Return: Average number of characters: float ('avg')\n",
    "\n",
    "def count_char_per_word(str):\n",
    "    word = []\n",
    "    word.append(str.split())\n",
    "    char_per_word = list()\n",
    "    for elements in word:\n",
    "        for char in elements:\n",
    "            c_in_w_count = len(char)\n",
    "            char_per_word.append(c_in_w_count)\n",
    "    # char_per_word_list.append()\n",
    "    avg = sum(char_per_word) / len(char_per_word)\n",
    "    char_per_word.clear()\n",
    "    return avg"
   ]
  },
  {
   "cell_type": "code",
   "execution_count": 37,
   "metadata": {},
   "outputs": [],
   "source": [
    "# Input: String ('str')\n",
    "# Description: Count the words that introduced only once in input\n",
    "# Return: Count of unique words - int ('unique_count')\n",
    "\n",
    "def count_unique(str):\n",
    "    words = str.split(' ')\n",
    "    c = Counter(words)\n",
    "    unique = [w for w in words if c[w] == 1]\n",
    "    unique_counter = len(unique)\n",
    "    return unique_counter"
   ]
  },
  {
   "cell_type": "code",
   "execution_count": 38,
   "metadata": {},
   "outputs": [],
   "source": [
    "# Input: String ('str')\n",
    "# Description: Count the number of uppercase letters\n",
    "# Return: Count of uppercase letters - int ('uppercase_count')\n",
    "\n",
    "def count_uppercase(str):\n",
    "    uppercase_count = sum(1 for c in str if c.isupper())\n",
    "    return uppercase_count"
   ]
  },
  {
   "cell_type": "code",
   "execution_count": 39,
   "metadata": {},
   "outputs": [],
   "source": [
    "# Input: String ('str')\n",
    "# Description: Count the number of month name mentioned\n",
    "# Return: Count of month name - int ('month_count')\n",
    "\n",
    "def count_month(str):\n",
    "    month_count = 0\n",
    "    month_list = [\"January\", \"February\", \"March\", \"April\", \"May\", \"June\"\n",
    "                  , \"July\", \"August\", \"September\", \"October\", \"November\"\n",
    "                  , \"December\"];\n",
    "    words = str.split()\n",
    "    for word in words:\n",
    "        if word in month_list:\n",
    "            month_count+=1\n",
    "        \n",
    "    return month_count"
   ]
  },
  {
   "cell_type": "code",
   "execution_count": 40,
   "metadata": {},
   "outputs": [],
   "source": [
    "# sentiment score calculation\n",
    "# sentiment score, polarity, subjectivity and intensity can be calculated\n",
    "def sentiment_score(str):\n",
    "    sentiment = TextBlob(str)\n",
    "    return sentiment.sentiment.polarity"
   ]
  },
  {
   "cell_type": "code",
   "execution_count": 41,
   "metadata": {},
   "outputs": [],
   "source": [
    "# Removing punctuation\n",
    "import string\n",
    "def remove_symbol(str):\n",
    "    no_symbol = re.sub(r'[^\\w\\s]','',str)\n",
    "    return no_symbol"
   ]
  },
  {
   "cell_type": "markdown",
   "metadata": {},
   "source": [
    "### generating feature values"
   ]
  },
  {
   "cell_type": "code",
   "execution_count": 42,
   "metadata": {},
   "outputs": [],
   "source": [
    "# counting symbols\n",
    "symbol_list = list('-?!%;:\"($,.')\n",
    "for symbol in symbol_list:\n",
    "    df_train['num_'+symbol] = df_train.statement.apply(lambda x: count_symbol(x, symbol))\n",
    "    df_test['num_'+symbol] = df_test.statement.apply(lambda x: count_symbol(x, symbol))\n",
    "    df_valid['num_'+symbol] = df_valid.statement.apply(lambda x: count_symbol(x, symbol))\n",
    "    "
   ]
  },
  {
   "cell_type": "code",
   "execution_count": 43,
   "metadata": {},
   "outputs": [],
   "source": [
    "# remove symbols to prepare to text processing\n",
    "df_train.statement = df_train.statement.apply(lambda x: remove_symbol(x))\n",
    "df_test.statement = df_test.statement.apply(lambda x: remove_symbol(x))\n",
    "df_valid.statement = df_valid.statement.apply(lambda x: remove_symbol(x))"
   ]
  },
  {
   "cell_type": "code",
   "execution_count": 44,
   "metadata": {
    "scrolled": true
   },
   "outputs": [],
   "source": [
    "# text processing that takes in statements\n",
    "feature_func = [count_char, count_word, count_sent, count_char_per_word\n",
    "                , count_unique, count_uppercase, count_month\n",
    "                , sentiment_score]\n",
    "for func in feature_func:\n",
    "    df_train[func.__name__] = df_train.statement.apply(lambda x: func(x))\n",
    "    df_test[func.__name__] = df_test.statement.apply(lambda x: func(x))\n",
    "    df_valid[func.__name__] = df_valid.statement.apply(lambda x: func(x))"
   ]
  },
  {
   "cell_type": "markdown",
   "metadata": {},
   "source": [
    "### LIWC"
   ]
  },
  {
   "cell_type": "code",
   "execution_count": 45,
   "metadata": {},
   "outputs": [],
   "source": [
    "def check_common(str, list):\n",
    "    count = 0;\n",
    "    words = str.split()\n",
    "    for word in words:\n",
    "        if word in list:\n",
    "            count+=1\n",
    "    return count"
   ]
  },
  {
   "cell_type": "code",
   "execution_count": 46,
   "metadata": {},
   "outputs": [],
   "source": [
    "def tagging_univ(str):\n",
    "    text = nltk.word_tokenize(str)\n",
    "    tagged = nltk.pos_tag(text, tagset = 'universal')\n",
    "    return tagged"
   ]
  },
  {
   "cell_type": "code",
   "execution_count": 47,
   "metadata": {},
   "outputs": [],
   "source": [
    "def tagging_nuniv(str):\n",
    "    text = nltk.word_tokenize(str)\n",
    "    tagged = nltk.pos_tag(text)\n",
    "    return tagged"
   ]
  },
  {
   "cell_type": "code",
   "execution_count": 48,
   "metadata": {},
   "outputs": [],
   "source": [
    "liwc_headers = ['function','pronoun','ppron','i','we','you','shehe'\n",
    "          ,'they','ipron','article','prep','auxverb','adverb'\n",
    "          ,'conj','negate','verb','adj','compare','interrog'\n",
    "          ,'number','quant','affect','posemo','negemo','anx','anger'\n",
    "          ,'sad','social','family','friend','female','male','cogproc'\n",
    "          ,'insight','cause','discrep','tentat','certain','differ'\n",
    "          ,'percept','see','hear','feel','bio','body','health','sexual'\n",
    "          ,'ingest','drives','affiliation','achieve','power','reward'\n",
    "          ,'risk','focuspast','focuspresent','focusfuture','relativ'\n",
    "          ,'motion','space','time','work','leisure','home','money'\n",
    "          ,'relig','death','informal','swear','netspeak','assent'\n",
    "          ,'nonflu','filler']\n",
    "\n",
    "liwc_dict = pd.read_csv('./datasets/LIWC_dict/LIWC_dictionary.csv'\n",
    "                  , delimiter = ',', names = liwc_headers\n",
    "                  , encoding = 'utf-8-sig')\n",
    "liwc_dict = liwc_dict.dropna()"
   ]
  },
  {
   "cell_type": "code",
   "execution_count": 49,
   "metadata": {},
   "outputs": [],
   "source": [
    "for header in liwc_headers:\n",
    "    df_train['count_'+header] = df_train.statement.apply(\n",
    "        lambda x: check_common(x, header))\n",
    "    \n",
    "    df_test['count_'+header] = df_test.statement.apply(\n",
    "        lambda x: check_common(x, header))\n",
    "    \n",
    "    df_valid['count_'+header] = df_valid.statement.apply(\n",
    "        lambda x: check_common(x, header))\n",
    "    "
   ]
  },
  {
   "cell_type": "markdown",
   "metadata": {},
   "source": [
    "# Bag of Words\n",
    "cv = CountVectorizer(stop_words='english')\n",
    "text_cv = cv.fit_transform(df.statement.values.astype('str'))"
   ]
  },
  {
   "cell_type": "markdown",
   "metadata": {},
   "source": [
    "# tf-idf, better than bag of words\n",
    "tfidf = TfidfVectorizer(norm=None)\n",
    "text_tfidf = tfidf.fit_transform(df.statement).toarray()"
   ]
  },
  {
   "cell_type": "code",
   "execution_count": 50,
   "metadata": {},
   "outputs": [],
   "source": [
    "df_train.to_csv('./datasets/train_extracted.csv', sep=',', encoding='utf-8', index=False)\n",
    "df_test.to_csv('./datasets/test_extracted.csv', sep=',', encoding='utf-8', index=False)\n",
    "df_valid.to_csv('./datasets/valid_extracted.csv', sep=',', encoding='utf-8', index=False)"
   ]
  }
 ],
 "metadata": {
  "kernelspec": {
   "display_name": "Python 3",
   "language": "python",
   "name": "python3"
  },
  "language_info": {
   "codemirror_mode": {
    "name": "ipython",
    "version": 3
   },
   "file_extension": ".py",
   "mimetype": "text/x-python",
   "name": "python",
   "nbconvert_exporter": "python",
   "pygments_lexer": "ipython3",
   "version": "3.7.4"
  }
 },
 "nbformat": 4,
 "nbformat_minor": 2
}
