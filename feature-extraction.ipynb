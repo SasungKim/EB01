{
 "cells": [
  {
   "cell_type": "markdown",
   "metadata": {},
   "source": [
    "## Setting up"
   ]
  },
  {
   "cell_type": "code",
   "execution_count": 815,
   "metadata": {},
   "outputs": [],
   "source": [
    "import pandas as pd\n",
    "import numpy as np\n",
    "import re\n",
    "from collections import Counter\n",
    "\n",
    "from sklearn.feature_extraction.text import CountVectorizer\n",
    "from sklearn.feature_extraction.text import TfidfVectorizer\n",
    "from sklearn.feature_extraction.text import TfidfTransformer\n",
    "\n",
    "#text preprocessing\n",
    "import nltk\n",
    "from nltk.tokenize import word_tokenize\n",
    "\n",
    "from textblob import TextBlob\n",
    "from textblob import TextBlob, Word, Blobber\n",
    "from textblob.classifiers import NaiveBayesClassifier\n",
    "from textblob.taggers import NLTKTagger\n",
    "\n",
    "# enable multiple outputs per cell\n",
    "from IPython.core.interactiveshell import InteractiveShell\n",
    "InteractiveShell.ast_node_interactivity = \"all\""
   ]
  },
  {
   "cell_type": "code",
   "execution_count": 816,
   "metadata": {},
   "outputs": [],
   "source": [
    "df = pd.read_csv('./datasets/data_cleaned.csv'\n",
    "                 , sep=',', encoding='utf-8')"
   ]
  },
  {
   "cell_type": "markdown",
   "metadata": {},
   "source": [
    "## defining functions for feature extraction"
   ]
  },
  {
   "cell_type": "markdown",
   "metadata": {},
   "source": [
    "### punctuation and symbols"
   ]
  },
  {
   "cell_type": "code",
   "execution_count": 817,
   "metadata": {},
   "outputs": [],
   "source": [
    "def count_symbol(statement, symbol):\n",
    "    return len(statement) - len(statement.replace(symbol, ''))"
   ]
  },
  {
   "cell_type": "markdown",
   "metadata": {},
   "source": [
    "### text processing"
   ]
  },
  {
   "cell_type": "code",
   "execution_count": 818,
   "metadata": {},
   "outputs": [],
   "source": [
    "# Input: String('str')\n",
    "# Description: Count the number of characters in input\n",
    "# Return: Character count - int ('count')\n",
    "\n",
    "def count_char(str):\n",
    "    no_space = str.replace(\" \", \"\")\n",
    "    count = len(no_space)\n",
    "    return count"
   ]
  },
  {
   "cell_type": "code",
   "execution_count": 819,
   "metadata": {},
   "outputs": [],
   "source": [
    "# Input: String('str')\n",
    "# Description: Count the number of words in input\n",
    "# Return: Word count - int ('count')\n",
    "\n",
    "def count_word(str):\n",
    "    count = len(str.split())\n",
    "    return count"
   ]
  },
  {
   "cell_type": "code",
   "execution_count": 820,
   "metadata": {},
   "outputs": [],
   "source": [
    "# Input: String ('str')\n",
    "# Description: Count the number of sentences by counting number of period(.)\n",
    "# Return: Sentence count - int ('sentence')\n",
    "\n",
    "def count_sent(str):\n",
    "    sentence = len(str.split('.'))\n",
    "    return sentence"
   ]
  },
  {
   "cell_type": "code",
   "execution_count": 821,
   "metadata": {},
   "outputs": [],
   "source": [
    "# Input: String ('str')\n",
    "# Description: Count the number of characters in each word in input and average the number of characters per word\n",
    "# Return: Average number of characters: float ('avg')\n",
    "\n",
    "def count_char_per_word(str):\n",
    "    word = []\n",
    "    word.append(str.split())\n",
    "    char_per_word = list()\n",
    "    for elements in word:\n",
    "        for char in elements:\n",
    "            c_in_w_count = len(char)\n",
    "            char_per_word.append(c_in_w_count)\n",
    "    # char_per_word_list.append()\n",
    "    avg = sum(char_per_word) / len(char_per_word)\n",
    "    char_per_word.clear()\n",
    "    return avg"
   ]
  },
  {
   "cell_type": "code",
   "execution_count": 822,
   "metadata": {},
   "outputs": [],
   "source": [
    "# Input: String ('str')\n",
    "# Description: Count the words that introduced only once in input\n",
    "# Return: Count of unique words - int ('unique_count')\n",
    "\n",
    "def count_unique(str):\n",
    "    words = str.split(' ')\n",
    "    c = Counter(words)\n",
    "    unique = [w for w in words if c[w] == 1]\n",
    "    unique_counter = len(unique)\n",
    "    return unique_counter"
   ]
  },
  {
   "cell_type": "code",
   "execution_count": 823,
   "metadata": {},
   "outputs": [],
   "source": [
    "# Input: String ('str')\n",
    "# Description: Count the number of uppercase letters\n",
    "# Return: Count of uppercase letters - int ('uppercase_count')\n",
    "\n",
    "def count_uppercase(str):\n",
    "    uppercase_count = sum(1 for c in str if c.isupper())\n",
    "    return uppercase_count"
   ]
  },
  {
   "cell_type": "code",
   "execution_count": 824,
   "metadata": {},
   "outputs": [],
   "source": [
    "# Input: String ('str')\n",
    "# Description: Count the number of month name mentioned\n",
    "# Return: Count of month name - int ('month_count')\n",
    "\n",
    "def count_month(str):\n",
    "    month_count = 0\n",
    "    month_list = [\"January\", \"February\", \"March\", \"April\", \"May\", \"June\"\n",
    "                  , \"July\", \"August\", \"September\", \"October\", \"November\"\n",
    "                  , \"December\"];\n",
    "    words = str.split()\n",
    "    for word in words:\n",
    "        if word in month_list:\n",
    "            month_count+=1\n",
    "        \n",
    "    return month_count"
   ]
  },
  {
   "cell_type": "code",
   "execution_count": 825,
   "metadata": {},
   "outputs": [],
   "source": [
    "# sentiment score calculation\n",
    "# sentiment score, polarity, subjectivity and intensity can be calculated\n",
    "def sentiment_score(str):\n",
    "    sentiment = TextBlob(str)\n",
    "    return sentiment.sentiment.polarity"
   ]
  },
  {
   "cell_type": "code",
   "execution_count": 826,
   "metadata": {},
   "outputs": [],
   "source": [
    "# Removing punctuation\n",
    "import string\n",
    "def remove_symbol(str):\n",
    "    no_symbol = re.sub(r'[^\\w\\s]','',str)\n",
    "    return no_symbol"
   ]
  },
  {
   "cell_type": "markdown",
   "metadata": {},
   "source": [
    "### generating feature values"
   ]
  },
  {
   "cell_type": "code",
   "execution_count": 827,
   "metadata": {},
   "outputs": [],
   "source": [
    "# counting symbols\n",
    "symbol_list = list('-?!%;:\"($,.')\n",
    "for symbol in symbol_list:\n",
    "    df['num_'+symbol] = df.statement.apply(lambda x: count_symbol(x, symbol))\n",
    "    "
   ]
  },
  {
   "cell_type": "code",
   "execution_count": 828,
   "metadata": {},
   "outputs": [],
   "source": [
    "# remove symbols to prepare to text processing\n",
    "df_raw = df.copy() # make a copy before transforming just in case\n",
    "df.statement = df.statement.apply(lambda x: remove_symbol(x))"
   ]
  },
  {
   "cell_type": "code",
   "execution_count": 829,
   "metadata": {
    "scrolled": true
   },
   "outputs": [],
   "source": [
    "# text processing that takes in statements\n",
    "feature_func = [count_char, count_word, count_sent, count_char_per_word\n",
    "                , count_unique, count_uppercase, count_month\n",
    "                , sentiment_score]\n",
    "for func in feature_func:\n",
    "    df[func.__name__] = df.statement.apply(lambda x: func(x))\n"
   ]
  },
  {
   "cell_type": "markdown",
   "metadata": {},
   "source": [
    "### LIWC"
   ]
  },
  {
   "cell_type": "code",
   "execution_count": 830,
   "metadata": {},
   "outputs": [],
   "source": [
    "def check_common(str, list):\n",
    "    count = 0;\n",
    "    words = str.split()\n",
    "    for word in words:\n",
    "        if word in list:\n",
    "            count+=1\n",
    "    return count"
   ]
  },
  {
   "cell_type": "code",
   "execution_count": 831,
   "metadata": {},
   "outputs": [],
   "source": [
    "def tagging_univ(str):\n",
    "    text = nltk.word_tokenize(str)\n",
    "    tagged = nltk.pos_tag(text, tagset = 'universal')\n",
    "    return tagged"
   ]
  },
  {
   "cell_type": "code",
   "execution_count": 832,
   "metadata": {},
   "outputs": [],
   "source": [
    "def tagging_nuniv(str):\n",
    "    text = nltk.word_tokenize(str)\n",
    "    tagged = nltk.pos_tag(text)\n",
    "    return tagged"
   ]
  },
  {
   "cell_type": "code",
   "execution_count": 833,
   "metadata": {},
   "outputs": [],
   "source": [
    "liwc_headers = ['function','pronoun','ppron','i','we','you','shehe'\n",
    "          ,'they','ipron','article','prep','auxverb','adverb'\n",
    "          ,'conj','negate','verb','adj','compare','interrog'\n",
    "          ,'number','quant','affect','posemo','negemo','anx','anger'\n",
    "          ,'sad','social','family','friend','female','male','cogproc'\n",
    "          ,'insight','cause','discrep','tentat','certain','differ'\n",
    "          ,'percept','see','hear','feel','bio','body','health','sexual'\n",
    "          ,'ingest','drives','affiliation','achieve','power','reward'\n",
    "          ,'risk','focuspast','focuspresent','focusfuture','relativ'\n",
    "          ,'motion','space','time','work','leisure','home','money'\n",
    "          ,'relig','death','informal','swear','netspeak','assent'\n",
    "          ,'nonflu','filler']\n",
    "\n",
    "liwc_dict = pd.read_csv('./datasets/LIWC_dict/LIWC_dictionary.csv'\n",
    "                  , delimiter = ',', names = liwc_headers\n",
    "                  , encoding = 'utf-8-sig')\n",
    "liwc_dict = liwc_dict.dropna()"
   ]
  },
  {
   "cell_type": "code",
   "execution_count": 834,
   "metadata": {},
   "outputs": [],
   "source": [
    "for header in liwc_headers:\n",
    "    df['count_'+header] = df.statement.apply(\n",
    "        lambda x: check_common(x, header))\n",
    "    "
   ]
  },
  {
   "cell_type": "code",
   "execution_count": 835,
   "metadata": {},
   "outputs": [],
   "source": [
    "# Bag of Words\n",
    "cv = CountVectorizer(stop_words='english')\n",
    "text_cv = cv.fit_transform(df.statement.values.astype('str'))"
   ]
  },
  {
   "cell_type": "code",
   "execution_count": 836,
   "metadata": {},
   "outputs": [],
   "source": [
    "# tf-idf, better than bag of words\n",
    "tfidf = TfidfVectorizer(norm=None)\n",
    "text_tfidf = tfidf.fit_transform(df.statement).toarray()"
   ]
  },
  {
   "cell_type": "code",
   "execution_count": 837,
   "metadata": {},
   "outputs": [],
   "source": [
    "df.to_csv('./datasets/feature_extracted.csv', sep=',', encoding='utf-8', index=False)"
   ]
  }
 ],
 "metadata": {
  "kernelspec": {
   "display_name": "Python 3",
   "language": "python",
   "name": "python3"
  },
  "language_info": {
   "codemirror_mode": {
    "name": "ipython",
    "version": 3
   },
   "file_extension": ".py",
   "mimetype": "text/x-python",
   "name": "python",
   "nbconvert_exporter": "python",
   "pygments_lexer": "ipython3",
   "version": "3.7.4"
  }
 },
 "nbformat": 4,
 "nbformat_minor": 2
}
