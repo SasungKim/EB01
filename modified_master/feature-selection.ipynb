{
 "cells": [
  {
   "cell_type": "markdown",
   "metadata": {},
   "source": [
    "Resources: \n",
    "- https://www.kaggle.com/ferneutron/feature-extraction-with-different-methods\n",
    "- https://towardsdatascience.com/why-how-and-when-to-apply-feature-selection-e9c69adfabf2"
   ]
  },
  {
   "cell_type": "markdown",
   "metadata": {},
   "source": [
    "## Setting up"
   ]
  },
  {
   "cell_type": "code",
   "execution_count": 1,
   "metadata": {},
   "outputs": [],
   "source": [
    "import pandas as pd # To handle the data set.\n",
    "import seaborn as sb # To display visualizations.\n",
    "import matplotlib.pyplot as plt # To plot\n",
    "import numpy as np\n",
    "\n",
    "from sklearn.model_selection import train_test_split\n",
    "from sklearn.ensemble import RandomForestClassifier # Random Forest\n",
    "from sklearn.neighbors import KNeighborsClassifier # K-Neighbors\n",
    "from sklearn.naive_bayes import GaussianNB # GaussianNB\n",
    "from sklearn.svm import LinearSVC # LinearSVC\n",
    "from sklearn import svm # LinearSVC\n",
    "from sklearn.svm import SVC # LinearSVC\n",
    "from sklearn.metrics import confusion_matrix # To calculate the confusion matrix\n",
    "from sklearn.metrics import accuracy_score # To calculate the score\n",
    "from sklearn.feature_selection import SelectKBest # Univariate Feature Selection\n",
    "from sklearn.feature_selection import chi2 # To apply Univariate Feature Selection\n",
    "from sklearn.feature_selection import f_classif\n",
    "from sklearn.feature_selection import mutual_info_classif\n",
    "from sklearn.feature_selection import RFE # Recursive Feature Selection\n",
    "from sklearn.feature_selection import RFECV # Recursive Feature Selection with Cross Validation\n",
    "from sklearn.feature_selection import VarianceThreshold\n",
    "from sklearn.linear_model import LogisticRegression\n",
    "from sklearn.decomposition import PCA # To apply PCA\n",
    "from sklearn import preprocessing # To get MinMax Scaler function\n",
    "\n",
    "\n",
    "# To plot inline\n",
    "%matplotlib inline\n",
    "\n",
    "# Evaluation\n",
    "from sklearn.metrics import accuracy_score\n",
    "from yellowbrick.classifier import ClassificationReport\n",
    "from sklearn.metrics import confusion_matrix\n",
    "from sklearn.metrics import f1_score\n",
    "from sklearn.model_selection import cross_val_score\n",
    "\n",
    "# enable multiple outputs per cell\n",
    "from IPython.core.interactiveshell import InteractiveShell\n",
    "InteractiveShell.ast_node_interactivity = \"all\"\n",
    "\n",
    "# hide warnings\n",
    "import warnings\n",
    "warnings.filterwarnings('ignore')"
   ]
  },
  {
   "cell_type": "code",
   "execution_count": 13,
   "metadata": {},
   "outputs": [],
   "source": [
    "def setup(fileName):\n",
    "    df = pd.read_csv(f'./datasets/feature_extracted_{fileName}.csv'\n",
    "                     , sep=',', encoding='utf-8')\n",
    "    df = df.dropna();\n",
    "\n",
    "    # change label into binary classification\n",
    "    #df_raw = df.copy() # copy of df before manipulation just in case\n",
    "    #df = df.drop('statement', axis=1)\n",
    "    df.label.loc[(df['label'] >= 0.5)] = 1;\n",
    "    df.label.loc[(df['label'] < 0.5)] = 0;\n",
    "    #df_target = df['label']\n",
    "    #df_feature = df.drop('label', axis=1)\n",
    "    \n",
    "    return df\n",
    "\n",
    "df_train = setup('train')\n",
    "df_test = setup('test')\n",
    "\n",
    "feature_headings = [col for col in df_train.columns if col not in ['statement', 'label', 'subject']]\n",
    "df_feature_train = df_train[feature_headings]\n",
    "df_target_train = df_train['label']\n",
    "df_feature_test = df_test[feature_headings]\n",
    "df_target_test = df_test['label']\n",
    "\n"
   ]
  },
  {
   "cell_type": "code",
   "execution_count": 16,
   "metadata": {},
   "outputs": [
    {
     "name": "stdout",
     "output_type": "stream",
     "text": [
      "Index(['num_-', 'num_?', 'num_!', 'num_%', 'num_;', 'num_:', 'num_\"', 'num_(',\n",
      "       'num_$', 'num_,', 'num_.', 'count_char', 'count_word', 'count_sent',\n",
      "       'count_char_per_word', 'count_unique', 'count_uppercase', 'count_month',\n",
      "       'sentiment_score', 'count_function', 'count_pronoun', 'count_ppron',\n",
      "       'count_i', 'count_we', 'count_you', 'count_shehe', 'count_they',\n",
      "       'count_ipron', 'count_article', 'count_prep', 'count_auxverb',\n",
      "       'count_adverb', 'count_conj', 'count_negate', 'count_verb', 'count_adj',\n",
      "       'count_compare', 'count_interrog', 'count_number', 'count_quant',\n",
      "       'count_affect', 'count_posemo', 'count_negemo', 'count_anx',\n",
      "       'count_anger', 'count_sad', 'count_social', 'count_family',\n",
      "       'count_friend', 'count_female', 'count_male', 'count_cogproc',\n",
      "       'count_insight', 'count_cause', 'count_discrep', 'count_tentat',\n",
      "       'count_certain', 'count_differ', 'count_percept', 'count_see',\n",
      "       'count_hear', 'count_feel', 'count_bio', 'count_body', 'count_health',\n",
      "       'count_sexual', 'count_ingest', 'count_drives', 'count_affiliation',\n",
      "       'count_achieve', 'count_power', 'count_reward', 'count_risk',\n",
      "       'count_focuspast', 'count_focuspresent', 'count_focusfuture',\n",
      "       'count_relativ', 'count_motion', 'count_space', 'count_time',\n",
      "       'count_work', 'count_leisure', 'count_home', 'count_money',\n",
      "       'count_relig', 'count_death', 'count_informal', 'count_swear',\n",
      "       'count_netspeak', 'count_assent', 'count_nonflu', 'count_filler'],\n",
      "      dtype='object')\n"
     ]
    }
   ],
   "source": [
    "# remove low variance data\n",
    "def variance_threshold(df, threshold=0.0):\n",
    "    selector = VarianceThreshold(threshold)\n",
    "    VT = selector.fit_transform(df)\n",
    "    return df[df.columns[selector.get_support(indices=True)]]\n",
    "\n",
    "# any column with a probability of having 0 variance above 0.8 will be eliminated\n",
    "# any column with variance lower than 0.16 will be eliminated\n",
    "\n",
    "df_feature = variance_threshold(df_feature_train, (.8 * (1 - .8)))\n",
    "print(df_feature_train.columns)\n",
    "\n"
   ]
  },
  {
   "cell_type": "code",
   "execution_count": 20,
   "metadata": {},
   "outputs": [],
   "source": [
    "# Initializing the MinMaxScaler function\n",
    "min_max_scaler = preprocessing.MinMaxScaler()\n",
    "#standard_scaler = preprocessing.StandardScaler()\n",
    "\n",
    "# Scaling dataset keeping the columns name\n",
    "df_feature_scaled_train = pd.DataFrame(min_max_scaler.fit_transform(df_feature_train), columns = df_feature_train.columns)\n",
    "df_feature_scaled_test = pd.DataFrame(min_max_scaler.fit_transform(df_feature_test), columns = df_feature_test.columns)\n",
    "#X_scaled = pd.DataFrame(standard_scaler.fit_transform(X), columns = X.columns)\n"
   ]
  },
  {
   "cell_type": "code",
   "execution_count": 69,
   "metadata": {},
   "outputs": [],
   "source": [
    "# Splitting  up data, seting 80% for train and 20% for test.\n",
    "#x_train, x_test, y_train, y_test = train_test_split(\n",
    "#    df_feature_scaled, df_target, test_size=0.2, random_state=42)\n",
    "\n",
    "x_train = df_feature_scaled_train\n",
    "y_train = df_target_train\n",
    "x_test = df_feature_scaled_test\n",
    "y_test = df_target_test\n"
   ]
  },
  {
   "cell_type": "markdown",
   "metadata": {},
   "source": [
    "## Univariate selection"
   ]
  },
  {
   "cell_type": "markdown",
   "metadata": {},
   "source": [
    "### Chi2"
   ]
  },
  {
   "cell_type": "code",
   "execution_count": 22,
   "metadata": {},
   "outputs": [],
   "source": [
    "# Initialize SelectKBest function\n",
    "k = 10\n",
    "selector_chi2 = SelectKBest(chi2,k=10).fit(x_train, y_train)"
   ]
  },
  {
   "cell_type": "code",
   "execution_count": 24,
   "metadata": {
    "scrolled": true
   },
   "outputs": [
    {
     "data": {
      "text/plain": [
       "[(1.5582287308228728, 'count_cogproc'),\n",
       " (2.0276585066806305, 'count_certain'),\n",
       " (2.276768059899767, 'count_number'),\n",
       " (2.337343096234309, 'count_verb'),\n",
       " (3.57736912421628, 'count_they'),\n",
       " (nan, 'count_prep'),\n",
       " (nan, 'count_bio'),\n",
       " (3.1885813750368133, 'count_body'),\n",
       " (6.999593161805377, 'count_ingest'),\n",
       " (7.009395393828154, 'count_insight')]"
      ]
     },
     "execution_count": 24,
     "metadata": {},
     "output_type": "execute_result"
    }
   ],
   "source": [
    "# Creating a dict to visualize which features were selected with the highest score\n",
    "feature_dict_chi2 = {key:value for (key, value) in zip(\n",
    "    selector_chi2.scores_, x_train.columns)}\n",
    "sorted(feature_dict_chi2.items())[-k:]"
   ]
  },
  {
   "cell_type": "code",
   "execution_count": 25,
   "metadata": {},
   "outputs": [],
   "source": [
    "x_train_chi2 = selector_chi2.transform(x_train)\n",
    "x_test_chi2 = selector_chi2.transform(x_test)"
   ]
  },
  {
   "cell_type": "markdown",
   "metadata": {},
   "source": [
    "## Anova"
   ]
  },
  {
   "cell_type": "code",
   "execution_count": 26,
   "metadata": {},
   "outputs": [],
   "source": [
    "# Initialize SelectKBest function\n",
    "selector_anova = SelectKBest(f_classif, k=10).fit(x_train, y_train)"
   ]
  },
  {
   "cell_type": "code",
   "execution_count": 27,
   "metadata": {
    "scrolled": true
   },
   "outputs": [
    {
     "data": {
      "text/plain": [
       "[(1.984497073443344, 'count_affiliation'),\n",
       " (2.2592934493914507, 'count_differ'),\n",
       " (28.76122106922978, 'count_certain'),\n",
       " (nan, 'count_bio'),\n",
       " (3.028862568319707, 'count_motion'),\n",
       " (3.193648574864068, 'count_body'),\n",
       " (3.8863138880146786, 'count_money'),\n",
       " (21.7350124222528, 'count_informal'),\n",
       " (54.63763338079487, 'count_ingest'),\n",
       " (54.71563279644279, 'count_insight')]"
      ]
     },
     "execution_count": 27,
     "metadata": {},
     "output_type": "execute_result"
    }
   ],
   "source": [
    "feature_dict_anova = {key:value for (key, value) in zip(\n",
    "    selector_anova.scores_, x_train.columns)}\n",
    "sorted(feature_dict_anova.items())[-k:]"
   ]
  },
  {
   "cell_type": "code",
   "execution_count": 28,
   "metadata": {},
   "outputs": [
    {
     "name": "stdout",
     "output_type": "stream",
     "text": [
      "(10205, 10)\n"
     ]
    }
   ],
   "source": [
    "x_train_anova = selector_anova.transform(x_train)\n",
    "x_test_anova = selector_anova.transform(x_test)\n",
    "print(x_train_anova.shape)"
   ]
  },
  {
   "cell_type": "markdown",
   "metadata": {},
   "source": [
    "## Mutual information"
   ]
  },
  {
   "cell_type": "code",
   "execution_count": 29,
   "metadata": {},
   "outputs": [],
   "source": [
    "selector_mutual = SelectKBest(mutual_info_classif, k=10)\n",
    "x_train_mutual = selector_mutual.fit_transform(x_train, y_train)"
   ]
  },
  {
   "cell_type": "code",
   "execution_count": 30,
   "metadata": {},
   "outputs": [
    {
     "data": {
      "text/plain": [
       "[(1.984497073443344, 'count_affiliation'),\n",
       " (2.2592934493914507, 'count_differ'),\n",
       " (28.76122106922978, 'count_certain'),\n",
       " (nan, 'count_bio'),\n",
       " (3.028862568319707, 'count_motion'),\n",
       " (3.193648574864068, 'count_body'),\n",
       " (3.8863138880146786, 'count_money'),\n",
       " (21.7350124222528, 'count_informal'),\n",
       " (54.63763338079487, 'count_ingest'),\n",
       " (54.71563279644279, 'count_insight')]"
      ]
     },
     "execution_count": 30,
     "metadata": {},
     "output_type": "execute_result"
    }
   ],
   "source": [
    "feature_dict_anova = {key:value for (key, value) in zip(\n",
    "    selector_anova.scores_, x_train.columns)}\n",
    "sorted(feature_dict_anova.items())[-k:]"
   ]
  },
  {
   "cell_type": "code",
   "execution_count": 31,
   "metadata": {},
   "outputs": [
    {
     "name": "stdout",
     "output_type": "stream",
     "text": [
      "(10205, 10)\n"
     ]
    }
   ],
   "source": [
    "x_train_mutual = selector_mutual.transform(x_train)\n",
    "x_test_mutual = selector_mutual.transform(x_test)\n",
    "print(x_train_mutual.shape)"
   ]
  },
  {
   "cell_type": "markdown",
   "metadata": {},
   "source": [
    "## Recursive Feature Elimination"
   ]
  },
  {
   "cell_type": "code",
   "execution_count": 32,
   "metadata": {},
   "outputs": [],
   "source": [
    "# Initializing Random Forest Classifier\n",
    "RandForest_RFE = RandomForestClassifier() \n",
    "# Initializing the RFE object, one of the most important arguments is the estimator, in this case is RandomForest\n",
    "rfe = RFE(estimator=RandForest_RFE, n_features_to_select=10, step=1)\n",
    "# Fit the origial dataset\n",
    "rfe = rfe.fit(x_train, y_train)"
   ]
  },
  {
   "cell_type": "code",
   "execution_count": 33,
   "metadata": {},
   "outputs": [
    {
     "name": "stdout",
     "output_type": "stream",
     "text": [
      "Best features chosen by RFE: \n",
      "\n",
      "count_char\n",
      "count_word\n",
      "count_char_per_word\n",
      "count_unique\n",
      "count_uppercase\n",
      "sentiment_score\n",
      "count_they\n",
      "count_certain\n",
      "count_affiliation\n",
      "count_informal\n"
     ]
    }
   ],
   "source": [
    "print(\"Best features chosen by RFE: \\n\")\n",
    "for i in x_train.columns[rfe.support_]:\n",
    "    print(i)"
   ]
  },
  {
   "cell_type": "code",
   "execution_count": 34,
   "metadata": {},
   "outputs": [
    {
     "name": "stdout",
     "output_type": "stream",
     "text": [
      "Accuracy:  0.5169692186266772\n"
     ]
    }
   ],
   "source": [
    "x_train_RFE = rfe.transform(x_train)\n",
    "x_test_RFE = rfe.transform(x_test)\n",
    "RandForest_RFE = RandForest_RFE.fit(x_train_RFE, y_train)\n",
    "y_pred = RandForest_RFE.predict(x_test_RFE)\n",
    "accuracy = accuracy_score(y_test, y_pred)\n",
    "print('Accuracy: ',accuracy)"
   ]
  },
  {
   "cell_type": "code",
   "execution_count": 35,
   "metadata": {},
   "outputs": [
    {
     "data": {
      "text/plain": [
       "<matplotlib.axes._subplots.AxesSubplot at 0x1991e884278>"
      ]
     },
     "execution_count": 35,
     "metadata": {},
     "output_type": "execute_result"
    },
    {
     "data": {
      "image/png": "[encoded data removed]",
      "text/plain": [
       "<Figure size 432x288 with 2 Axes>"
      ]
     },
     "metadata": {
      "needs_background": "light"
     },
     "output_type": "display_data"
    }
   ],
   "source": [
    "confMatrix = confusion_matrix(y_test, y_pred)\n",
    "sb.heatmap(confMatrix, annot=True, fmt=\"d\")"
   ]
  },
  {
   "cell_type": "markdown",
   "metadata": {},
   "source": [
    "## Recursive Feature Elimination with Cross-Validation"
   ]
  },
  {
   "cell_type": "code",
   "execution_count": 70,
   "metadata": {},
   "outputs": [
    {
     "name": "stdout",
     "output_type": "stream",
     "text": [
      "Best number of features : 43\n",
      "Features :\n",
      "\n",
      "num_-\n",
      "count_char\n",
      "count_word\n",
      "count_char_per_word\n",
      "count_unique\n",
      "count_uppercase\n",
      "sentiment_score\n",
      "count_pronoun\n",
      "count_ppron\n",
      "count_you\n",
      "count_shehe\n",
      "count_they\n",
      "count_ipron\n",
      "count_negate\n",
      "count_compare\n",
      "count_interrog\n",
      "count_number\n",
      "count_quant\n",
      "count_anx\n",
      "count_anger\n",
      "count_social\n",
      "count_insight\n",
      "count_cause\n",
      "count_discrep\n",
      "count_tentat\n",
      "count_certain\n",
      "count_hear\n",
      "count_health\n",
      "count_ingest\n",
      "count_affiliation\n",
      "count_power\n",
      "count_risk\n",
      "count_focuspast\n",
      "count_relativ\n",
      "count_time\n",
      "count_work\n",
      "count_leisure\n",
      "count_money\n",
      "count_death\n",
      "count_informal\n",
      "count_swear\n",
      "count_assent\n",
      "count_nonflu\n"
     ]
    }
   ],
   "source": [
    "# Initialize the Random Forest Classifier\n",
    "RandForest_RFECV = RandomForestClassifier() \n",
    "# Initialize the RFECV function setting 3-fold cross validation\n",
    "rfecv = RFECV(estimator=RandForest_RFECV, step=1, cv=5, scoring='accuracy')\n",
    "# Fit data\n",
    "rfecv = rfecv.fit(x_train, y_train)\n",
    "\n",
    "print('Best number of features :', rfecv.n_features_)\n",
    "print('Features :\\n')\n",
    "for i in x_train.columns[rfecv.support_]:\n",
    "    print(i)"
   ]
  },
  {
   "cell_type": "code",
   "execution_count": 71,
   "metadata": {},
   "outputs": [
    {
     "data": {
      "text/plain": [
       "<Figure size 432x288 with 0 Axes>"
      ]
     },
     "execution_count": 71,
     "metadata": {},
     "output_type": "execute_result"
    },
    {
     "data": {
      "text/plain": [
       "Text(0.5, 0, 'Number of Features')"
      ]
     },
     "execution_count": 71,
     "metadata": {},
     "output_type": "execute_result"
    },
    {
     "data": {
      "text/plain": [
       "Text(0, 0.5, 'Score of Selected Features')"
      ]
     },
     "execution_count": 71,
     "metadata": {},
     "output_type": "execute_result"
    },
    {
     "data": {
      "text/plain": [
       "[<matplotlib.lines.Line2D at 0x1991f7d7be0>]"
      ]
     },
     "execution_count": 71,
     "metadata": {},
     "output_type": "execute_result"
    },
    {
     "data": {
      "image/png": "[encoded data removed]",
      "text/plain": [
       "<Figure size 432x288 with 1 Axes>"
      ]
     },
     "metadata": {
      "needs_background": "light"
     },
     "output_type": "display_data"
    }
   ],
   "source": [
    "plt.figure()\n",
    "plt.xlabel(\"Number of Features\")\n",
    "plt.ylabel(\"Score of Selected Features\")\n",
    "plt.plot(range(1, len(rfecv.grid_scores_) + 1), rfecv.grid_scores_)\n",
    "plt.show()"
   ]
  },
  {
   "cell_type": "markdown",
   "metadata": {},
   "source": [
    "## Tree based Feature Selection"
   ]
  },
  {
   "cell_type": "code",
   "execution_count": 72,
   "metadata": {},
   "outputs": [],
   "source": [
    "# Initialize the Random Forest Classifier\n",
    "RandForest_Tree = RandomForestClassifier()  \n",
    "# Fit the random forest with the original data\n",
    "RandForest_Tree = RandForest_Tree.fit(x_train, y_train)\n",
    "# Getting the relevance between features\n",
    "relevants = RandForest_Tree.feature_importances_"
   ]
  },
  {
   "cell_type": "code",
   "execution_count": 73,
   "metadata": {},
   "outputs": [],
   "source": [
    "# Apply the tree based on importance for the random forest classifier and indexing it\n",
    "std = np.std([tree.feature_importances_ for tree in RandForest_Tree.estimators_], axis=0)\n",
    "indices = np.argsort(relevants)[::-1]"
   ]
  },
  {
   "cell_type": "code",
   "execution_count": 74,
   "metadata": {},
   "outputs": [
    {
     "name": "stdout",
     "output_type": "stream",
     "text": [
      "Feature Rank:\n",
      "1. Feature 14 (0.140689)\n",
      "2. Feature 11 (0.133980)\n",
      "3. Feature 18 (0.087301)\n",
      "4. Feature 12 (0.085315)\n",
      "5. Feature 15 (0.084307)\n",
      "6. Feature 16 (0.074517)\n",
      "7. Feature 26 (0.043132)\n",
      "8. Feature 86 (0.029880)\n",
      "9. Feature 0 (0.023636)\n",
      "10. Feature 36 (0.016158)\n",
      "11. Feature 64 (0.012944)\n",
      "12. Feature 83 (0.012219)\n",
      "13. Feature 38 (0.010097)\n",
      "14. Feature 89 (0.009714)\n",
      "15. Feature 81 (0.009602)\n",
      "16. Feature 73 (0.009508)\n",
      "17. Feature 72 (0.009285)\n",
      "18. Feature 54 (0.009275)\n",
      "19. Feature 80 (0.008575)\n",
      "20. Feature 52 (0.007839)\n",
      "21. Feature 66 (0.007770)\n",
      "22. Feature 25 (0.007699)\n",
      "23. Feature 20 (0.007410)\n",
      "24. Feature 56 (0.007369)\n",
      "25. Feature 24 (0.007130)\n",
      "26. Feature 37 (0.007060)\n",
      "27. Feature 68 (0.006661)\n",
      "28. Feature 90 (0.006571)\n",
      "29. Feature 60 (0.006090)\n",
      "30. Feature 87 (0.005454)\n",
      "31. Feature 44 (0.005447)\n",
      "32. Feature 39 (0.005371)\n",
      "33. Feature 43 (0.005152)\n",
      "34. Feature 79 (0.005116)\n",
      "35. Feature 23 (0.004731)\n",
      "36. Feature 85 (0.004584)\n",
      "37. Feature 70 (0.004517)\n",
      "38. Feature 33 (0.004458)\n",
      "39. Feature 53 (0.004405)\n",
      "40. Feature 46 (0.003996)\n",
      "41. Feature 55 (0.003965)\n",
      "42. Feature 76 (0.003621)\n",
      "43. Feature 57 (0.003587)\n",
      "44. Feature 58 (0.003270)\n",
      "45. Feature 82 (0.003204)\n",
      "46. Feature 19 (0.003151)\n",
      "47. Feature 77 (0.002811)\n",
      "48. Feature 32 (0.002738)\n",
      "49. Feature 27 (0.002698)\n",
      "50. Feature 21 (0.002584)\n",
      "51. Feature 65 (0.002576)\n",
      "52. Feature 71 (0.002533)\n",
      "53. Feature 74 (0.002463)\n",
      "54. Feature 17 (0.002339)\n",
      "55. Feature 47 (0.002332)\n",
      "56. Feature 88 (0.001860)\n",
      "57. Feature 48 (0.001740)\n",
      "58. Feature 78 (0.001595)\n",
      "59. Feature 75 (0.001581)\n",
      "60. Feature 45 (0.001538)\n",
      "61. Feature 49 (0.001455)\n",
      "62. Feature 59 (0.001428)\n",
      "63. Feature 50 (0.001268)\n",
      "64. Feature 35 (0.001196)\n",
      "65. Feature 30 (0.001188)\n",
      "66. Feature 31 (0.001088)\n",
      "67. Feature 28 (0.001072)\n",
      "68. Feature 69 (0.000986)\n",
      "69. Feature 40 (0.000709)\n",
      "70. Feature 61 (0.000670)\n",
      "71. Feature 67 (0.000624)\n",
      "72. Feature 91 (0.000605)\n",
      "73. Feature 63 (0.000427)\n",
      "74. Feature 41 (0.000057)\n",
      "75. Feature 34 (0.000029)\n",
      "76. Feature 51 (0.000029)\n",
      "77. Feature 84 (0.000015)\n",
      "78. Feature 42 (0.000004)\n",
      "79. Feature 62 (0.000000)\n",
      "80. Feature 13 (0.000000)\n",
      "81. Feature 29 (0.000000)\n",
      "82. Feature 10 (0.000000)\n",
      "83. Feature 22 (0.000000)\n",
      "84. Feature 8 (0.000000)\n",
      "85. Feature 7 (0.000000)\n",
      "86. Feature 6 (0.000000)\n",
      "87. Feature 5 (0.000000)\n",
      "88. Feature 4 (0.000000)\n",
      "89. Feature 3 (0.000000)\n",
      "90. Feature 2 (0.000000)\n",
      "91. Feature 1 (0.000000)\n",
      "92. Feature 9 (0.000000)\n"
     ]
    }
   ],
   "source": [
    "# Printting the ranking of importance\n",
    "print(\"Feature Rank:\")\n",
    "\n",
    "for i in range(x_train.shape[1]):\n",
    "    print(\"%d. Feature %d (%f)\" \n",
    "          % (i + 1, indices[i], relevants[indices[i]]))"
   ]
  },
  {
   "cell_type": "code",
   "execution_count": 75,
   "metadata": {},
   "outputs": [
    {
     "data": {
      "image/png": "[encoded data removed]",
      "text/plain": [
       "<Figure size 720x360 with 1 Axes>"
      ]
     },
     "metadata": {
      "needs_background": "light"
     },
     "output_type": "display_data"
    }
   ],
   "source": [
    "# Plotting the feature importances\n",
    "plt.figure(1, figsize=(10, 5))\n",
    "plt.title(\"Feature Importances\")\n",
    "plt.bar(range(x_train.shape[1]), relevants[indices], color=\"r\", yerr=std[indices], align=\"center\")\n",
    "plt.xticks(range(x_train.shape[1]), x_train.columns[indices],rotation=90)\n",
    "plt.xlim([-1, x_train.shape[1]])\n",
    "plt.show();"
   ]
  },
  {
   "cell_type": "markdown",
   "metadata": {},
   "source": [
    "## Feature Extraction through PCA"
   ]
  },
  {
   "cell_type": "code",
   "execution_count": 76,
   "metadata": {},
   "outputs": [
    {
     "data": {
      "text/plain": [
       "PCA(copy=True, iterated_power='auto', n_components=None, random_state=None,\n",
       "    svd_solver='auto', tol=0.0, whiten=False)"
      ]
     },
     "execution_count": 76,
     "metadata": {},
     "output_type": "execute_result"
    }
   ],
   "source": [
    "# Initializing PCA and fitting\n",
    "pca = PCA()\n",
    "pca.fit(x_train)"
   ]
  },
  {
   "cell_type": "code",
   "execution_count": 77,
   "metadata": {},
   "outputs": [
    {
     "data": {
      "image/png": "[encoded data removed]",
      "text/plain": [
       "<Figure size 648x576 with 1 Axes>"
      ]
     },
     "metadata": {
      "needs_background": "light"
     },
     "output_type": "display_data"
    }
   ],
   "source": [
    "# Plotting to visualize the best number of elements\n",
    "plt.figure(1, figsize=(9, 8))\n",
    "plt.clf()\n",
    "plt.axes([.2, .2, .7, .7])\n",
    "plt.plot(pca.explained_variance_ratio_, linewidth=2)\n",
    "plt.axis('tight')\n",
    "plt.xlabel('Number of Feautres')\n",
    "plt.ylabel('Variance Ratio')\n",
    "plt.show();"
   ]
  },
  {
   "cell_type": "markdown",
   "metadata": {},
   "source": [
    "## Before and after feature selection, accuracy comparison"
   ]
  },
  {
   "cell_type": "markdown",
   "metadata": {},
   "source": [
    "### Random Forest"
   ]
  },
  {
   "cell_type": "code",
   "execution_count": 78,
   "metadata": {},
   "outputs": [],
   "source": [
    "#All features\n",
    "RandForest = RandomForestClassifier()      \n",
    "RandForest = RandForest.fit(x_train, y_train)\n",
    "y_pred_RF = RandForest.predict(x_test)\n",
    "rf_all = accuracy_score(y_test, y_pred_RF)"
   ]
  },
  {
   "cell_type": "code",
   "execution_count": 79,
   "metadata": {
    "scrolled": true
   },
   "outputs": [],
   "source": [
    "#Chi2\n",
    "RandForest_chi2 = RandomForestClassifier()      \n",
    "RandForest_chi2 = RandForest_chi2.fit(x_train_chi2, y_train)\n",
    "y_pred_chi2 = RandForest_chi2.predict(x_test_chi2)\n",
    "rf_chi2 = accuracy_score(y_test, y_pred_chi2)"
   ]
  },
  {
   "cell_type": "code",
   "execution_count": 80,
   "metadata": {},
   "outputs": [],
   "source": [
    "# Anova\n",
    "RandForest_anova = RandomForestClassifier()      \n",
    "RandForest_anova = RandForest_anova.fit(x_train_anova, y_train)\n",
    "y_pred_anova = RandForest_anova.predict(x_test_anova)\n",
    "rf_anova = accuracy_score(y_test, y_pred_anova)\n"
   ]
  },
  {
   "cell_type": "code",
   "execution_count": 81,
   "metadata": {},
   "outputs": [],
   "source": [
    "# Mutual information\n",
    "RandForest_mutual = RandomForestClassifier()      \n",
    "RandForest_mutual = RandForest_mutual.fit(x_train_mutual, y_train)\n",
    "y_pred_mutual = RandForest_mutual.predict(x_test_mutual)\n",
    "rf_mutual = accuracy_score(y_test, y_pred_mutual)"
   ]
  },
  {
   "cell_type": "markdown",
   "metadata": {},
   "source": [
    "# K-Neighbors"
   ]
  },
  {
   "cell_type": "code",
   "execution_count": 82,
   "metadata": {},
   "outputs": [],
   "source": [
    "# All features\n",
    "knn = KNeighborsClassifier(n_neighbors=3)\n",
    "knn = knn.fit(x_train, y_train)\n",
    "y_pred_kn = knn.predict(x_test)\n",
    "kn_all = accuracy_score(y_test, y_pred_kn)"
   ]
  },
  {
   "cell_type": "code",
   "execution_count": 83,
   "metadata": {},
   "outputs": [],
   "source": [
    "# Chi2\n",
    "KN_chi2 = KNeighborsClassifier(n_neighbors=3)\n",
    "KN_chi2 = KN_chi2.fit(x_train_chi2, y_train)\n",
    "y_pred_chi2_kn = KN_chi2.predict(x_test_chi2)\n",
    "kn_chi2 = accuracy_score(y_test, y_pred_chi2_kn)"
   ]
  },
  {
   "cell_type": "code",
   "execution_count": 84,
   "metadata": {},
   "outputs": [],
   "source": [
    "# Anova\n",
    "KN_anova = KNeighborsClassifier(n_neighbors=3)     \n",
    "KN_anova = KN_anova.fit(x_train_anova, y_train)\n",
    "y_pred_anova_kn = KN_anova.predict(x_test_anova)\n",
    "kn_anova = accuracy_score(y_test, y_pred_anova_kn)\n"
   ]
  },
  {
   "cell_type": "code",
   "execution_count": 85,
   "metadata": {},
   "outputs": [],
   "source": [
    "# Mutual information\n",
    "KN_mutual = KNeighborsClassifier(n_neighbors=3)\n",
    "KN_mutual = KN_mutual.fit(x_train_mutual, y_train)\n",
    "y_pred_mutual_kn = KN_mutual.predict(x_test_mutual)\n",
    "kn_mutual = accuracy_score(y_test, y_pred_mutual_kn)"
   ]
  },
  {
   "cell_type": "markdown",
   "metadata": {},
   "source": [
    "# Gaussian Naive Bayes"
   ]
  },
  {
   "cell_type": "code",
   "execution_count": 86,
   "metadata": {},
   "outputs": [],
   "source": [
    "# All features\n",
    "GNB = GaussianNB()\n",
    "GNB = GNB.fit(x_train, y_train)\n",
    "y_pred_gnb = GNB.predict(x_test)\n",
    "gnb_all = accuracy_score(y_test, y_pred_gnb)"
   ]
  },
  {
   "cell_type": "code",
   "execution_count": 87,
   "metadata": {},
   "outputs": [],
   "source": [
    "# Chi2\n",
    "GNB_chi2 = GaussianNB()\n",
    "GNB_chi2 = GNB_chi2.fit(x_train_chi2, y_train)\n",
    "y_pred_chi2_GNB = GNB_chi2.predict(x_test_chi2)\n",
    "GNB_chi2 = accuracy_score(y_test, y_pred_chi2_GNB)"
   ]
  },
  {
   "cell_type": "code",
   "execution_count": 88,
   "metadata": {},
   "outputs": [],
   "source": [
    "# Anova\n",
    "GNB_anova = GaussianNB()     \n",
    "GNB_anova = GNB_anova.fit(x_train_anova, y_train)\n",
    "y_pred_anova_GNB = GNB_anova.predict(x_test_anova)\n",
    "GNB_anova = accuracy_score(y_test, y_pred_anova_GNB)"
   ]
  },
  {
   "cell_type": "code",
   "execution_count": 89,
   "metadata": {},
   "outputs": [],
   "source": [
    "# Mutual information\n",
    "GNB_mutual = GaussianNB()\n",
    "GNB_mutual = GNB_mutual.fit(x_train_mutual, y_train)\n",
    "y_pred_mutual_GNB = GNB_mutual.predict(x_test_mutual)\n",
    "GNB_mutual = accuracy_score(y_test, y_pred_mutual_GNB)"
   ]
  },
  {
   "cell_type": "markdown",
   "metadata": {},
   "source": [
    "# Linear SVC"
   ]
  },
  {
   "cell_type": "code",
   "execution_count": 90,
   "metadata": {},
   "outputs": [],
   "source": [
    "# All features\n",
    "SVM = svm.LinearSVC()\n",
    "SVM = SVM.fit(x_train, y_train)\n",
    "y_pred_SVM = SVM.predict(x_test)\n",
    "SVM_all = accuracy_score(y_test, y_pred_SVM)"
   ]
  },
  {
   "cell_type": "code",
   "execution_count": 91,
   "metadata": {},
   "outputs": [],
   "source": [
    "# Chi2\n",
    "SVM_chi2 = svm.LinearSVC()\n",
    "SVM_chi2 = SVM_chi2.fit(x_train_chi2, y_train)\n",
    "y_pred_chi2_SVM = SVM_chi2.predict(x_test_chi2)\n",
    "SVM_chi2 = accuracy_score(y_test, y_pred_chi2_SVM)"
   ]
  },
  {
   "cell_type": "code",
   "execution_count": 92,
   "metadata": {},
   "outputs": [],
   "source": [
    "# Anova\n",
    "SVM_anova = svm.LinearSVC()     \n",
    "SVM_anova = SVM_anova.fit(x_train_anova, y_train)\n",
    "y_pred_anova_SVM = SVM_anova.predict(x_test_anova)\n",
    "SVM_anova = accuracy_score(y_test, y_pred_anova_SVM)"
   ]
  },
  {
   "cell_type": "code",
   "execution_count": 93,
   "metadata": {},
   "outputs": [],
   "source": [
    "# Mutual information\n",
    "SVM_mutual = svm.LinearSVC()\n",
    "SVM_mutual = SVM_mutual.fit(x_train_mutual, y_train)\n",
    "y_pred_mutual_SVM = SVM_mutual.predict(x_test_mutual)\n",
    "SVM_mutual = accuracy_score(y_test, y_pred_mutual_SVM)"
   ]
  },
  {
   "cell_type": "markdown",
   "metadata": {},
   "source": [
    "# Logistic Regression"
   ]
  },
  {
   "cell_type": "code",
   "execution_count": 94,
   "metadata": {},
   "outputs": [],
   "source": [
    "# All features\n",
    "model_logistic = LogisticRegression(solver='saga', multi_class='multinomial', max_iter=10000)\n",
    "logistic = model_logistic.fit(x_train, y_train)\n",
    "y_pred_logistic = logistic.predict(x_test)\n",
    "logistic_all = accuracy_score(y_test, y_pred_logistic)"
   ]
  },
  {
   "cell_type": "code",
   "execution_count": 95,
   "metadata": {},
   "outputs": [],
   "source": [
    "# Chi2\n",
    "logistic_chi2 = LogisticRegression(solver='saga', multi_class='multinomial', max_iter=10000)\n",
    "logistic_chi2 = logistic_chi2.fit(x_train_chi2, y_train)\n",
    "y_pred_chi2_logistic = logistic_chi2.predict(x_test_chi2)\n",
    "logistic_chi2 = accuracy_score(y_test, y_pred_chi2_logistic)"
   ]
  },
  {
   "cell_type": "code",
   "execution_count": 96,
   "metadata": {},
   "outputs": [],
   "source": [
    "# Anova\n",
    "logistic_anova = LogisticRegression(solver='saga', multi_class='multinomial', max_iter=10000)\n",
    "logistic_anova = logistic_anova.fit(x_train_anova, y_train)\n",
    "y_pred_anova_logistic = logistic_anova.predict(x_test_anova)\n",
    "logistic_anova = accuracy_score(y_test, y_pred_anova_logistic)"
   ]
  },
  {
   "cell_type": "code",
   "execution_count": 97,
   "metadata": {},
   "outputs": [],
   "source": [
    "# Mutual information\n",
    "logistic_mutual = LogisticRegression(solver='saga', multi_class='multinomial', max_iter=10000)\n",
    "logistic_mutual = logistic_mutual.fit(x_train_mutual, y_train)\n",
    "y_pred_mutual_logistic = logistic_mutual.predict(x_test_mutual)\n",
    "logistic_mutual = accuracy_score(y_test, y_pred_mutual_logistic)"
   ]
  },
  {
   "cell_type": "markdown",
   "metadata": {},
   "source": [
    "# Result (Accuracy)"
   ]
  },
  {
   "cell_type": "code",
   "execution_count": 98,
   "metadata": {},
   "outputs": [
    {
     "data": {
      "text/html": [
       "<div>\n",
       "<style scoped>\n",
       "    .dataframe tbody tr th:only-of-type {\n",
       "        vertical-align: middle;\n",
       "    }\n",
       "\n",
       "    .dataframe tbody tr th {\n",
       "        vertical-align: top;\n",
       "    }\n",
       "\n",
       "    .dataframe thead th {\n",
       "        text-align: right;\n",
       "    }\n",
       "</style>\n",
       "<table border=\"1\" class=\"dataframe\">\n",
       "  <thead>\n",
       "    <tr style=\"text-align: right;\">\n",
       "      <th></th>\n",
       "      <th>all features</th>\n",
       "      <th>Chi2</th>\n",
       "      <th>Anova</th>\n",
       "      <th>Mutual Info</th>\n",
       "    </tr>\n",
       "  </thead>\n",
       "  <tbody>\n",
       "    <tr>\n",
       "      <th>RF</th>\n",
       "      <td>[0.5359116022099447]</td>\n",
       "      <td>[0.5580110497237569]</td>\n",
       "      <td>[0.5367008681925809]</td>\n",
       "      <td>[0.5501183898973955]</td>\n",
       "    </tr>\n",
       "    <tr>\n",
       "      <th>KNN</th>\n",
       "      <td>[0.5311760063141279]</td>\n",
       "      <td>[0.5011838989739542]</td>\n",
       "      <td>[0.5335438042620363]</td>\n",
       "      <td>[0.5493291239147593]</td>\n",
       "    </tr>\n",
       "    <tr>\n",
       "      <th>GNB</th>\n",
       "      <td>[0.5035516969218626]</td>\n",
       "      <td>[0.43804262036306235]</td>\n",
       "      <td>[0.5335438042620363]</td>\n",
       "      <td>[0.5627466456195738]</td>\n",
       "    </tr>\n",
       "    <tr>\n",
       "      <th>SVM</th>\n",
       "      <td>[0.5785319652722968]</td>\n",
       "      <td>[0.56353591160221]</td>\n",
       "      <td>[0.5927387529597474]</td>\n",
       "      <td>[0.5627466456195738]</td>\n",
       "    </tr>\n",
       "    <tr>\n",
       "      <th>LR</th>\n",
       "      <td>[0.5816890292028414]</td>\n",
       "      <td>[0.56353591160221]</td>\n",
       "      <td>[0.5887924230465666]</td>\n",
       "      <td>[0.5627466456195738]</td>\n",
       "    </tr>\n",
       "  </tbody>\n",
       "</table>\n",
       "</div>"
      ],
      "text/plain": [
       "             all features                   Chi2                 Anova  \\\n",
       "RF   [0.5359116022099447]   [0.5580110497237569]  [0.5367008681925809]   \n",
       "KNN  [0.5311760063141279]   [0.5011838989739542]  [0.5335438042620363]   \n",
       "GNB  [0.5035516969218626]  [0.43804262036306235]  [0.5335438042620363]   \n",
       "SVM  [0.5785319652722968]     [0.56353591160221]  [0.5927387529597474]   \n",
       "LR   [0.5816890292028414]     [0.56353591160221]  [0.5887924230465666]   \n",
       "\n",
       "              Mutual Info  \n",
       "RF   [0.5501183898973955]  \n",
       "KNN  [0.5493291239147593]  \n",
       "GNB  [0.5627466456195738]  \n",
       "SVM  [0.5627466456195738]  \n",
       "LR   [0.5627466456195738]  "
      ]
     },
     "execution_count": 98,
     "metadata": {},
     "output_type": "execute_result"
    }
   ],
   "source": [
    "accuracy_result_RF = {'all features':[rf_all], 'Chi2':[rf_chi2], 'Anova':[rf_anova], 'Mutual Info':[rf_mutual]} \n",
    "accuracy_result_kn = {'all features':[kn_all], 'Chi2':[kn_chi2], 'Anova':[kn_anova], 'Mutual Info':[kn_mutual]} \n",
    "accuracy_result_GNB = {'all features':[gnb_all], 'Chi2':[GNB_chi2], 'Anova':[GNB_anova], 'Mutual Info':[GNB_mutual]} \n",
    "accuracy_result_SVM = {'all features':[SVM_all], 'Chi2':[SVM_chi2], 'Anova':[SVM_anova], 'Mutual Info':[SVM_mutual]} \n",
    "accuracy_result_logistic = {'all features':[logistic_all], 'Chi2':[logistic_chi2], 'Anova':[logistic_anova], 'Mutual Info':[logistic_mutual]} \n",
    "\n",
    "df_accuracy = pd.DataFrame([accuracy_result_RF, accuracy_result_kn, accuracy_result_GNB, accuracy_result_SVM , accuracy_result_logistic], index =['RF', 'KNN', 'GNB', 'SVM', 'LR'])\n",
    "df_accuracy"
   ]
  },
  {
   "cell_type": "code",
   "execution_count": 101,
   "metadata": {},
   "outputs": [
    {
     "data": {
      "text/plain": [
       "LogisticRegression(C=1.0, class_weight=None, dual=False, fit_intercept=True,\n",
       "                   intercept_scaling=1, l1_ratio=None, max_iter=10000,\n",
       "                   multi_class='multinomial', n_jobs=None, penalty='l2',\n",
       "                   random_state=None, solver='saga', tol=0.0001, verbose=0,\n",
       "                   warm_start=False)"
      ]
     },
     "execution_count": 101,
     "metadata": {},
     "output_type": "execute_result"
    },
    {
     "name": "stdout",
     "output_type": "stream",
     "text": [
      "confusion matrix [[128 425]\n",
      " [105 609]]\n",
      "accuracy score: 0.5816890292028414\n",
      "f1 score: 0.6967963386727688\n",
      "[0.56366308 0.56246938 0.56246938 0.56295933 0.5622549 ]\n"
     ]
    }
   ],
   "source": [
    "model_logistic = LogisticRegression(solver='saga', multi_class='multinomial', max_iter=10000)\n",
    "model_logistic.fit(x_train, y_train)\n",
    "predict = model_logistic.predict(x_test)\n",
    "print(\"confusion matrix\", confusion_matrix(y_test, predict))\n",
    "print(\"accuracy score:\", accuracy_score(y_test, predict))\n",
    "print(\"f1 score:\", f1_score(y_test, predict))\n",
    "\n",
    "\n",
    "#train model with cv of 5 \n",
    "cv_scores = cross_val_score(SVM, x_train_mutual, y_train, cv=5)\n",
    "\n",
    "#print each cv score (accuracy) and average them\n",
    "print(cv_scores)\n"
   ]
  },
  {
   "cell_type": "code",
   "execution_count": null,
   "metadata": {},
   "outputs": [],
   "source": []
  }
 ],
 "metadata": {
  "kernelspec": {
   "display_name": "Python 3",
   "language": "python",
   "name": "python3"
  },
  "language_info": {
   "codemirror_mode": {
    "name": "ipython",
    "version": 3
   },
   "file_extension": ".py",
   "mimetype": "text/x-python",
   "name": "python",
   "nbconvert_exporter": "python",
   "pygments_lexer": "ipython3",
   "version": "3.7.3"
  }
 },
 "nbformat": 4,
 "nbformat_minor": 4
}
