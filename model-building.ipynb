{
 "cells": [
  {
   "cell_type": "code",
   "execution_count": 32,
   "metadata": {},
   "outputs": [],
   "source": [
    "# reset variables\n",
    "from IPython import get_ipython\n",
    "get_ipython().magic('reset -sf') \n",
    "\n",
    "import numpy as np\n",
    "import pandas as pd\n",
    "import matplotlib.pyplot as plt\n",
    "import seaborn as sns\n",
    "%matplotlib inline\n",
    "from sklearn.model_selection import train_test_split\n",
    "from sklearn.preprocessing import LabelEncoder\n",
    "from sklearn.preprocessing import StandardScaler\n",
    "from sklearn.pipeline import Pipeline\n",
    "\n",
    "from sklearn.feature_selection import VarianceThreshold\n",
    "from sklearn import preprocessing # To get MinMax Scaler function\n",
    "\n",
    "# enable multiple outputs per cell\n",
    "from IPython.core.interactiveshell import InteractiveShell\n",
    "InteractiveShell.ast_node_interactivity = \"all\"\n",
    "\n",
    "# hide warnings\n",
    "import warnings\n",
    "warnings.filterwarnings('ignore')"
   ]
  },
  {
   "cell_type": "code",
   "execution_count": 33,
   "metadata": {},
   "outputs": [],
   "source": [
    "# test out various models\n",
    "from sklearn.linear_model import LogisticRegression\n",
    "from sklearn.svm import SVC, LinearSVC\n",
    "from sklearn.neighbors import KNeighborsClassifier\n",
    "from sklearn.tree import DecisionTreeClassifier\n",
    "from sklearn.ensemble import RandomForestClassifier\n",
    "from sklearn.naive_bayes import GaussianNB\n",
    "from sklearn.neural_network import MLPClassifier\n",
    "\n",
    "from sklearn.model_selection import cross_val_score"
   ]
  },
  {
   "cell_type": "code",
   "execution_count": 34,
   "metadata": {},
   "outputs": [],
   "source": [
    "# Read data file\n",
    "df_train = pd.read_csv('./datasets/train_extracted.csv'\n",
    "                 , sep=',', encoding='utf-8')\n",
    "\n",
    "df_test = pd.read_csv('./datasets/test_extracted.csv'\n",
    "                 , sep=',', encoding='utf-8')\n",
    "\n",
    "df_valid = pd.read_csv('./datasets/valid_extracted.csv'\n",
    "                 , sep=',', encoding='utf-8')\n",
    "\n",
    "#just in case of NaN values\n",
    "df_train = df_train.dropna();\n",
    "df_test = df_test.dropna();\n",
    "df_valid = df_valid.dropna();\n",
    "\n",
    "#data = pd.read_csv(\"../input/data.csv\", header=0)\n",
    "df = df_train\n",
    "seed = 5\n",
    "np.random.seed(seed)"
   ]
  },
  {
   "cell_type": "code",
   "execution_count": 35,
   "metadata": {},
   "outputs": [],
   "source": [
    "# change label into binary classification\n",
    "# pick out target data\n",
    "df_train.label.loc[(df_train['label'] >= 0.5)] = 1;\n",
    "df_train.label.loc[(df_train['label'] < 0.5)] = 0;\n",
    "df_train_target = df_train['label']\n",
    "\n",
    "df_test.label.loc[(df_test['label'] >= 0.5)] = 1;\n",
    "df_test.label.loc[(df_test['label'] < 0.5)] = 0;\n",
    "df_test_target = df_test['label']\n",
    "\n",
    "df_valid.label.loc[(df_valid['label'] >= 0.5)] = 1;\n",
    "df_valid.label.loc[(df_valid['label'] < 0.5)] = 0;\n",
    "df_valid_target = df_valid['label']"
   ]
  },
  {
   "cell_type": "code",
   "execution_count": 36,
   "metadata": {},
   "outputs": [],
   "source": [
    "# Select the columns to use, generated from feature-selection-wrapper forward selection method\n",
    "prediction_feature = ['num_-', 'num_\"', 'num_$', 'count_uppercase', 'count_pronoun', 'count_article'\n",
    "                  , 'count_discrep', 'count_affiliation', 'count_focuspast', 'count_money']\n",
    "df_train_feature = df_train[prediction_feature]\n",
    "df_valid_feature = df_valid[prediction_feature]\n",
    "df_test_feature = df_test[prediction_feature]"
   ]
  },
  {
   "cell_type": "code",
   "execution_count": 37,
   "metadata": {},
   "outputs": [],
   "source": [
    "# Initializing the MinMaxScaler function\n",
    "min_max_scaler = preprocessing.MinMaxScaler()\n",
    "#standard_scaler = preprocessing.StandardScaler()\n",
    "\n",
    "# Scaling dataset keeping the columns name\n",
    "df_train_feature_scaled = pd.DataFrame(min_max_scaler.fit_transform(df_train_feature), columns = df_train_feature.columns)\n",
    "df_valid_feature_scaled = pd.DataFrame(min_max_scaler.fit_transform(df_valid_feature), columns = df_valid_feature.columns)\n",
    "df_test_feature_scaled = pd.DataFrame(min_max_scaler.fit_transform(df_test_feature), columns = df_test_feature.columns)\n",
    "#X_scaled = pd.DataFrame(standard_scaler.fit_transform(X), columns = X.columns)"
   ]
  },
  {
   "cell_type": "code",
   "execution_count": 38,
   "metadata": {},
   "outputs": [],
   "source": [
    "models = []\n",
    "\n",
    "models.append((\"LogisticRegression\",LogisticRegression()))\n",
    "models.append((\"SVC\",SVC()))\n",
    "models.append((\"LinearSVC\",LinearSVC()))\n",
    "models.append((\"KNeighbors\",KNeighborsClassifier()))\n",
    "models.append((\"DecisionTree\",DecisionTreeClassifier()))\n",
    "models.append((\"RandomForest\",RandomForestClassifier()))\n",
    "rf2 = RandomForestClassifier(n_estimators=100, criterion='gini',\n",
    "                                max_depth=10, random_state=0, max_features=None)\n",
    "models.append((\"RandomForest2\",rf2))\n",
    "models.append((\"MLPClassifier\",MLPClassifier(solver='lbfgs', random_state=0)))"
   ]
  },
  {
   "cell_type": "code",
   "execution_count": 39,
   "metadata": {},
   "outputs": [
    {
     "name": "stdout",
     "output_type": "stream",
     "text": [
      "LogisticRegression 0.5615754194132748\n",
      "SVC 0.5619672881457146\n",
      "LinearSVC 0.5620651545543526\n",
      "KNeighbors 0.5278741325693361\n",
      "DecisionTree 0.5328696959012258\n",
      "RandomForest 0.5388457372599905\n",
      "RandomForest2 0.5503081424218547\n",
      "MLPClassifier 0.5636320536299858\n"
     ]
    }
   ],
   "source": [
    "results = []\n",
    "names = []\n",
    "for name,model in models:\n",
    "    result = cross_val_score(model, df_train_feature_scaled, df_train_target,  cv=3)\n",
    "    names.append(name)\n",
    "    results.append(result)\n",
    "\n",
    "for i in range(len(names)):\n",
    "    print(names[i],results[i].mean())"
   ]
  }
 ],
 "metadata": {
  "kernelspec": {
   "display_name": "Python 3",
   "language": "python",
   "name": "python3"
  },
  "language_info": {
   "codemirror_mode": {
    "name": "ipython",
    "version": 3
   },
   "file_extension": ".py",
   "mimetype": "text/x-python",
   "name": "python",
   "nbconvert_exporter": "python",
   "pygments_lexer": "ipython3",
   "version": "3.7.4"
  }
 },
 "nbformat": 4,
 "nbformat_minor": 2
}
