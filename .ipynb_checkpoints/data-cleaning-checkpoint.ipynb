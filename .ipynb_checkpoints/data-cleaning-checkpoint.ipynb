{
 "cells": [
  {
   "cell_type": "markdown",
   "metadata": {},
   "source": [
    "## Setting up"
   ]
  },
  {
   "cell_type": "code",
   "execution_count": 19,
   "metadata": {},
   "outputs": [],
   "source": [
    "import pandas as pd\n",
    "from sklearn.model_selection import train_test_split\n",
    "\n",
    "# enable multiple outputs per cell\n",
    "from IPython.core.interactiveshell import InteractiveShell\n",
    "InteractiveShell.ast_node_interactivity = \"all\""
   ]
  },
  {
   "cell_type": "markdown",
   "metadata": {},
   "source": [
    "## Preparing dataset into dataframe"
   ]
  },
  {
   "cell_type": "code",
   "execution_count": 20,
   "metadata": {},
   "outputs": [],
   "source": [
    "# header for dataset\n",
    "headernames = ['id', 'label', 'statement', 'subject', 'speaker', 'job', 'state', 'party',\n",
    "                   'barely_true', 'false', 'half_true', 'mostly_true', 'pants_on_fire', 'venue']\n",
    "\n",
    "df_train = pd.read_csv('./datasets/liar_dataset/train.tsv', sep='\\t', names=headernames)\n",
    "df_test = pd.read_csv('./datasets/liar_dataset/test.tsv', sep='\\t', names=headernames)\n",
    "df_valid = pd.read_csv('./datasets/liar_dataset/valid.tsv', sep='\\t', names=headernames)\n",
    "# grouping labels into true or fake"
   ]
  },
  {
   "cell_type": "markdown",
   "metadata": {},
   "source": [
    "## Having a look"
   ]
  },
  {
   "cell_type": "code",
   "execution_count": 21,
   "metadata": {},
   "outputs": [],
   "source": [
    "# remove duplicate data entries\n",
    "df_train.drop_duplicates(subset =\"statement\", \n",
    "                     keep = False, inplace = True)\n",
    "df_test.drop_duplicates(subset =\"statement\", \n",
    "                     keep = False, inplace = True)\n",
    "df_valid.drop_duplicates(subset =\"statement\", \n",
    "                     keep = False, inplace = True)"
   ]
  },
  {
   "cell_type": "code",
   "execution_count": 22,
   "metadata": {},
   "outputs": [],
   "source": [
    "# we are only doing text-content analysis\n",
    "# creating new dataframe with only statement and label\n",
    "statement_train = df_train[\"statement\"]\n",
    "label_train = df_train[\"label\"]\n",
    "train_cleaned = pd.concat([statement_train, label_train], axis=1)"
   ]
  },
  {
   "cell_type": "code",
   "execution_count": 23,
   "metadata": {},
   "outputs": [],
   "source": [
    "statement_test = df_test[\"statement\"]\n",
    "label_test = df_test[\"label\"]\n",
    "test_cleaned = pd.concat([statement_test, label_test], axis=1)"
   ]
  },
  {
   "cell_type": "code",
   "execution_count": 24,
   "metadata": {},
   "outputs": [],
   "source": [
    "statement_valid = df_valid[\"statement\"]\n",
    "label_valid = df_valid[\"label\"]\n",
    "valid_cleaned = pd.concat([statement_valid, label_valid], axis=1)"
   ]
  },
  {
   "cell_type": "code",
   "execution_count": 25,
   "metadata": {},
   "outputs": [],
   "source": [
    "# change label string to numerical values\n",
    "truth_val = {'false':0.,'half-true':0.5,'mostly-true':0.75,'true':1.\n",
    "         ,'pants-fire':-0.25,'barely-true':0.25}\n",
    "\n",
    "train_cleaned = train_cleaned.replace({\"label\":truth_val})\n",
    "test_cleaned = test_cleaned.replace({\"label\":truth_val})\n",
    "valid_cleaned = valid_cleaned.replace({\"label\":truth_val})"
   ]
  },
  {
   "cell_type": "code",
   "execution_count": 26,
   "metadata": {},
   "outputs": [],
   "source": [
    "train_cleaned.to_csv('./datasets/train_cleaned.csv', sep=',', encoding='utf-8', index=False)\n",
    "test_cleaned.to_csv('./datasets/test_cleaned.csv', sep=',', encoding='utf-8', index=False)\n",
    "valid_cleaned.to_csv('./datasets/valid_cleaned.csv', sep=',', encoding='utf-8', index=False)"
   ]
  }
 ],
 "metadata": {
  "kernelspec": {
   "display_name": "Python 3",
   "language": "python",
   "name": "python3"
  },
  "language_info": {
   "codemirror_mode": {
    "name": "ipython",
    "version": 3
   },
   "file_extension": ".py",
   "mimetype": "text/x-python",
   "name": "python",
   "nbconvert_exporter": "python",
   "pygments_lexer": "ipython3",
   "version": "3.7.4"
  }
 },
 "nbformat": 4,
 "nbformat_minor": 2
}
