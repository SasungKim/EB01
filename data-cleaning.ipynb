{
 "cells": [
  {
   "cell_type": "markdown",
   "metadata": {},
   "source": [
    "## Setting up"
   ]
  },
  {
   "cell_type": "code",
   "execution_count": 35,
   "metadata": {},
   "outputs": [],
   "source": [
    "import pandas as pd\n",
    "\n",
    "# enable multiple outputs per cell\n",
    "from IPython.core.interactiveshell import InteractiveShell\n",
    "InteractiveShell.ast_node_interactivity = \"all\""
   ]
  },
  {
   "cell_type": "markdown",
   "metadata": {},
   "source": [
    "## Preparing dataset into dataframe"
   ]
  },
  {
   "cell_type": "code",
   "execution_count": 36,
   "metadata": {},
   "outputs": [],
   "source": [
    "# header for dataset\n",
    "headernames = ['id', 'label', 'statement', 'subject', 'speaker', 'job', 'state', 'party',\n",
    "                   'barely_true', 'false', 'half_true', 'mostly_true', 'pants_on_fire', 'venue']\n",
    "\n",
    "df_train = pd.read_csv('./datasets/liar_dataset/train.tsv', sep='\\t', names=headernames)\n",
    "df_test = pd.read_csv('./datasets/liar_dataset/test.tsv', sep='\\t', names=headernames)\n",
    "df_valid = pd.read_csv('./datasets/liar_dataset/valid.tsv', sep='\\t', names=headernames)\n",
    "# joining every dataset for uniform cleaning\n",
    "df_total = pd.concat([df_train, df_valid,df_test])\n",
    "# grouping labels into true or fake"
   ]
  },
  {
   "cell_type": "markdown",
   "metadata": {},
   "source": [
    "## Having a look"
   ]
  },
  {
   "cell_type": "code",
   "execution_count": 37,
   "metadata": {},
   "outputs": [],
   "source": [
    "# we are only doing text-content analysis\n",
    "# creating new dataframe with only statement and label\n",
    "statement = df_total[\"statement\"]\n",
    "label = df_total[\"label\"]\n",
    "df = pd.concat([statement, label], axis=1)"
   ]
  },
  {
   "cell_type": "code",
   "execution_count": 38,
   "metadata": {},
   "outputs": [],
   "source": [
    "# change label string to numerical values\n",
    "truth_val = {'false':0.,'half-true':0.5,'mostly-true':0.75,'true':1.\n",
    "         ,'pants-fire':-0.25,'barely-true':0.25}\n",
    "\n",
    "df = df.replace({\"label\":truth_val})"
   ]
  },
  {
   "cell_type": "code",
   "execution_count": 39,
   "metadata": {},
   "outputs": [],
   "source": [
    "df.to_csv('liar_dataset.csv', sep=',', encoding='utf-8', index=False)"
   ]
  }
 ],
 "metadata": {
  "kernelspec": {
   "display_name": "Python 3",
   "language": "python",
   "name": "python3"
  },
  "language_info": {
   "codemirror_mode": {
    "name": "ipython",
    "version": 3
   },
   "file_extension": ".py",
   "mimetype": "text/x-python",
   "name": "python",
   "nbconvert_exporter": "python",
   "pygments_lexer": "ipython3",
   "version": "3.7.4"
  }
 },
 "nbformat": 4,
 "nbformat_minor": 2
}
